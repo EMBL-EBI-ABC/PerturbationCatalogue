{
 "cells": [
  {
   "cell_type": "markdown",
   "id": "270caf2b",
   "metadata": {},
   "source": [
    "# Import"
   ]
  },
  {
   "cell_type": "code",
   "execution_count": 1,
   "id": "ca18b51d",
   "metadata": {},
   "outputs": [],
   "source": [
    "import pandas as pd\n",
    "\n",
    "import sys\n",
    "\n",
    "sys.path.append(\"../../\")\n",
    "from curation_tools.curation_tools import CuratedDataset\n",
    "from curation_tools.perturbseq_anndata_schema import ObsSchema, VarSchema\n",
    "\n",
    "from curation_tools.unified_metadata_schema.unified_metadata_schema import Experiment"
   ]
  },
  {
   "cell_type": "markdown",
   "id": "2d0e5973",
   "metadata": {},
   "source": [
    "# Initialise the dataset object"
   ]
  },
  {
   "cell_type": "code",
   "execution_count": 2,
   "id": "659fd697",
   "metadata": {},
   "outputs": [],
   "source": [
    "cur_data = CuratedDataset(\n",
    "    obs_schema=ObsSchema,\n",
    "    var_schema=VarSchema,\n",
    "    exp_metadata_schema=Experiment,\n",
    "    data_source_link = \"https://zenodo.org/record/7041849/files/AdamsonWeissman2016_GSM2406677_10X005.h5ad\",\n",
    "    noncurated_path = \"../non_curated/h5ad/adamson_2016_upr_epistasis.h5ad\"\n",
    ")"
   ]
  },
  {
   "cell_type": "markdown",
   "id": "848c76f2",
   "metadata": {},
   "source": [
    "# Download the dataset"
   ]
  },
  {
   "cell_type": "code",
   "execution_count": 3,
   "id": "c7a28f0c",
   "metadata": {},
   "outputs": [
    {
     "name": "stdout",
     "output_type": "stream",
     "text": [
      "File ../non_curated/h5ad/adamson_2016_upr_epistasis.h5ad already exists. Skipping download.\n",
      "Loading data from ../non_curated/h5ad/adamson_2016_upr_epistasis.h5ad\n",
      "Observation data:\n",
      "DataFrame shape: (15006, 15)\n",
      "--------------------------------------------------\n",
      "                         perturbation  read count  UMI count tissue_type  \\\n",
      "cell_barcode                                                               \n",
      "AAACATACACTCAG   3x_neg_ctrl_pMJ144-1       261.0       59.0   cell_line   \n",
      "AAACATACTCCTAT   3x_neg_ctrl_pMJ144-2       132.0       37.0   cell_line   \n",
      "AAACATTGCAGAGG   3x_neg_ctrl_pMJ144-2       560.0      117.0   cell_line   \n",
      "AAACATTGGCGAAG  ATF6_PERK_IRE1_pMJ158       215.0       49.0   cell_line   \n",
      "AAACCGTGATACCG       ATF6_PERK_pMJ150       567.0      124.0   cell_line   \n",
      "...                               ...         ...        ...         ...   \n",
      "TTTGACTGGCTTAG       PERK_only_pMJ146       215.0       60.0   cell_line   \n",
      "TTTGACTGGGGATG       PERK_IRE1_pMJ154        64.0       16.0   cell_line   \n",
      "TTTGACTGTGGTCA   3x_neg_ctrl_pMJ144-1       218.0       43.0   cell_line   \n",
      "TTTGCATGCGGAGA       PERK_IRE1_pMJ154       284.0       45.0   cell_line   \n",
      "TTTGCATGTATCTC   3x_neg_ctrl_pMJ144-1       126.0       27.0   cell_line   \n",
      "\n",
      "               cell_line  cancer                       disease  \\\n",
      "cell_barcode                                                     \n",
      "AAACATACACTCAG      K562    True  chronic myelogenous leukemia   \n",
      "AAACATACTCCTAT      K562    True  chronic myelogenous leukemia   \n",
      "AAACATTGCAGAGG      K562    True  chronic myelogenous leukemia   \n",
      "AAACATTGGCGAAG      K562    True  chronic myelogenous leukemia   \n",
      "AAACCGTGATACCG      K562    True  chronic myelogenous leukemia   \n",
      "...                  ...     ...                           ...   \n",
      "TTTGACTGGCTTAG      K562    True  chronic myelogenous leukemia   \n",
      "TTTGACTGGGGATG      K562    True  chronic myelogenous leukemia   \n",
      "TTTGACTGTGGTCA      K562    True  chronic myelogenous leukemia   \n",
      "TTTGCATGCGGAGA      K562    True  chronic myelogenous leukemia   \n",
      "TTTGCATGTATCTC      K562    True  chronic myelogenous leukemia   \n",
      "\n",
      "               perturbation_type      celltype organism  ncounts  ngenes  \\\n",
      "cell_barcode                                                               \n",
      "AAACATACACTCAG            CRISPR  lymphoblasts    human  24343.0    4164   \n",
      "AAACATACTCCTAT            CRISPR  lymphoblasts    human  27678.0    4428   \n",
      "AAACATTGCAGAGG            CRISPR  lymphoblasts    human  24745.0    4371   \n",
      "AAACATTGGCGAAG            CRISPR  lymphoblasts    human  30836.0    4551   \n",
      "AAACCGTGATACCG            CRISPR  lymphoblasts    human  33314.0    4539   \n",
      "...                          ...           ...      ...      ...     ...   \n",
      "TTTGACTGGCTTAG            CRISPR  lymphoblasts    human  34472.0    4645   \n",
      "TTTGACTGGGGATG            CRISPR  lymphoblasts    human  27671.0    4655   \n",
      "TTTGACTGTGGTCA            CRISPR  lymphoblasts    human  26795.0    4238   \n",
      "TTTGCATGCGGAGA            CRISPR  lymphoblasts    human  28974.0    4382   \n",
      "TTTGCATGTATCTC            CRISPR  lymphoblasts    human  30050.0    4489   \n",
      "\n",
      "                percent_mito  percent_ribo  nperts  \n",
      "cell_barcode                                        \n",
      "AAACATACACTCAG      4.563941     32.629505       4  \n",
      "AAACATACTCCTAT      4.508996     28.658140       4  \n",
      "AAACATTGCAGAGG      3.200647     31.117397       4  \n",
      "AAACATTGGCGAAG      3.132702     29.890388       4  \n",
      "AAACCGTGATACCG      6.588821     35.984871       3  \n",
      "...                      ...           ...     ...  \n",
      "TTTGACTGGCTTAG      3.437572     31.933163       3  \n",
      "TTTGACTGGGGATG      4.033103     27.219833       3  \n",
      "TTTGACTGTGGTCA      4.545624     31.991043       4  \n",
      "TTTGCATGCGGAGA      2.626493     30.271969       3  \n",
      "TTTGCATGTATCTC      3.221298     32.013309       4  \n",
      "\n",
      "[15006 rows x 15 columns]\n",
      "--------------------------------------------------\n"
     ]
    }
   ],
   "source": [
    "cur_data.download_data()\n",
    "cur_data.load_data()\n",
    "# show the data\n",
    "cur_data.show_obs()"
   ]
  },
  {
   "cell_type": "code",
   "execution_count": 4,
   "id": "fe64c691",
   "metadata": {},
   "outputs": [
    {
     "name": "stdout",
     "output_type": "stream",
     "text": [
      "Variable data:\n",
      "DataFrame shape: (32738, 3)\n",
      "--------------------------------------------------\n",
      "                   ensembl_id  ncounts  ncells\n",
      "gene_symbol                                   \n",
      "MIR1302-10    ENSG00000243485      2.0       2\n",
      "FAM138A       ENSG00000237613      0.0       0\n",
      "OR4F5         ENSG00000186092      0.0       0\n",
      "RP11-34P13.7  ENSG00000238009      1.0       1\n",
      "RP11-34P13.8  ENSG00000239945      2.0       2\n",
      "...                       ...      ...     ...\n",
      "AC145205.1    ENSG00000215635      0.0       0\n",
      "BAGE5         ENSG00000268590      0.0       0\n",
      "CU459201.1    ENSG00000251180      0.0       0\n",
      "AC002321.2    ENSG00000215616      0.0       0\n",
      "AC002321.1    ENSG00000215611      0.0       0\n",
      "\n",
      "[32738 rows x 3 columns]\n",
      "--------------------------------------------------\n"
     ]
    }
   ],
   "source": [
    "cur_data.show_var()"
   ]
  },
  {
   "cell_type": "markdown",
   "id": "383e2f64",
   "metadata": {},
   "source": [
    "# OBS slot curation"
   ]
  },
  {
   "cell_type": "markdown",
   "id": "7c08e4be",
   "metadata": {},
   "source": [
    "### Show unique perturbations"
   ]
  },
  {
   "cell_type": "code",
   "execution_count": 5,
   "id": "8c35039f",
   "metadata": {},
   "outputs": [
    {
     "name": "stdout",
     "output_type": "stream",
     "text": [
      "Unique values in adata.obs.perturbation: 21\n",
      "--------------------------------------------------\n",
      "{nan,\n",
      " '*',\n",
      " '3x_neg_ctrl_pMJ144-1',\n",
      " '3x_neg_ctrl_pMJ144-2',\n",
      " 'ATF4_pBA576',\n",
      " 'ATF6_IRE1_pMJ152',\n",
      " 'ATF6_PERK_IRE1_pMJ158',\n",
      " 'ATF6_PERK_pMJ150',\n",
      " 'ATF6_only_pMJ145',\n",
      " 'C7orf26_pDS004',\n",
      " 'Gal4-4(mod)_pBA582',\n",
      " 'IER3IP1_pDS003',\n",
      " 'IRE1_only_pMJ148',\n",
      " 'PERK_IRE1_pMJ154',\n",
      " 'PERK_only_pMJ146',\n",
      " 'PSMA1_pDS007',\n",
      " 'PSMD12_pDS009',\n",
      " 'SNAI1_pDS266',\n",
      " 'XBP1_pBA578',\n",
      " 'XBP1_pBA579',\n",
      " 'YIPF5_pDS001'}\n",
      "--------------------------------------------------\n"
     ]
    }
   ],
   "source": [
    "cur_data.show_unique(slot = 'obs', column = 'perturbation')"
   ]
  },
  {
   "cell_type": "markdown",
   "id": "aa8a54c1",
   "metadata": {},
   "source": [
    "### Drop NAs"
   ]
  },
  {
   "cell_type": "code",
   "execution_count": 6,
   "id": "3e2eda1b",
   "metadata": {},
   "outputs": [
    {
     "name": "stdout",
     "output_type": "stream",
     "text": [
      "Removed 296 NA entries from column perturbation of adata.obs\n"
     ]
    }
   ],
   "source": [
    "cur_data.remove_na(slot = 'obs', column = 'perturbation')"
   ]
  },
  {
   "cell_type": "markdown",
   "id": "c6a9f654",
   "metadata": {},
   "source": [
    "### Drop \"*\" entries"
   ]
  },
  {
   "cell_type": "code",
   "execution_count": 7,
   "id": "65ce4911",
   "metadata": {},
   "outputs": [
    {
     "name": "stdout",
     "output_type": "stream",
     "text": [
      "Removed 13 entries \\* from column perturbation of adata.obs\n"
     ]
    },
    {
     "name": "stderr",
     "output_type": "stream",
     "text": [
      "<>:1: SyntaxWarning: invalid escape sequence '\\*'\n",
      "<>:1: SyntaxWarning: invalid escape sequence '\\*'\n",
      "/var/folders/f_/7vds5wkn7vn5h991mk4_ybt80000gp/T/ipykernel_20557/814522886.py:1: SyntaxWarning: invalid escape sequence '\\*'\n",
      "  cur_data.remove_entries(slot = 'obs', column = 'perturbation', to_remove = '\\*')\n"
     ]
    }
   ],
   "source": [
    "cur_data.remove_entries(slot = 'obs', column = 'perturbation', to_remove = '\\*')"
   ]
  },
  {
   "cell_type": "code",
   "execution_count": 8,
   "id": "dbb9c89d",
   "metadata": {},
   "outputs": [
    {
     "name": "stdout",
     "output_type": "stream",
     "text": [
      "Unique values in adata.obs.perturbation: 19\n",
      "--------------------------------------------------\n",
      "{'3x_neg_ctrl_pMJ144-1',\n",
      " '3x_neg_ctrl_pMJ144-2',\n",
      " 'ATF4_pBA576',\n",
      " 'ATF6_IRE1_pMJ152',\n",
      " 'ATF6_PERK_IRE1_pMJ158',\n",
      " 'ATF6_PERK_pMJ150',\n",
      " 'ATF6_only_pMJ145',\n",
      " 'C7orf26_pDS004',\n",
      " 'Gal4-4(mod)_pBA582',\n",
      " 'IER3IP1_pDS003',\n",
      " 'IRE1_only_pMJ148',\n",
      " 'PERK_IRE1_pMJ154',\n",
      " 'PERK_only_pMJ146',\n",
      " 'PSMA1_pDS007',\n",
      " 'PSMD12_pDS009',\n",
      " 'SNAI1_pDS266',\n",
      " 'XBP1_pBA578',\n",
      " 'XBP1_pBA579',\n",
      " 'YIPF5_pDS001'}\n",
      "--------------------------------------------------\n"
     ]
    }
   ],
   "source": [
    "cur_data.show_unique(slot = 'obs', column = 'perturbation')"
   ]
  },
  {
   "cell_type": "markdown",
   "id": "d2b5bd29",
   "metadata": {},
   "source": [
    "### Rename `perturbation` to `perturbation_name`"
   ]
  },
  {
   "cell_type": "code",
   "execution_count": 9,
   "id": "b57adb98",
   "metadata": {},
   "outputs": [
    {
     "name": "stdout",
     "output_type": "stream",
     "text": [
      "Renamed columns in adata.obs: {'perturbation': 'perturbation_name'}\n"
     ]
    }
   ],
   "source": [
    "cur_data.rename_columns(slot = 'obs', name_dict = {'perturbation': 'perturbation_name'})"
   ]
  },
  {
   "cell_type": "markdown",
   "id": "e9903d8b",
   "metadata": {},
   "source": [
    "### Add guide RNA information"
   ]
  },
  {
   "cell_type": "code",
   "execution_count": 10,
   "id": "ec94c92f",
   "metadata": {},
   "outputs": [
    {
     "name": "stdout",
     "output_type": "stream",
     "text": [
      "Column guide_sequence added to adata.obs\n"
     ]
    }
   ],
   "source": [
    "# Not reported by study authors for this dataset\n",
    "cur_data.create_columns(\n",
    "    slot='obs',\n",
    "    col_dict={\n",
    "        'guide_sequence': None\n",
    "    }\n",
    ")"
   ]
  },
  {
   "cell_type": "markdown",
   "id": "89d4b801",
   "metadata": {},
   "source": [
    "### Extract perturbation symbols"
   ]
  },
  {
   "cell_type": "markdown",
   "id": "830d42d2",
   "metadata": {},
   "source": [
    "#### Add `perturbation_target_symbol` column based on the `perturbation_name`"
   ]
  },
  {
   "cell_type": "code",
   "execution_count": 11,
   "id": "b4b6462f",
   "metadata": {},
   "outputs": [
    {
     "name": "stdout",
     "output_type": "stream",
     "text": [
      "Column perturbed_target_symbol added to adata.obs\n",
      "Unique values in adata.obs.perturbed_target_symbol: 19\n",
      "--------------------------------------------------\n",
      "{'3x_neg_ctrl_pMJ144-1',\n",
      " '3x_neg_ctrl_pMJ144-2',\n",
      " 'ATF4_pBA576',\n",
      " 'ATF6_IRE1_pMJ152',\n",
      " 'ATF6_PERK_IRE1_pMJ158',\n",
      " 'ATF6_PERK_pMJ150',\n",
      " 'ATF6_only_pMJ145',\n",
      " 'C7orf26_pDS004',\n",
      " 'Gal4-4(mod)_pBA582',\n",
      " 'IER3IP1_pDS003',\n",
      " 'IRE1_only_pMJ148',\n",
      " 'PERK_IRE1_pMJ154',\n",
      " 'PERK_only_pMJ146',\n",
      " 'PSMA1_pDS007',\n",
      " 'PSMD12_pDS009',\n",
      " 'SNAI1_pDS266',\n",
      " 'XBP1_pBA578',\n",
      " 'XBP1_pBA579',\n",
      " 'YIPF5_pDS001'}\n",
      "--------------------------------------------------\n"
     ]
    }
   ],
   "source": [
    "cur_data.create_columns(\n",
    "    slot=\"obs\", col_dict={\"perturbed_target_symbol\": cur_data.adata.obs[\"perturbation_name\"]},\n",
    "    overwrite=True\n",
    ")\n",
    "cur_data.show_unique(slot = 'obs', column = 'perturbed_target_symbol')"
   ]
  },
  {
   "cell_type": "markdown",
   "id": "8c490dea",
   "metadata": {},
   "source": [
    "#### Clean up `perturbation_target_symbol` column"
   ]
  },
  {
   "cell_type": "code",
   "execution_count": 13,
   "id": "4fcbf8f2",
   "metadata": {},
   "outputs": [
    {
     "name": "stdout",
     "output_type": "stream",
     "text": [
      "Replaced '3x_neg_ctrl.*' with 'control_nontargeting' in column perturbed_target_symbol of adata.obs\n",
      "Replaced 'Gal4-4.*' with 'control_nontargeting' in column perturbed_target_symbol of adata.obs\n",
      "Replaced '_(pM|pD|pB|only).*' with '' in column perturbed_target_symbol of adata.obs\n",
      "Unique values in adata.obs.perturbed_target_symbol: 16\n",
      "--------------------------------------------------\n",
      "{'ATF4',\n",
      " 'ATF6',\n",
      " 'ATF6_IRE1',\n",
      " 'ATF6_PERK',\n",
      " 'ATF6_PERK_IRE1',\n",
      " 'C7orf26',\n",
      " 'IER3IP1',\n",
      " 'IRE1',\n",
      " 'PERK',\n",
      " 'PERK_IRE1',\n",
      " 'PSMA1',\n",
      " 'PSMD12',\n",
      " 'SNAI1',\n",
      " 'XBP1',\n",
      " 'YIPF5',\n",
      " 'control_nontargeting'}\n",
      "--------------------------------------------------\n"
     ]
    },
    {
     "name": "stderr",
     "output_type": "stream",
     "text": [
      "/Users/zakirov/Documents/GitHub/PerturbationCatalogue/data_exploration/Perturbseq/curation_notebooks/../../curation_tools/curation_tools.py:282: UserWarning: This pattern is interpreted as a regular expression, and has match groups. To actually get the groups, use str.extract.\n",
      "  if df[column].str.contains(old_val).any():\n"
     ]
    }
   ],
   "source": [
    "cur_data.replace_entries(\n",
    "    slot=\"obs\",\n",
    "    column=\"perturbed_target_symbol\",\n",
    "    map_dict={\n",
    "        r\"3x_neg_ctrl.*\": \"control_nontargeting\",\n",
    "        r\"Gal4-4.*\": \"control_nontargeting\",\n",
    "        r\"_(pM|pD|pB|only).*\": \"\"\n",
    "    }\n",
    ")\n",
    "\n",
    "cur_data.show_unique(slot = 'obs', column = 'perturbed_target_symbol')"
   ]
  },
  {
   "cell_type": "markdown",
   "id": "02b02e25",
   "metadata": {},
   "source": [
    "### Standardise perturbation targets"
   ]
  },
  {
   "cell_type": "code",
   "execution_count": 14,
   "id": "9e0c0790",
   "metadata": {},
   "outputs": [
    {
     "name": "stderr",
     "output_type": "stream",
     "text": [
      "/Users/zakirov/Documents/GitHub/PerturbationCatalogue/data_exploration/Perturbseq/curation_notebooks/../../curation_tools/curation_tools.py:1216: SettingWithCopyWarning: \n",
      "A value is trying to be set on a copy of a slice from a DataFrame.\n",
      "Try using .loc[row_indexer,col_indexer] = value instead\n",
      "\n",
      "See the caveats in the documentation: https://pandas.pydata.org/pandas-docs/stable/user_guide/indexing.html#returning-a-view-versus-a-copy\n",
      "  map_df[\"synonyms\"] = map_df[\"synonyms\"].str.split(\"|\")\n"
     ]
    },
    {
     "name": "stdout",
     "output_type": "stream",
     "text": [
      "Mapped potential synonyms in perturbed_target_symbol of the provided dataframe to gene symbols\n",
      "Converted 22762/26130 gene symbols/ENSG IDs to standardized gene symbols/ENSG IDs\n",
      "--------------------------------------------------\n",
      "Collapsed column index using separator |\n"
     ]
    }
   ],
   "source": [
    "cur_data.standardize_genes(\n",
    "    slot='obs',\n",
    "    input_column='perturbed_target_symbol',\n",
    "    input_column_type='gene_symbol',\n",
    "    multiple_entries=True,\n",
    "    multiple_entries_sep='_'\n",
    ")"
   ]
  },
  {
   "cell_type": "markdown",
   "id": "98719978",
   "metadata": {},
   "source": [
    "### Add `perturbed_target_number` column"
   ]
  },
  {
   "cell_type": "code",
   "execution_count": 15,
   "id": "168c267a",
   "metadata": {},
   "outputs": [
    {
     "name": "stdout",
     "output_type": "stream",
     "text": [
      "Counted entries in column perturbed_target_symbol of adata.obs and stored in perturbed_target_number\n"
     ]
    }
   ],
   "source": [
    "cur_data.count_entries(\n",
    "    slot='obs',\n",
    "    input_column='perturbed_target_symbol',\n",
    "    count_column_name='perturbed_target_number',\n",
    "    sep='|'\n",
    ")"
   ]
  },
  {
   "cell_type": "markdown",
   "id": "e85e0827",
   "metadata": {},
   "source": [
    "### Add treatment information"
   ]
  },
  {
   "cell_type": "markdown",
   "id": "c1af1a26",
   "metadata": {},
   "source": [
    "Data is stored in a separate file, as part of the `cell BC` column's suffix\n"
   ]
  },
  {
   "cell_type": "code",
   "execution_count": 16,
   "id": "907589fc",
   "metadata": {},
   "outputs": [
    {
     "data": {
      "application/vnd.microsoft.datawrangler.viewer.v0+json": {
       "columns": [
        {
         "name": "index",
         "rawType": "int64",
         "type": "integer"
        },
        {
         "name": "cell BC",
         "rawType": "object",
         "type": "string"
        },
        {
         "name": "guide identity",
         "rawType": "object",
         "type": "string"
        }
       ],
       "ref": "a1c4c42a-85fa-4726-a65f-48e9cadf6550",
       "rows": [
        [
         "0",
         "ACGGTATGCTTAGG-3",
         "PERK_IRE1_pMJ154"
        ],
        [
         "1",
         "ACAATCCTACCCTC-1",
         "PERK_IRE1_pMJ154"
        ],
        [
         "2",
         "ACGAACACGTGCTA-3",
         "ATF6_PERK_IRE1_pMJ158"
        ],
        [
         "3",
         "CTGTGAGATTGGTG-1",
         "ATF6_PERK_IRE1_pMJ158"
        ],
        [
         "4",
         "ATGTTGCTAATCGC-2",
         "3x_neg_ctrl_pMJ144-2"
        ]
       ],
       "shape": {
        "columns": 2,
        "rows": 5
       }
      },
      "text/html": [
       "<div>\n",
       "<style scoped>\n",
       "    .dataframe tbody tr th:only-of-type {\n",
       "        vertical-align: middle;\n",
       "    }\n",
       "\n",
       "    .dataframe tbody tr th {\n",
       "        vertical-align: top;\n",
       "    }\n",
       "\n",
       "    .dataframe thead th {\n",
       "        text-align: right;\n",
       "    }\n",
       "</style>\n",
       "<table border=\"1\" class=\"dataframe\">\n",
       "  <thead>\n",
       "    <tr style=\"text-align: right;\">\n",
       "      <th></th>\n",
       "      <th>cell BC</th>\n",
       "      <th>guide identity</th>\n",
       "    </tr>\n",
       "  </thead>\n",
       "  <tbody>\n",
       "    <tr>\n",
       "      <th>0</th>\n",
       "      <td>ACGGTATGCTTAGG-3</td>\n",
       "      <td>PERK_IRE1_pMJ154</td>\n",
       "    </tr>\n",
       "    <tr>\n",
       "      <th>1</th>\n",
       "      <td>ACAATCCTACCCTC-1</td>\n",
       "      <td>PERK_IRE1_pMJ154</td>\n",
       "    </tr>\n",
       "    <tr>\n",
       "      <th>2</th>\n",
       "      <td>ACGAACACGTGCTA-3</td>\n",
       "      <td>ATF6_PERK_IRE1_pMJ158</td>\n",
       "    </tr>\n",
       "    <tr>\n",
       "      <th>3</th>\n",
       "      <td>CTGTGAGATTGGTG-1</td>\n",
       "      <td>ATF6_PERK_IRE1_pMJ158</td>\n",
       "    </tr>\n",
       "    <tr>\n",
       "      <th>4</th>\n",
       "      <td>ATGTTGCTAATCGC-2</td>\n",
       "      <td>3x_neg_ctrl_pMJ144-2</td>\n",
       "    </tr>\n",
       "  </tbody>\n",
       "</table>\n",
       "</div>"
      ],
      "text/plain": [
       "            cell BC         guide identity\n",
       "0  ACGGTATGCTTAGG-3       PERK_IRE1_pMJ154\n",
       "1  ACAATCCTACCCTC-1       PERK_IRE1_pMJ154\n",
       "2  ACGAACACGTGCTA-3  ATF6_PERK_IRE1_pMJ158\n",
       "3  CTGTGAGATTGGTG-1  ATF6_PERK_IRE1_pMJ158\n",
       "4  ATGTTGCTAATCGC-2   3x_neg_ctrl_pMJ144-2"
      ]
     },
     "metadata": {},
     "output_type": "display_data"
    },
    {
     "data": {
      "application/vnd.microsoft.datawrangler.viewer.v0+json": {
       "columns": [
        {
         "name": "cell_barcode",
         "rawType": "object",
         "type": "string"
        },
        {
         "name": "treatment_temp",
         "rawType": "object",
         "type": "string"
        }
       ],
       "ref": "a869daed-f01b-4aa4-a5fa-b5605348ca07",
       "rows": [
        [
         "ACGGTATGCTTAGG",
         "DMSO"
        ],
        [
         "ACAATCCTACCCTC",
         "tunicamycin"
        ],
        [
         "ACGAACACGTGCTA",
         "DMSO"
        ],
        [
         "CTGTGAGATTGGTG",
         "tunicamycin"
        ],
        [
         "ATGTTGCTAATCGC",
         "thapsigargin"
        ],
        [
         "GTCAACGATCGCTC",
         "thapsigargin"
        ],
        [
         "AAGCGACTTACGCA",
         "thapsigargin"
        ],
        [
         "AGCCTCTGGGAACG",
         "tunicamycin"
        ],
        [
         "GACGTATGACACTG",
         "tunicamycin"
        ],
        [
         "GGGCCAACGTTACG",
         "DMSO"
        ],
        [
         "CTCGAGCTATGCCA",
         "DMSO"
        ],
        [
         "TACCATTGCGCCTT",
         "thapsigargin"
        ],
        [
         "GGAACTACGTACCA",
         "DMSO"
        ],
        [
         "GACAGTACTTCTAC",
         "DMSO"
        ],
        [
         "CAATATGACTACTT",
         "thapsigargin"
        ],
        [
         "AAGTCCGATAAGGA",
         "tunicamycin"
        ],
        [
         "AACCGATGTCCTAT",
         "DMSO"
        ],
        [
         "AGATCGTGGTACGT",
         "thapsigargin"
        ],
        [
         "TTGTACACAGGCGA",
         "tunicamycin"
        ],
        [
         "CATCGCTGAAGCAA",
         "thapsigargin"
        ],
        [
         "GCCCAACTTGTGGT",
         "thapsigargin"
        ],
        [
         "TGCCGACTCCGTTC",
         "thapsigargin"
        ],
        [
         "GTAAGCTGCGACAT",
         "DMSO"
        ],
        [
         "TCCTACCTTGAGAA",
         "DMSO"
        ],
        [
         "CTGTAACTAAGGGC",
         "tunicamycin"
        ],
        [
         "TTTATCCTCCATGA",
         "tunicamycin"
        ],
        [
         "CTTTACGAGGGTGA",
         "tunicamycin"
        ],
        [
         "GTAGCCCTTTCCGC",
         "thapsigargin"
        ],
        [
         "CACTGCACCGGTAT",
         "DMSO"
        ],
        [
         "ACTATCACACACAC",
         "tunicamycin"
        ],
        [
         "AGTATAACCTGTAG",
         "DMSO"
        ],
        [
         "CGTACAGAGTACCA",
         "thapsigargin"
        ],
        [
         "AACTTGCTGGAGGT",
         "thapsigargin"
        ],
        [
         "TAGTAAACCCAATG",
         "DMSO"
        ],
        [
         "TCCATCCTAAGAAC",
         "thapsigargin"
        ],
        [
         "ACCATTACAAAGCA",
         "thapsigargin"
        ],
        [
         "GGGACCACCGCATA",
         "thapsigargin"
        ],
        [
         "AGTTCTACGACTAC",
         "thapsigargin"
        ],
        [
         "TTAGGTCTGGTCTA",
         "tunicamycin"
        ],
        [
         "CACGACCTAATCGC",
         "DMSO"
        ],
        [
         "TGGATCGAATGCCA",
         "thapsigargin"
        ],
        [
         "AAAGACGATCTTCA",
         "DMSO"
        ],
        [
         "TGCATGGAAACCGT",
         "thapsigargin"
        ],
        [
         "CTTTAGACTCGACA",
         "thapsigargin"
        ],
        [
         "AACACTCTAGCATC",
         "DMSO"
        ],
        [
         "ACAGTGTGTATGGC",
         "thapsigargin"
        ],
        [
         "AGCATGACGTCACA",
         "thapsigargin"
        ],
        [
         "ACTTGTACGGTCAT",
         "DMSO"
        ],
        [
         "CAGTTGGAGTCGTA",
         "thapsigargin"
        ],
        [
         "ATGTTAGATACAGC",
         "DMSO"
        ]
       ],
       "shape": {
        "columns": 1,
        "rows": 14754
       }
      },
      "text/html": [
       "<div>\n",
       "<style scoped>\n",
       "    .dataframe tbody tr th:only-of-type {\n",
       "        vertical-align: middle;\n",
       "    }\n",
       "\n",
       "    .dataframe tbody tr th {\n",
       "        vertical-align: top;\n",
       "    }\n",
       "\n",
       "    .dataframe thead th {\n",
       "        text-align: right;\n",
       "    }\n",
       "</style>\n",
       "<table border=\"1\" class=\"dataframe\">\n",
       "  <thead>\n",
       "    <tr style=\"text-align: right;\">\n",
       "      <th></th>\n",
       "      <th>treatment_temp</th>\n",
       "    </tr>\n",
       "    <tr>\n",
       "      <th>cell_barcode</th>\n",
       "      <th></th>\n",
       "    </tr>\n",
       "  </thead>\n",
       "  <tbody>\n",
       "    <tr>\n",
       "      <th>ACGGTATGCTTAGG</th>\n",
       "      <td>DMSO</td>\n",
       "    </tr>\n",
       "    <tr>\n",
       "      <th>ACAATCCTACCCTC</th>\n",
       "      <td>tunicamycin</td>\n",
       "    </tr>\n",
       "    <tr>\n",
       "      <th>ACGAACACGTGCTA</th>\n",
       "      <td>DMSO</td>\n",
       "    </tr>\n",
       "    <tr>\n",
       "      <th>CTGTGAGATTGGTG</th>\n",
       "      <td>tunicamycin</td>\n",
       "    </tr>\n",
       "    <tr>\n",
       "      <th>ATGTTGCTAATCGC</th>\n",
       "      <td>thapsigargin</td>\n",
       "    </tr>\n",
       "    <tr>\n",
       "      <th>...</th>\n",
       "      <td>...</td>\n",
       "    </tr>\n",
       "    <tr>\n",
       "      <th>CGTAACGAGTTGCA</th>\n",
       "      <td>DMSO</td>\n",
       "    </tr>\n",
       "    <tr>\n",
       "      <th>CCATGCTGGCTTCC</th>\n",
       "      <td>DMSO</td>\n",
       "    </tr>\n",
       "    <tr>\n",
       "      <th>CCCTCAGAAAAGTG</th>\n",
       "      <td>DMSO</td>\n",
       "    </tr>\n",
       "    <tr>\n",
       "      <th>TCAAGTCTAGGTCT</th>\n",
       "      <td>thapsigargin</td>\n",
       "    </tr>\n",
       "    <tr>\n",
       "      <th>TATAGCCTCGGGAA</th>\n",
       "      <td>DMSO</td>\n",
       "    </tr>\n",
       "  </tbody>\n",
       "</table>\n",
       "<p>14754 rows × 1 columns</p>\n",
       "</div>"
      ],
      "text/plain": [
       "               treatment_temp\n",
       "cell_barcode                 \n",
       "ACGGTATGCTTAGG           DMSO\n",
       "ACAATCCTACCCTC    tunicamycin\n",
       "ACGAACACGTGCTA           DMSO\n",
       "CTGTGAGATTGGTG    tunicamycin\n",
       "ATGTTGCTAATCGC   thapsigargin\n",
       "...                       ...\n",
       "CGTAACGAGTTGCA           DMSO\n",
       "CCATGCTGGCTTCC           DMSO\n",
       "CCCTCAGAAAAGTG           DMSO\n",
       "TCAAGTCTAGGTCT   thapsigargin\n",
       "TATAGCCTCGGGAA           DMSO\n",
       "\n",
       "[14754 rows x 1 columns]"
      ]
     },
     "execution_count": 16,
     "metadata": {},
     "output_type": "execute_result"
    }
   ],
   "source": [
    "orig_cell_ident_link = r\"https://ftp.ncbi.nlm.nih.gov/geo/samples/GSM2406nnn/GSM2406677/suppl/GSM2406677%5F10X005%5Fcell%5Fidentities.csv.gz\"\n",
    "orig_cell_ident = pd.read_csv(orig_cell_ident_link)\n",
    "\n",
    "# the number after the dash is the cell barcode indicates the treatment\n",
    "display(orig_cell_ident[[\"cell BC\", \"guide identity\"]].head())\n",
    "\n",
    "treatment_label_map = {\"1\": \"tunicamycin\", \"2\": \"thapsigargin\", \"3\": \"DMSO\"}\n",
    "\n",
    "treatment_df = (\n",
    "    orig_cell_ident[\"cell BC\"]\n",
    "    .str.split(\"-\", expand=True)\n",
    "    .rename(columns={0: \"cell_barcode\", 1: \"treatment_number\"})\n",
    ")\n",
    "\n",
    "treatment_df[\"treatment_temp\"] = treatment_df[\"treatment_number\"].map(\n",
    "    treatment_label_map\n",
    ")\n",
    "\n",
    "treatment_df = (\n",
    "    treatment_df.drop_duplicates(subset=[\"cell_barcode\"])\n",
    "    .drop(columns=[\"treatment_number\"])\n",
    "    .set_index(\"cell_barcode\")\n",
    ")\n",
    "\n",
    "treatment_df"
   ]
  },
  {
   "cell_type": "markdown",
   "id": "7067e6b1",
   "metadata": {},
   "source": [
    "Add treatment information with the dataset"
   ]
  },
  {
   "cell_type": "code",
   "execution_count": 17,
   "id": "f0d26809",
   "metadata": {},
   "outputs": [],
   "source": [
    "cur_data.adata.obs = cur_data.adata.obs.merge(\n",
    "    treatment_df,\n",
    "    left_index=True,\n",
    "    right_index=True,\n",
    "    how=\"left\"\n",
    ")"
   ]
  },
  {
   "cell_type": "markdown",
   "id": "07e0a9c9",
   "metadata": {},
   "source": [
    "Map treatment compounds to CHEBI"
   ]
  },
  {
   "cell_type": "code",
   "execution_count": 18,
   "id": "617db07b",
   "metadata": {},
   "outputs": [
    {
     "name": "stdout",
     "output_type": "stream",
     "text": [
      "Found standardized name for compound 'tunicamycin': tunicamycin (ChEBI ID: CHEBI:29699)\n",
      "Found standardized name for compound 'thapsigargin': thapsigargin (ChEBI ID: CHEBI:9516)\n",
      "Found standardized name for compound 'DMSO': dimethyl sulfoxide (ChEBI ID: CHEBI:28262)\n",
      "Standardized compound names in column 'treatment_temp' and added 'treatment_label' and 'treatment_id' columns.\n"
     ]
    }
   ],
   "source": [
    "cur_data.standardize_compounds(column='treatment_temp')"
   ]
  },
  {
   "cell_type": "markdown",
   "id": "cc15f80c",
   "metadata": {},
   "source": [
    "### Add perturbation information"
   ]
  },
  {
   "cell_type": "code",
   "execution_count": 19,
   "id": "f67e90a6",
   "metadata": {},
   "outputs": [
    {
     "name": "stdout",
     "output_type": "stream",
     "text": [
      "Column perturbation_type_label added to adata.obs\n",
      "Column perturbation_type_id added to adata.obs\n"
     ]
    }
   ],
   "source": [
    "cur_data.create_columns(\n",
    "    slot=\"obs\",\n",
    "    col_dict={\n",
    "        \"perturbation_type_label\": \"CRISPRi\", \n",
    "        \"perturbation_type_id\": None\n",
    "    }\n",
    ")"
   ]
  },
  {
   "cell_type": "markdown",
   "id": "98bff7f7",
   "metadata": {},
   "source": [
    "### Add timepoint information"
   ]
  },
  {
   "cell_type": "code",
   "execution_count": 20,
   "id": "5a35dd40",
   "metadata": {},
   "outputs": [
    {
     "name": "stdout",
     "output_type": "stream",
     "text": [
      "Column timepoint added to adata.obs\n"
     ]
    }
   ],
   "source": [
    "cur_data.create_columns(\n",
    "    slot=\"obs\",\n",
    "    col_dict={\"timepoint\": \"P0DT0H0M0S\"},\n",
    ")"
   ]
  },
  {
   "cell_type": "markdown",
   "id": "d3896aec",
   "metadata": {},
   "source": [
    "### Add model system information"
   ]
  },
  {
   "cell_type": "code",
   "execution_count": 21,
   "id": "09a86908",
   "metadata": {},
   "outputs": [
    {
     "name": "stdout",
     "output_type": "stream",
     "text": [
      "Column model_system_label added to adata.obs\n",
      "Column model_system_id added to adata.obs\n"
     ]
    }
   ],
   "source": [
    "cur_data.create_columns(\n",
    "    slot=\"obs\",\n",
    "    col_dict={\n",
    "        \"model_system_label\": \"cell line\", \n",
    "        \"model_system_id\": None\n",
    "    }\n",
    ")"
   ]
  },
  {
   "cell_type": "markdown",
   "id": "da5bdbfd",
   "metadata": {},
   "source": [
    "### Add tissue information"
   ]
  },
  {
   "cell_type": "code",
   "execution_count": 22,
   "id": "48bc2b10",
   "metadata": {},
   "outputs": [
    {
     "name": "stdout",
     "output_type": "stream",
     "text": [
      "Column tissue added to adata.obs\n",
      "Mapped 1 tissue ontology terms from `tissue` column to ontology terms\n",
      "DataFrame shape: (1, 4)\n",
      "--------------------------------------------------\n",
      "  input_column input_column_lower name_lower     ontology_id\n",
      "0        blood              blood      blood  UBERON:0000178\n",
      "--------------------------------------------------\n"
     ]
    }
   ],
   "source": [
    "cur_data.create_columns(\n",
    "    slot='obs',\n",
    "    col_dict={\n",
    "        'tissue': 'blood'\n",
    "    }\n",
    ")\n",
    "\n",
    "cur_data.standardize_ontology(\n",
    "    input_column='tissue',\n",
    "    column_type='term_name',\n",
    "    ontology_type='tissue',\n",
    "    overwrite=True\n",
    ")"
   ]
  },
  {
   "cell_type": "markdown",
   "id": "b9bac74f",
   "metadata": {},
   "source": [
    "### Add cell type information"
   ]
  },
  {
   "cell_type": "code",
   "execution_count": 23,
   "id": "cce45e1f",
   "metadata": {},
   "outputs": [
    {
     "name": "stdout",
     "output_type": "stream",
     "text": [
      "Mapped 1 cell_type ontology terms from `celltype` column to ontology terms\n",
      "DataFrame shape: (1, 4)\n",
      "--------------------------------------------------\n",
      "   input_column input_column_lower    name_lower ontology_id\n",
      "0  lymphoblasts       lymphoblasts  lymphoblasts  CL:0017005\n",
      "--------------------------------------------------\n"
     ]
    }
   ],
   "source": [
    "cur_data.standardize_ontology(\n",
    "    input_column='celltype',\n",
    "    column_type='term_name',\n",
    "    ontology_type='cell_type'\n",
    ")"
   ]
  },
  {
   "cell_type": "markdown",
   "id": "0c55cb72",
   "metadata": {},
   "source": [
    "### Add cell line information"
   ]
  },
  {
   "cell_type": "code",
   "execution_count": 24,
   "id": "47943190",
   "metadata": {},
   "outputs": [
    {
     "name": "stdout",
     "output_type": "stream",
     "text": [
      "Mapped 1 cell_line ontology terms from `cell_line` column to ontology terms\n",
      "DataFrame shape: (1, 4)\n",
      "--------------------------------------------------\n",
      "  input_column input_column_lower name_lower  ontology_id\n",
      "0         K562               k562       k562  CLO:0007050\n",
      "--------------------------------------------------\n"
     ]
    }
   ],
   "source": [
    "cur_data.standardize_ontology(\n",
    "    input_column='cell_line',\n",
    "    column_type='term_name',\n",
    "    ontology_type='cell_line'\n",
    ")"
   ]
  },
  {
   "cell_type": "markdown",
   "id": "97f182c0",
   "metadata": {},
   "source": [
    "### Add disease information"
   ]
  },
  {
   "cell_type": "code",
   "execution_count": 25,
   "id": "ee8bf587",
   "metadata": {},
   "outputs": [
    {
     "name": "stdout",
     "output_type": "stream",
     "text": [
      "Mapped 1 disease ontology terms from `disease` column to ontology terms\n",
      "DataFrame shape: (1, 4)\n",
      "--------------------------------------------------\n",
      "                   input_column            input_column_lower  \\\n",
      "0  chronic myelogenous leukemia  chronic myelogenous leukemia   \n",
      "\n",
      "                     name_lower    ontology_id  \n",
      "0  chronic myelogenous leukemia  MONDO:0011996  \n",
      "--------------------------------------------------\n"
     ]
    }
   ],
   "source": [
    "cur_data.standardize_ontology(\n",
    "    input_column='disease',\n",
    "    column_type='term_name',\n",
    "    ontology_type='disease'\n",
    ")"
   ]
  },
  {
   "cell_type": "markdown",
   "id": "27b65a65",
   "metadata": {},
   "source": [
    "### Add species information"
   ]
  },
  {
   "cell_type": "code",
   "execution_count": 26,
   "id": "eed11f80",
   "metadata": {},
   "outputs": [
    {
     "name": "stdout",
     "output_type": "stream",
     "text": [
      "Column species added to adata.obs\n"
     ]
    }
   ],
   "source": [
    "cur_data.create_columns(\n",
    "    slot=\"obs\",\n",
    "    col_dict={\n",
    "        \"species\": \"Homo sapiens\"\n",
    "    }\n",
    ")"
   ]
  },
  {
   "cell_type": "markdown",
   "id": "b86d1fec",
   "metadata": {},
   "source": [
    "### Add sex information"
   ]
  },
  {
   "cell_type": "code",
   "execution_count": 27,
   "id": "859526f3",
   "metadata": {},
   "outputs": [
    {
     "name": "stdout",
     "output_type": "stream",
     "text": [
      "Column sex_label added to adata.obs\n",
      "Column sex_id added to adata.obs\n"
     ]
    }
   ],
   "source": [
    "cur_data.create_columns(\n",
    "    slot=\"obs\",\n",
    "    col_dict={\n",
    "        \"sex_label\": \"female\", \n",
    "        \"sex_id\": None\n",
    "    }\n",
    ")"
   ]
  },
  {
   "cell_type": "markdown",
   "id": "f4849a2e",
   "metadata": {},
   "source": [
    "### Add developmental stage information"
   ]
  },
  {
   "cell_type": "code",
   "execution_count": 28,
   "id": "b96f654a",
   "metadata": {},
   "outputs": [
    {
     "name": "stdout",
     "output_type": "stream",
     "text": [
      "Column developmental_stage_label added to adata.obs\n",
      "Column developmental_stage_id added to adata.obs\n"
     ]
    }
   ],
   "source": [
    "cur_data.create_columns(\n",
    "    slot=\"obs\",\n",
    "    col_dict={\n",
    "        \"developmental_stage_label\": \"adult\", \n",
    "        \"developmental_stage_id\": None\n",
    "    }\n",
    ")"
   ]
  },
  {
   "cell_type": "markdown",
   "id": "1d95a652",
   "metadata": {},
   "source": [
    "### Match schema column order"
   ]
  },
  {
   "cell_type": "code",
   "execution_count": 29,
   "id": "800c024c",
   "metadata": {},
   "outputs": [
    {
     "name": "stdout",
     "output_type": "stream",
     "text": [
      "Matched columns of adata.obs to the obs_schema.\n"
     ]
    }
   ],
   "source": [
    "cur_data.match_schema_columns(slot='obs')"
   ]
  },
  {
   "cell_type": "markdown",
   "id": "310fc577",
   "metadata": {},
   "source": [
    "### Validate obs metadata"
   ]
  },
  {
   "cell_type": "code",
   "execution_count": 30,
   "id": "10972f30",
   "metadata": {},
   "outputs": [
    {
     "name": "stdout",
     "output_type": "stream",
     "text": [
      "adata.obs is valid according to the obs_schema.\n",
      "Validated data:\n"
     ]
    },
    {
     "data": {
      "application/vnd.microsoft.datawrangler.viewer.v0+json": {
       "columns": [
        {
         "name": "index",
         "rawType": "int64",
         "type": "integer"
        },
        {
         "name": "perturbation_name",
         "rawType": "object",
         "type": "string"
        },
        {
         "name": "perturbed_target_coord",
         "rawType": "object",
         "type": "unknown"
        },
        {
         "name": "perturbed_target_number",
         "rawType": "int64",
         "type": "integer"
        },
        {
         "name": "perturbed_target_ensg",
         "rawType": "object",
         "type": "unknown"
        },
        {
         "name": "perturbed_target_symbol",
         "rawType": "object",
         "type": "unknown"
        },
        {
         "name": "perturbed_target_biotype",
         "rawType": "object",
         "type": "unknown"
        },
        {
         "name": "guide_sequence",
         "rawType": "object",
         "type": "unknown"
        },
        {
         "name": "perturbation_type_label",
         "rawType": "object",
         "type": "string"
        },
        {
         "name": "perturbation_type_id",
         "rawType": "object",
         "type": "unknown"
        },
        {
         "name": "timepoint",
         "rawType": "object",
         "type": "string"
        },
        {
         "name": "treatment_label",
         "rawType": "object",
         "type": "string"
        },
        {
         "name": "treatment_id",
         "rawType": "object",
         "type": "string"
        },
        {
         "name": "model_system_label",
         "rawType": "object",
         "type": "string"
        },
        {
         "name": "model_system_id",
         "rawType": "object",
         "type": "unknown"
        },
        {
         "name": "species",
         "rawType": "object",
         "type": "string"
        },
        {
         "name": "tissue_label",
         "rawType": "object",
         "type": "string"
        },
        {
         "name": "tissue_id",
         "rawType": "object",
         "type": "string"
        },
        {
         "name": "cell_type_label",
         "rawType": "object",
         "type": "string"
        },
        {
         "name": "cell_type_id",
         "rawType": "object",
         "type": "string"
        },
        {
         "name": "cell_line_label",
         "rawType": "object",
         "type": "string"
        },
        {
         "name": "cell_line_id",
         "rawType": "object",
         "type": "string"
        },
        {
         "name": "sex_label",
         "rawType": "object",
         "type": "string"
        },
        {
         "name": "sex_id",
         "rawType": "object",
         "type": "unknown"
        },
        {
         "name": "developmental_stage_label",
         "rawType": "object",
         "type": "string"
        },
        {
         "name": "developmental_stage_id",
         "rawType": "object",
         "type": "unknown"
        },
        {
         "name": "disease_label",
         "rawType": "object",
         "type": "string"
        },
        {
         "name": "disease_id",
         "rawType": "object",
         "type": "string"
        }
       ],
       "ref": "d933d99c-04de-495a-b14c-c0a0576ae59e",
       "rows": [
        [
         "0",
         "3x_neg_ctrl_pMJ144-1",
         null,
         "2",
         "control|None",
         "control|None",
         null,
         null,
         "CRISPRi",
         null,
         "P0DT0H0M0S",
         "tunicamycin",
         "CHEBI:29699",
         "cell line",
         null,
         "Homo sapiens",
         "blood",
         "UBERON:0000178",
         "lymphoblast",
         "CL:0017005",
         "K 562 cell",
         "CLO:0007050",
         "female",
         null,
         "adult",
         null,
         "chronic myelogenous leukemia, BCR-ABL1 positive",
         "MONDO:0011996"
        ],
        [
         "1",
         "3x_neg_ctrl_pMJ144-2",
         null,
         "2",
         "control|None",
         "control|None",
         null,
         null,
         "CRISPRi",
         null,
         "P0DT0H0M0S",
         "tunicamycin",
         "CHEBI:29699",
         "cell line",
         null,
         "Homo sapiens",
         "blood",
         "UBERON:0000178",
         "lymphoblast",
         "CL:0017005",
         "K 562 cell",
         "CLO:0007050",
         "female",
         null,
         "adult",
         null,
         "chronic myelogenous leukemia, BCR-ABL1 positive",
         "MONDO:0011996"
        ],
        [
         "2",
         "3x_neg_ctrl_pMJ144-2",
         null,
         "2",
         "control|None",
         "control|None",
         null,
         null,
         "CRISPRi",
         null,
         "P0DT0H0M0S",
         "tunicamycin",
         "CHEBI:29699",
         "cell line",
         null,
         "Homo sapiens",
         "blood",
         "UBERON:0000178",
         "lymphoblast",
         "CL:0017005",
         "K 562 cell",
         "CLO:0007050",
         "female",
         null,
         "adult",
         null,
         "chronic myelogenous leukemia, BCR-ABL1 positive",
         "MONDO:0011996"
        ],
        [
         "3",
         "ATF6_PERK_IRE1_pMJ158",
         "chr1:161766298-161977574;1|chr2:88556741-88691518;-1|chr17:64039080-64130819;-1",
         "3",
         "ENSG00000118217|ENSG00000172071|ENSG00000178607",
         "ATF6|EIF2AK3|ERN1",
         "protein_coding|protein_coding|protein_coding",
         null,
         "CRISPRi",
         null,
         "P0DT0H0M0S",
         "tunicamycin",
         "CHEBI:29699",
         "cell line",
         null,
         "Homo sapiens",
         "blood",
         "UBERON:0000178",
         "lymphoblast",
         "CL:0017005",
         "K 562 cell",
         "CLO:0007050",
         "female",
         null,
         "adult",
         null,
         "chronic myelogenous leukemia, BCR-ABL1 positive",
         "MONDO:0011996"
        ],
        [
         "4",
         "ATF6_PERK_pMJ150",
         "chr1:161766298-161977574;1|chr2:88556741-88691518;-1",
         "2",
         "ENSG00000118217|ENSG00000172071",
         "ATF6|EIF2AK3",
         "protein_coding|protein_coding",
         null,
         "CRISPRi",
         null,
         "P0DT0H0M0S",
         "tunicamycin",
         "CHEBI:29699",
         "cell line",
         null,
         "Homo sapiens",
         "blood",
         "UBERON:0000178",
         "lymphoblast",
         "CL:0017005",
         "K 562 cell",
         "CLO:0007050",
         "female",
         null,
         "adult",
         null,
         "chronic myelogenous leukemia, BCR-ABL1 positive",
         "MONDO:0011996"
        ],
        [
         "5",
         "ATF6_PERK_pMJ150",
         "chr1:161766298-161977574;1|chr2:88556741-88691518;-1",
         "2",
         "ENSG00000118217|ENSG00000172071",
         "ATF6|EIF2AK3",
         "protein_coding|protein_coding",
         null,
         "CRISPRi",
         null,
         "P0DT0H0M0S",
         "tunicamycin",
         "CHEBI:29699",
         "cell line",
         null,
         "Homo sapiens",
         "blood",
         "UBERON:0000178",
         "lymphoblast",
         "CL:0017005",
         "K 562 cell",
         "CLO:0007050",
         "female",
         null,
         "adult",
         null,
         "chronic myelogenous leukemia, BCR-ABL1 positive",
         "MONDO:0011996"
        ],
        [
         "6",
         "ATF6_only_pMJ145",
         "chr1:161766298-161977574;1",
         "1",
         "ENSG00000118217",
         "ATF6",
         "protein_coding",
         null,
         "CRISPRi",
         null,
         "P0DT0H0M0S",
         "tunicamycin",
         "CHEBI:29699",
         "cell line",
         null,
         "Homo sapiens",
         "blood",
         "UBERON:0000178",
         "lymphoblast",
         "CL:0017005",
         "K 562 cell",
         "CLO:0007050",
         "female",
         null,
         "adult",
         null,
         "chronic myelogenous leukemia, BCR-ABL1 positive",
         "MONDO:0011996"
        ],
        [
         "7",
         "3x_neg_ctrl_pMJ144-1",
         null,
         "2",
         "control|None",
         "control|None",
         null,
         null,
         "CRISPRi",
         null,
         "P0DT0H0M0S",
         "tunicamycin",
         "CHEBI:29699",
         "cell line",
         null,
         "Homo sapiens",
         "blood",
         "UBERON:0000178",
         "lymphoblast",
         "CL:0017005",
         "K 562 cell",
         "CLO:0007050",
         "female",
         null,
         "adult",
         null,
         "chronic myelogenous leukemia, BCR-ABL1 positive",
         "MONDO:0011996"
        ],
        [
         "8",
         "PERK_IRE1_pMJ154",
         "chr2:88556741-88691518;-1|chr17:64039080-64130819;-1",
         "2",
         "ENSG00000172071|ENSG00000178607",
         "EIF2AK3|ERN1",
         "protein_coding|protein_coding",
         null,
         "CRISPRi",
         null,
         "P0DT0H0M0S",
         "tunicamycin",
         "CHEBI:29699",
         "cell line",
         null,
         "Homo sapiens",
         "blood",
         "UBERON:0000178",
         "lymphoblast",
         "CL:0017005",
         "K 562 cell",
         "CLO:0007050",
         "female",
         null,
         "adult",
         null,
         "chronic myelogenous leukemia, BCR-ABL1 positive",
         "MONDO:0011996"
        ],
        [
         "9",
         "ATF6_IRE1_pMJ152",
         "chr1:161766298-161977574;1|chr17:64039080-64130819;-1",
         "2",
         "ENSG00000118217|ENSG00000178607",
         "ATF6|ERN1",
         "protein_coding|protein_coding",
         null,
         "CRISPRi",
         null,
         "P0DT0H0M0S",
         "tunicamycin",
         "CHEBI:29699",
         "cell line",
         null,
         "Homo sapiens",
         "blood",
         "UBERON:0000178",
         "lymphoblast",
         "CL:0017005",
         "K 562 cell",
         "CLO:0007050",
         "female",
         null,
         "adult",
         null,
         "chronic myelogenous leukemia, BCR-ABL1 positive",
         "MONDO:0011996"
        ],
        [
         "10",
         "3x_neg_ctrl_pMJ144-1",
         null,
         "2",
         "control|None",
         "control|None",
         null,
         null,
         "CRISPRi",
         null,
         "P0DT0H0M0S",
         "tunicamycin",
         "CHEBI:29699",
         "cell line",
         null,
         "Homo sapiens",
         "blood",
         "UBERON:0000178",
         "lymphoblast",
         "CL:0017005",
         "K 562 cell",
         "CLO:0007050",
         "female",
         null,
         "adult",
         null,
         "chronic myelogenous leukemia, BCR-ABL1 positive",
         "MONDO:0011996"
        ],
        [
         "11",
         "3x_neg_ctrl_pMJ144-1",
         null,
         "2",
         "control|None",
         "control|None",
         null,
         null,
         "CRISPRi",
         null,
         "P0DT0H0M0S",
         "tunicamycin",
         "CHEBI:29699",
         "cell line",
         null,
         "Homo sapiens",
         "blood",
         "UBERON:0000178",
         "lymphoblast",
         "CL:0017005",
         "K 562 cell",
         "CLO:0007050",
         "female",
         null,
         "adult",
         null,
         "chronic myelogenous leukemia, BCR-ABL1 positive",
         "MONDO:0011996"
        ],
        [
         "12",
         "ATF6_IRE1_pMJ152",
         "chr1:161766298-161977574;1|chr17:64039080-64130819;-1",
         "2",
         "ENSG00000118217|ENSG00000178607",
         "ATF6|ERN1",
         "protein_coding|protein_coding",
         null,
         "CRISPRi",
         null,
         "P0DT0H0M0S",
         "tunicamycin",
         "CHEBI:29699",
         "cell line",
         null,
         "Homo sapiens",
         "blood",
         "UBERON:0000178",
         "lymphoblast",
         "CL:0017005",
         "K 562 cell",
         "CLO:0007050",
         "female",
         null,
         "adult",
         null,
         "chronic myelogenous leukemia, BCR-ABL1 positive",
         "MONDO:0011996"
        ],
        [
         "13",
         "3x_neg_ctrl_pMJ144-1",
         null,
         "2",
         "control|None",
         "control|None",
         null,
         null,
         "CRISPRi",
         null,
         "P0DT0H0M0S",
         "tunicamycin",
         "CHEBI:29699",
         "cell line",
         null,
         "Homo sapiens",
         "blood",
         "UBERON:0000178",
         "lymphoblast",
         "CL:0017005",
         "K 562 cell",
         "CLO:0007050",
         "female",
         null,
         "adult",
         null,
         "chronic myelogenous leukemia, BCR-ABL1 positive",
         "MONDO:0011996"
        ],
        [
         "14",
         "3x_neg_ctrl_pMJ144-2",
         null,
         "2",
         "control|None",
         "control|None",
         null,
         null,
         "CRISPRi",
         null,
         "P0DT0H0M0S",
         "tunicamycin",
         "CHEBI:29699",
         "cell line",
         null,
         "Homo sapiens",
         "blood",
         "UBERON:0000178",
         "lymphoblast",
         "CL:0017005",
         "K 562 cell",
         "CLO:0007050",
         "female",
         null,
         "adult",
         null,
         "chronic myelogenous leukemia, BCR-ABL1 positive",
         "MONDO:0011996"
        ],
        [
         "15",
         "IRE1_only_pMJ148",
         "chr17:64039080-64130819;-1",
         "1",
         "ENSG00000178607",
         "ERN1",
         "protein_coding",
         null,
         "CRISPRi",
         null,
         "P0DT0H0M0S",
         "tunicamycin",
         "CHEBI:29699",
         "cell line",
         null,
         "Homo sapiens",
         "blood",
         "UBERON:0000178",
         "lymphoblast",
         "CL:0017005",
         "K 562 cell",
         "CLO:0007050",
         "female",
         null,
         "adult",
         null,
         "chronic myelogenous leukemia, BCR-ABL1 positive",
         "MONDO:0011996"
        ],
        [
         "16",
         "ATF6_PERK_IRE1_pMJ158",
         "chr1:161766298-161977574;1|chr2:88556741-88691518;-1|chr17:64039080-64130819;-1",
         "3",
         "ENSG00000118217|ENSG00000172071|ENSG00000178607",
         "ATF6|EIF2AK3|ERN1",
         "protein_coding|protein_coding|protein_coding",
         null,
         "CRISPRi",
         null,
         "P0DT0H0M0S",
         "tunicamycin",
         "CHEBI:29699",
         "cell line",
         null,
         "Homo sapiens",
         "blood",
         "UBERON:0000178",
         "lymphoblast",
         "CL:0017005",
         "K 562 cell",
         "CLO:0007050",
         "female",
         null,
         "adult",
         null,
         "chronic myelogenous leukemia, BCR-ABL1 positive",
         "MONDO:0011996"
        ],
        [
         "17",
         "ATF6_PERK_pMJ150",
         "chr1:161766298-161977574;1|chr2:88556741-88691518;-1",
         "2",
         "ENSG00000118217|ENSG00000172071",
         "ATF6|EIF2AK3",
         "protein_coding|protein_coding",
         null,
         "CRISPRi",
         null,
         "P0DT0H0M0S",
         "tunicamycin",
         "CHEBI:29699",
         "cell line",
         null,
         "Homo sapiens",
         "blood",
         "UBERON:0000178",
         "lymphoblast",
         "CL:0017005",
         "K 562 cell",
         "CLO:0007050",
         "female",
         null,
         "adult",
         null,
         "chronic myelogenous leukemia, BCR-ABL1 positive",
         "MONDO:0011996"
        ],
        [
         "18",
         "ATF6_IRE1_pMJ152",
         "chr1:161766298-161977574;1|chr17:64039080-64130819;-1",
         "2",
         "ENSG00000118217|ENSG00000178607",
         "ATF6|ERN1",
         "protein_coding|protein_coding",
         null,
         "CRISPRi",
         null,
         "P0DT0H0M0S",
         "tunicamycin",
         "CHEBI:29699",
         "cell line",
         null,
         "Homo sapiens",
         "blood",
         "UBERON:0000178",
         "lymphoblast",
         "CL:0017005",
         "K 562 cell",
         "CLO:0007050",
         "female",
         null,
         "adult",
         null,
         "chronic myelogenous leukemia, BCR-ABL1 positive",
         "MONDO:0011996"
        ],
        [
         "19",
         "3x_neg_ctrl_pMJ144-1",
         null,
         "2",
         "control|None",
         "control|None",
         null,
         null,
         "CRISPRi",
         null,
         "P0DT0H0M0S",
         "tunicamycin",
         "CHEBI:29699",
         "cell line",
         null,
         "Homo sapiens",
         "blood",
         "UBERON:0000178",
         "lymphoblast",
         "CL:0017005",
         "K 562 cell",
         "CLO:0007050",
         "female",
         null,
         "adult",
         null,
         "chronic myelogenous leukemia, BCR-ABL1 positive",
         "MONDO:0011996"
        ],
        [
         "20",
         "PERK_only_pMJ146",
         "chr2:88556741-88691518;-1",
         "1",
         "ENSG00000172071",
         "EIF2AK3",
         "protein_coding",
         null,
         "CRISPRi",
         null,
         "P0DT0H0M0S",
         "tunicamycin",
         "CHEBI:29699",
         "cell line",
         null,
         "Homo sapiens",
         "blood",
         "UBERON:0000178",
         "lymphoblast",
         "CL:0017005",
         "K 562 cell",
         "CLO:0007050",
         "female",
         null,
         "adult",
         null,
         "chronic myelogenous leukemia, BCR-ABL1 positive",
         "MONDO:0011996"
        ],
        [
         "21",
         "ATF6_PERK_pMJ150",
         "chr1:161766298-161977574;1|chr2:88556741-88691518;-1",
         "2",
         "ENSG00000118217|ENSG00000172071",
         "ATF6|EIF2AK3",
         "protein_coding|protein_coding",
         null,
         "CRISPRi",
         null,
         "P0DT0H0M0S",
         "tunicamycin",
         "CHEBI:29699",
         "cell line",
         null,
         "Homo sapiens",
         "blood",
         "UBERON:0000178",
         "lymphoblast",
         "CL:0017005",
         "K 562 cell",
         "CLO:0007050",
         "female",
         null,
         "adult",
         null,
         "chronic myelogenous leukemia, BCR-ABL1 positive",
         "MONDO:0011996"
        ],
        [
         "22",
         "ATF6_PERK_pMJ150",
         "chr1:161766298-161977574;1|chr2:88556741-88691518;-1",
         "2",
         "ENSG00000118217|ENSG00000172071",
         "ATF6|EIF2AK3",
         "protein_coding|protein_coding",
         null,
         "CRISPRi",
         null,
         "P0DT0H0M0S",
         "tunicamycin",
         "CHEBI:29699",
         "cell line",
         null,
         "Homo sapiens",
         "blood",
         "UBERON:0000178",
         "lymphoblast",
         "CL:0017005",
         "K 562 cell",
         "CLO:0007050",
         "female",
         null,
         "adult",
         null,
         "chronic myelogenous leukemia, BCR-ABL1 positive",
         "MONDO:0011996"
        ],
        [
         "23",
         "ATF6_only_pMJ145",
         "chr1:161766298-161977574;1",
         "1",
         "ENSG00000118217",
         "ATF6",
         "protein_coding",
         null,
         "CRISPRi",
         null,
         "P0DT0H0M0S",
         "tunicamycin",
         "CHEBI:29699",
         "cell line",
         null,
         "Homo sapiens",
         "blood",
         "UBERON:0000178",
         "lymphoblast",
         "CL:0017005",
         "K 562 cell",
         "CLO:0007050",
         "female",
         null,
         "adult",
         null,
         "chronic myelogenous leukemia, BCR-ABL1 positive",
         "MONDO:0011996"
        ],
        [
         "24",
         "ATF6_PERK_pMJ150",
         "chr1:161766298-161977574;1|chr2:88556741-88691518;-1",
         "2",
         "ENSG00000118217|ENSG00000172071",
         "ATF6|EIF2AK3",
         "protein_coding|protein_coding",
         null,
         "CRISPRi",
         null,
         "P0DT0H0M0S",
         "tunicamycin",
         "CHEBI:29699",
         "cell line",
         null,
         "Homo sapiens",
         "blood",
         "UBERON:0000178",
         "lymphoblast",
         "CL:0017005",
         "K 562 cell",
         "CLO:0007050",
         "female",
         null,
         "adult",
         null,
         "chronic myelogenous leukemia, BCR-ABL1 positive",
         "MONDO:0011996"
        ],
        [
         "25",
         "PERK_IRE1_pMJ154",
         "chr2:88556741-88691518;-1|chr17:64039080-64130819;-1",
         "2",
         "ENSG00000172071|ENSG00000178607",
         "EIF2AK3|ERN1",
         "protein_coding|protein_coding",
         null,
         "CRISPRi",
         null,
         "P0DT0H0M0S",
         "tunicamycin",
         "CHEBI:29699",
         "cell line",
         null,
         "Homo sapiens",
         "blood",
         "UBERON:0000178",
         "lymphoblast",
         "CL:0017005",
         "K 562 cell",
         "CLO:0007050",
         "female",
         null,
         "adult",
         null,
         "chronic myelogenous leukemia, BCR-ABL1 positive",
         "MONDO:0011996"
        ],
        [
         "26",
         "ATF6_only_pMJ145",
         "chr1:161766298-161977574;1",
         "1",
         "ENSG00000118217",
         "ATF6",
         "protein_coding",
         null,
         "CRISPRi",
         null,
         "P0DT0H0M0S",
         "tunicamycin",
         "CHEBI:29699",
         "cell line",
         null,
         "Homo sapiens",
         "blood",
         "UBERON:0000178",
         "lymphoblast",
         "CL:0017005",
         "K 562 cell",
         "CLO:0007050",
         "female",
         null,
         "adult",
         null,
         "chronic myelogenous leukemia, BCR-ABL1 positive",
         "MONDO:0011996"
        ],
        [
         "27",
         "ATF6_PERK_IRE1_pMJ158",
         "chr1:161766298-161977574;1|chr2:88556741-88691518;-1|chr17:64039080-64130819;-1",
         "3",
         "ENSG00000118217|ENSG00000172071|ENSG00000178607",
         "ATF6|EIF2AK3|ERN1",
         "protein_coding|protein_coding|protein_coding",
         null,
         "CRISPRi",
         null,
         "P0DT0H0M0S",
         "tunicamycin",
         "CHEBI:29699",
         "cell line",
         null,
         "Homo sapiens",
         "blood",
         "UBERON:0000178",
         "lymphoblast",
         "CL:0017005",
         "K 562 cell",
         "CLO:0007050",
         "female",
         null,
         "adult",
         null,
         "chronic myelogenous leukemia, BCR-ABL1 positive",
         "MONDO:0011996"
        ],
        [
         "28",
         "ATF6_PERK_IRE1_pMJ158",
         "chr1:161766298-161977574;1|chr2:88556741-88691518;-1|chr17:64039080-64130819;-1",
         "3",
         "ENSG00000118217|ENSG00000172071|ENSG00000178607",
         "ATF6|EIF2AK3|ERN1",
         "protein_coding|protein_coding|protein_coding",
         null,
         "CRISPRi",
         null,
         "P0DT0H0M0S",
         "tunicamycin",
         "CHEBI:29699",
         "cell line",
         null,
         "Homo sapiens",
         "blood",
         "UBERON:0000178",
         "lymphoblast",
         "CL:0017005",
         "K 562 cell",
         "CLO:0007050",
         "female",
         null,
         "adult",
         null,
         "chronic myelogenous leukemia, BCR-ABL1 positive",
         "MONDO:0011996"
        ],
        [
         "29",
         "3x_neg_ctrl_pMJ144-1",
         null,
         "2",
         "control|None",
         "control|None",
         null,
         null,
         "CRISPRi",
         null,
         "P0DT0H0M0S",
         "tunicamycin",
         "CHEBI:29699",
         "cell line",
         null,
         "Homo sapiens",
         "blood",
         "UBERON:0000178",
         "lymphoblast",
         "CL:0017005",
         "K 562 cell",
         "CLO:0007050",
         "female",
         null,
         "adult",
         null,
         "chronic myelogenous leukemia, BCR-ABL1 positive",
         "MONDO:0011996"
        ],
        [
         "30",
         "3x_neg_ctrl_pMJ144-2",
         null,
         "2",
         "control|None",
         "control|None",
         null,
         null,
         "CRISPRi",
         null,
         "P0DT0H0M0S",
         "tunicamycin",
         "CHEBI:29699",
         "cell line",
         null,
         "Homo sapiens",
         "blood",
         "UBERON:0000178",
         "lymphoblast",
         "CL:0017005",
         "K 562 cell",
         "CLO:0007050",
         "female",
         null,
         "adult",
         null,
         "chronic myelogenous leukemia, BCR-ABL1 positive",
         "MONDO:0011996"
        ],
        [
         "31",
         "ATF6_PERK_pMJ150",
         "chr1:161766298-161977574;1|chr2:88556741-88691518;-1",
         "2",
         "ENSG00000118217|ENSG00000172071",
         "ATF6|EIF2AK3",
         "protein_coding|protein_coding",
         null,
         "CRISPRi",
         null,
         "P0DT0H0M0S",
         "tunicamycin",
         "CHEBI:29699",
         "cell line",
         null,
         "Homo sapiens",
         "blood",
         "UBERON:0000178",
         "lymphoblast",
         "CL:0017005",
         "K 562 cell",
         "CLO:0007050",
         "female",
         null,
         "adult",
         null,
         "chronic myelogenous leukemia, BCR-ABL1 positive",
         "MONDO:0011996"
        ],
        [
         "32",
         "IRE1_only_pMJ148",
         "chr17:64039080-64130819;-1",
         "1",
         "ENSG00000178607",
         "ERN1",
         "protein_coding",
         null,
         "CRISPRi",
         null,
         "P0DT0H0M0S",
         "tunicamycin",
         "CHEBI:29699",
         "cell line",
         null,
         "Homo sapiens",
         "blood",
         "UBERON:0000178",
         "lymphoblast",
         "CL:0017005",
         "K 562 cell",
         "CLO:0007050",
         "female",
         null,
         "adult",
         null,
         "chronic myelogenous leukemia, BCR-ABL1 positive",
         "MONDO:0011996"
        ],
        [
         "33",
         "3x_neg_ctrl_pMJ144-2",
         null,
         "2",
         "control|None",
         "control|None",
         null,
         null,
         "CRISPRi",
         null,
         "P0DT0H0M0S",
         "tunicamycin",
         "CHEBI:29699",
         "cell line",
         null,
         "Homo sapiens",
         "blood",
         "UBERON:0000178",
         "lymphoblast",
         "CL:0017005",
         "K 562 cell",
         "CLO:0007050",
         "female",
         null,
         "adult",
         null,
         "chronic myelogenous leukemia, BCR-ABL1 positive",
         "MONDO:0011996"
        ],
        [
         "34",
         "PERK_IRE1_pMJ154",
         "chr2:88556741-88691518;-1|chr17:64039080-64130819;-1",
         "2",
         "ENSG00000172071|ENSG00000178607",
         "EIF2AK3|ERN1",
         "protein_coding|protein_coding",
         null,
         "CRISPRi",
         null,
         "P0DT0H0M0S",
         "tunicamycin",
         "CHEBI:29699",
         "cell line",
         null,
         "Homo sapiens",
         "blood",
         "UBERON:0000178",
         "lymphoblast",
         "CL:0017005",
         "K 562 cell",
         "CLO:0007050",
         "female",
         null,
         "adult",
         null,
         "chronic myelogenous leukemia, BCR-ABL1 positive",
         "MONDO:0011996"
        ],
        [
         "35",
         "PERK_only_pMJ146",
         "chr2:88556741-88691518;-1",
         "1",
         "ENSG00000172071",
         "EIF2AK3",
         "protein_coding",
         null,
         "CRISPRi",
         null,
         "P0DT0H0M0S",
         "tunicamycin",
         "CHEBI:29699",
         "cell line",
         null,
         "Homo sapiens",
         "blood",
         "UBERON:0000178",
         "lymphoblast",
         "CL:0017005",
         "K 562 cell",
         "CLO:0007050",
         "female",
         null,
         "adult",
         null,
         "chronic myelogenous leukemia, BCR-ABL1 positive",
         "MONDO:0011996"
        ],
        [
         "36",
         "3x_neg_ctrl_pMJ144-1",
         null,
         "2",
         "control|None",
         "control|None",
         null,
         null,
         "CRISPRi",
         null,
         "P0DT0H0M0S",
         "tunicamycin",
         "CHEBI:29699",
         "cell line",
         null,
         "Homo sapiens",
         "blood",
         "UBERON:0000178",
         "lymphoblast",
         "CL:0017005",
         "K 562 cell",
         "CLO:0007050",
         "female",
         null,
         "adult",
         null,
         "chronic myelogenous leukemia, BCR-ABL1 positive",
         "MONDO:0011996"
        ],
        [
         "37",
         "ATF6_IRE1_pMJ152",
         "chr1:161766298-161977574;1|chr17:64039080-64130819;-1",
         "2",
         "ENSG00000118217|ENSG00000178607",
         "ATF6|ERN1",
         "protein_coding|protein_coding",
         null,
         "CRISPRi",
         null,
         "P0DT0H0M0S",
         "tunicamycin",
         "CHEBI:29699",
         "cell line",
         null,
         "Homo sapiens",
         "blood",
         "UBERON:0000178",
         "lymphoblast",
         "CL:0017005",
         "K 562 cell",
         "CLO:0007050",
         "female",
         null,
         "adult",
         null,
         "chronic myelogenous leukemia, BCR-ABL1 positive",
         "MONDO:0011996"
        ],
        [
         "38",
         "IRE1_only_pMJ148",
         "chr17:64039080-64130819;-1",
         "1",
         "ENSG00000178607",
         "ERN1",
         "protein_coding",
         null,
         "CRISPRi",
         null,
         "P0DT0H0M0S",
         "tunicamycin",
         "CHEBI:29699",
         "cell line",
         null,
         "Homo sapiens",
         "blood",
         "UBERON:0000178",
         "lymphoblast",
         "CL:0017005",
         "K 562 cell",
         "CLO:0007050",
         "female",
         null,
         "adult",
         null,
         "chronic myelogenous leukemia, BCR-ABL1 positive",
         "MONDO:0011996"
        ],
        [
         "39",
         "PERK_only_pMJ146",
         "chr2:88556741-88691518;-1",
         "1",
         "ENSG00000172071",
         "EIF2AK3",
         "protein_coding",
         null,
         "CRISPRi",
         null,
         "P0DT0H0M0S",
         "tunicamycin",
         "CHEBI:29699",
         "cell line",
         null,
         "Homo sapiens",
         "blood",
         "UBERON:0000178",
         "lymphoblast",
         "CL:0017005",
         "K 562 cell",
         "CLO:0007050",
         "female",
         null,
         "adult",
         null,
         "chronic myelogenous leukemia, BCR-ABL1 positive",
         "MONDO:0011996"
        ],
        [
         "40",
         "ATF6_PERK_pMJ150",
         "chr1:161766298-161977574;1|chr2:88556741-88691518;-1",
         "2",
         "ENSG00000118217|ENSG00000172071",
         "ATF6|EIF2AK3",
         "protein_coding|protein_coding",
         null,
         "CRISPRi",
         null,
         "P0DT0H0M0S",
         "tunicamycin",
         "CHEBI:29699",
         "cell line",
         null,
         "Homo sapiens",
         "blood",
         "UBERON:0000178",
         "lymphoblast",
         "CL:0017005",
         "K 562 cell",
         "CLO:0007050",
         "female",
         null,
         "adult",
         null,
         "chronic myelogenous leukemia, BCR-ABL1 positive",
         "MONDO:0011996"
        ],
        [
         "41",
         "ATF6_PERK_IRE1_pMJ158",
         "chr1:161766298-161977574;1|chr2:88556741-88691518;-1|chr17:64039080-64130819;-1",
         "3",
         "ENSG00000118217|ENSG00000172071|ENSG00000178607",
         "ATF6|EIF2AK3|ERN1",
         "protein_coding|protein_coding|protein_coding",
         null,
         "CRISPRi",
         null,
         "P0DT0H0M0S",
         "tunicamycin",
         "CHEBI:29699",
         "cell line",
         null,
         "Homo sapiens",
         "blood",
         "UBERON:0000178",
         "lymphoblast",
         "CL:0017005",
         "K 562 cell",
         "CLO:0007050",
         "female",
         null,
         "adult",
         null,
         "chronic myelogenous leukemia, BCR-ABL1 positive",
         "MONDO:0011996"
        ],
        [
         "42",
         "IRE1_only_pMJ148",
         "chr17:64039080-64130819;-1",
         "1",
         "ENSG00000178607",
         "ERN1",
         "protein_coding",
         null,
         "CRISPRi",
         null,
         "P0DT0H0M0S",
         "tunicamycin",
         "CHEBI:29699",
         "cell line",
         null,
         "Homo sapiens",
         "blood",
         "UBERON:0000178",
         "lymphoblast",
         "CL:0017005",
         "K 562 cell",
         "CLO:0007050",
         "female",
         null,
         "adult",
         null,
         "chronic myelogenous leukemia, BCR-ABL1 positive",
         "MONDO:0011996"
        ],
        [
         "43",
         "ATF6_only_pMJ145",
         "chr1:161766298-161977574;1",
         "1",
         "ENSG00000118217",
         "ATF6",
         "protein_coding",
         null,
         "CRISPRi",
         null,
         "P0DT0H0M0S",
         "tunicamycin",
         "CHEBI:29699",
         "cell line",
         null,
         "Homo sapiens",
         "blood",
         "UBERON:0000178",
         "lymphoblast",
         "CL:0017005",
         "K 562 cell",
         "CLO:0007050",
         "female",
         null,
         "adult",
         null,
         "chronic myelogenous leukemia, BCR-ABL1 positive",
         "MONDO:0011996"
        ],
        [
         "44",
         "PERK_only_pMJ146",
         "chr2:88556741-88691518;-1",
         "1",
         "ENSG00000172071",
         "EIF2AK3",
         "protein_coding",
         null,
         "CRISPRi",
         null,
         "P0DT0H0M0S",
         "tunicamycin",
         "CHEBI:29699",
         "cell line",
         null,
         "Homo sapiens",
         "blood",
         "UBERON:0000178",
         "lymphoblast",
         "CL:0017005",
         "K 562 cell",
         "CLO:0007050",
         "female",
         null,
         "adult",
         null,
         "chronic myelogenous leukemia, BCR-ABL1 positive",
         "MONDO:0011996"
        ],
        [
         "45",
         "ATF6_PERK_pMJ150",
         "chr1:161766298-161977574;1|chr2:88556741-88691518;-1",
         "2",
         "ENSG00000118217|ENSG00000172071",
         "ATF6|EIF2AK3",
         "protein_coding|protein_coding",
         null,
         "CRISPRi",
         null,
         "P0DT0H0M0S",
         "tunicamycin",
         "CHEBI:29699",
         "cell line",
         null,
         "Homo sapiens",
         "blood",
         "UBERON:0000178",
         "lymphoblast",
         "CL:0017005",
         "K 562 cell",
         "CLO:0007050",
         "female",
         null,
         "adult",
         null,
         "chronic myelogenous leukemia, BCR-ABL1 positive",
         "MONDO:0011996"
        ],
        [
         "46",
         "ATF6_only_pMJ145",
         "chr1:161766298-161977574;1",
         "1",
         "ENSG00000118217",
         "ATF6",
         "protein_coding",
         null,
         "CRISPRi",
         null,
         "P0DT0H0M0S",
         "tunicamycin",
         "CHEBI:29699",
         "cell line",
         null,
         "Homo sapiens",
         "blood",
         "UBERON:0000178",
         "lymphoblast",
         "CL:0017005",
         "K 562 cell",
         "CLO:0007050",
         "female",
         null,
         "adult",
         null,
         "chronic myelogenous leukemia, BCR-ABL1 positive",
         "MONDO:0011996"
        ],
        [
         "47",
         "ATF6_PERK_IRE1_pMJ158",
         "chr1:161766298-161977574;1|chr2:88556741-88691518;-1|chr17:64039080-64130819;-1",
         "3",
         "ENSG00000118217|ENSG00000172071|ENSG00000178607",
         "ATF6|EIF2AK3|ERN1",
         "protein_coding|protein_coding|protein_coding",
         null,
         "CRISPRi",
         null,
         "P0DT0H0M0S",
         "tunicamycin",
         "CHEBI:29699",
         "cell line",
         null,
         "Homo sapiens",
         "blood",
         "UBERON:0000178",
         "lymphoblast",
         "CL:0017005",
         "K 562 cell",
         "CLO:0007050",
         "female",
         null,
         "adult",
         null,
         "chronic myelogenous leukemia, BCR-ABL1 positive",
         "MONDO:0011996"
        ],
        [
         "48",
         "ATF6_IRE1_pMJ152",
         "chr1:161766298-161977574;1|chr17:64039080-64130819;-1",
         "2",
         "ENSG00000118217|ENSG00000178607",
         "ATF6|ERN1",
         "protein_coding|protein_coding",
         null,
         "CRISPRi",
         null,
         "P0DT0H0M0S",
         "tunicamycin",
         "CHEBI:29699",
         "cell line",
         null,
         "Homo sapiens",
         "blood",
         "UBERON:0000178",
         "lymphoblast",
         "CL:0017005",
         "K 562 cell",
         "CLO:0007050",
         "female",
         null,
         "adult",
         null,
         "chronic myelogenous leukemia, BCR-ABL1 positive",
         "MONDO:0011996"
        ],
        [
         "49",
         "PERK_IRE1_pMJ154",
         "chr2:88556741-88691518;-1|chr17:64039080-64130819;-1",
         "2",
         "ENSG00000172071|ENSG00000178607",
         "EIF2AK3|ERN1",
         "protein_coding|protein_coding",
         null,
         "CRISPRi",
         null,
         "P0DT0H0M0S",
         "tunicamycin",
         "CHEBI:29699",
         "cell line",
         null,
         "Homo sapiens",
         "blood",
         "UBERON:0000178",
         "lymphoblast",
         "CL:0017005",
         "K 562 cell",
         "CLO:0007050",
         "female",
         null,
         "adult",
         null,
         "chronic myelogenous leukemia, BCR-ABL1 positive",
         "MONDO:0011996"
        ]
       ],
       "shape": {
        "columns": 27,
        "rows": 14697
       }
      },
      "text/html": [
       "<div>\n",
       "<style scoped>\n",
       "    .dataframe tbody tr th:only-of-type {\n",
       "        vertical-align: middle;\n",
       "    }\n",
       "\n",
       "    .dataframe tbody tr th {\n",
       "        vertical-align: top;\n",
       "    }\n",
       "\n",
       "    .dataframe thead th {\n",
       "        text-align: right;\n",
       "    }\n",
       "</style>\n",
       "<table border=\"1\" class=\"dataframe\">\n",
       "  <thead>\n",
       "    <tr style=\"text-align: right;\">\n",
       "      <th></th>\n",
       "      <th>perturbation_name</th>\n",
       "      <th>perturbed_target_coord</th>\n",
       "      <th>perturbed_target_number</th>\n",
       "      <th>perturbed_target_ensg</th>\n",
       "      <th>perturbed_target_symbol</th>\n",
       "      <th>perturbed_target_biotype</th>\n",
       "      <th>guide_sequence</th>\n",
       "      <th>perturbation_type_label</th>\n",
       "      <th>perturbation_type_id</th>\n",
       "      <th>timepoint</th>\n",
       "      <th>...</th>\n",
       "      <th>cell_type_label</th>\n",
       "      <th>cell_type_id</th>\n",
       "      <th>cell_line_label</th>\n",
       "      <th>cell_line_id</th>\n",
       "      <th>sex_label</th>\n",
       "      <th>sex_id</th>\n",
       "      <th>developmental_stage_label</th>\n",
       "      <th>developmental_stage_id</th>\n",
       "      <th>disease_label</th>\n",
       "      <th>disease_id</th>\n",
       "    </tr>\n",
       "  </thead>\n",
       "  <tbody>\n",
       "    <tr>\n",
       "      <th>0</th>\n",
       "      <td>3x_neg_ctrl_pMJ144-1</td>\n",
       "      <td>None</td>\n",
       "      <td>2</td>\n",
       "      <td>control|None</td>\n",
       "      <td>control|None</td>\n",
       "      <td>None</td>\n",
       "      <td>None</td>\n",
       "      <td>CRISPRi</td>\n",
       "      <td>None</td>\n",
       "      <td>P0DT0H0M0S</td>\n",
       "      <td>...</td>\n",
       "      <td>lymphoblast</td>\n",
       "      <td>CL:0017005</td>\n",
       "      <td>K 562 cell</td>\n",
       "      <td>CLO:0007050</td>\n",
       "      <td>female</td>\n",
       "      <td>None</td>\n",
       "      <td>adult</td>\n",
       "      <td>None</td>\n",
       "      <td>chronic myelogenous leukemia, BCR-ABL1 positive</td>\n",
       "      <td>MONDO:0011996</td>\n",
       "    </tr>\n",
       "    <tr>\n",
       "      <th>1</th>\n",
       "      <td>3x_neg_ctrl_pMJ144-2</td>\n",
       "      <td>None</td>\n",
       "      <td>2</td>\n",
       "      <td>control|None</td>\n",
       "      <td>control|None</td>\n",
       "      <td>None</td>\n",
       "      <td>None</td>\n",
       "      <td>CRISPRi</td>\n",
       "      <td>None</td>\n",
       "      <td>P0DT0H0M0S</td>\n",
       "      <td>...</td>\n",
       "      <td>lymphoblast</td>\n",
       "      <td>CL:0017005</td>\n",
       "      <td>K 562 cell</td>\n",
       "      <td>CLO:0007050</td>\n",
       "      <td>female</td>\n",
       "      <td>None</td>\n",
       "      <td>adult</td>\n",
       "      <td>None</td>\n",
       "      <td>chronic myelogenous leukemia, BCR-ABL1 positive</td>\n",
       "      <td>MONDO:0011996</td>\n",
       "    </tr>\n",
       "    <tr>\n",
       "      <th>2</th>\n",
       "      <td>3x_neg_ctrl_pMJ144-2</td>\n",
       "      <td>None</td>\n",
       "      <td>2</td>\n",
       "      <td>control|None</td>\n",
       "      <td>control|None</td>\n",
       "      <td>None</td>\n",
       "      <td>None</td>\n",
       "      <td>CRISPRi</td>\n",
       "      <td>None</td>\n",
       "      <td>P0DT0H0M0S</td>\n",
       "      <td>...</td>\n",
       "      <td>lymphoblast</td>\n",
       "      <td>CL:0017005</td>\n",
       "      <td>K 562 cell</td>\n",
       "      <td>CLO:0007050</td>\n",
       "      <td>female</td>\n",
       "      <td>None</td>\n",
       "      <td>adult</td>\n",
       "      <td>None</td>\n",
       "      <td>chronic myelogenous leukemia, BCR-ABL1 positive</td>\n",
       "      <td>MONDO:0011996</td>\n",
       "    </tr>\n",
       "    <tr>\n",
       "      <th>3</th>\n",
       "      <td>ATF6_PERK_IRE1_pMJ158</td>\n",
       "      <td>chr1:161766298-161977574;1|chr2:88556741-88691...</td>\n",
       "      <td>3</td>\n",
       "      <td>ENSG00000118217|ENSG00000172071|ENSG00000178607</td>\n",
       "      <td>ATF6|EIF2AK3|ERN1</td>\n",
       "      <td>protein_coding|protein_coding|protein_coding</td>\n",
       "      <td>None</td>\n",
       "      <td>CRISPRi</td>\n",
       "      <td>None</td>\n",
       "      <td>P0DT0H0M0S</td>\n",
       "      <td>...</td>\n",
       "      <td>lymphoblast</td>\n",
       "      <td>CL:0017005</td>\n",
       "      <td>K 562 cell</td>\n",
       "      <td>CLO:0007050</td>\n",
       "      <td>female</td>\n",
       "      <td>None</td>\n",
       "      <td>adult</td>\n",
       "      <td>None</td>\n",
       "      <td>chronic myelogenous leukemia, BCR-ABL1 positive</td>\n",
       "      <td>MONDO:0011996</td>\n",
       "    </tr>\n",
       "    <tr>\n",
       "      <th>4</th>\n",
       "      <td>ATF6_PERK_pMJ150</td>\n",
       "      <td>chr1:161766298-161977574;1|chr2:88556741-88691...</td>\n",
       "      <td>2</td>\n",
       "      <td>ENSG00000118217|ENSG00000172071</td>\n",
       "      <td>ATF6|EIF2AK3</td>\n",
       "      <td>protein_coding|protein_coding</td>\n",
       "      <td>None</td>\n",
       "      <td>CRISPRi</td>\n",
       "      <td>None</td>\n",
       "      <td>P0DT0H0M0S</td>\n",
       "      <td>...</td>\n",
       "      <td>lymphoblast</td>\n",
       "      <td>CL:0017005</td>\n",
       "      <td>K 562 cell</td>\n",
       "      <td>CLO:0007050</td>\n",
       "      <td>female</td>\n",
       "      <td>None</td>\n",
       "      <td>adult</td>\n",
       "      <td>None</td>\n",
       "      <td>chronic myelogenous leukemia, BCR-ABL1 positive</td>\n",
       "      <td>MONDO:0011996</td>\n",
       "    </tr>\n",
       "    <tr>\n",
       "      <th>...</th>\n",
       "      <td>...</td>\n",
       "      <td>...</td>\n",
       "      <td>...</td>\n",
       "      <td>...</td>\n",
       "      <td>...</td>\n",
       "      <td>...</td>\n",
       "      <td>...</td>\n",
       "      <td>...</td>\n",
       "      <td>...</td>\n",
       "      <td>...</td>\n",
       "      <td>...</td>\n",
       "      <td>...</td>\n",
       "      <td>...</td>\n",
       "      <td>...</td>\n",
       "      <td>...</td>\n",
       "      <td>...</td>\n",
       "      <td>...</td>\n",
       "      <td>...</td>\n",
       "      <td>...</td>\n",
       "      <td>...</td>\n",
       "      <td>...</td>\n",
       "    </tr>\n",
       "    <tr>\n",
       "      <th>14692</th>\n",
       "      <td>PERK_only_pMJ146</td>\n",
       "      <td>chr2:88556741-88691518;-1</td>\n",
       "      <td>1</td>\n",
       "      <td>ENSG00000172071</td>\n",
       "      <td>EIF2AK3</td>\n",
       "      <td>protein_coding</td>\n",
       "      <td>None</td>\n",
       "      <td>CRISPRi</td>\n",
       "      <td>None</td>\n",
       "      <td>P0DT0H0M0S</td>\n",
       "      <td>...</td>\n",
       "      <td>lymphoblast</td>\n",
       "      <td>CL:0017005</td>\n",
       "      <td>K 562 cell</td>\n",
       "      <td>CLO:0007050</td>\n",
       "      <td>female</td>\n",
       "      <td>None</td>\n",
       "      <td>adult</td>\n",
       "      <td>None</td>\n",
       "      <td>chronic myelogenous leukemia, BCR-ABL1 positive</td>\n",
       "      <td>MONDO:0011996</td>\n",
       "    </tr>\n",
       "    <tr>\n",
       "      <th>14693</th>\n",
       "      <td>PERK_IRE1_pMJ154</td>\n",
       "      <td>chr2:88556741-88691518;-1|chr17:64039080-64130...</td>\n",
       "      <td>2</td>\n",
       "      <td>ENSG00000172071|ENSG00000178607</td>\n",
       "      <td>EIF2AK3|ERN1</td>\n",
       "      <td>protein_coding|protein_coding</td>\n",
       "      <td>None</td>\n",
       "      <td>CRISPRi</td>\n",
       "      <td>None</td>\n",
       "      <td>P0DT0H0M0S</td>\n",
       "      <td>...</td>\n",
       "      <td>lymphoblast</td>\n",
       "      <td>CL:0017005</td>\n",
       "      <td>K 562 cell</td>\n",
       "      <td>CLO:0007050</td>\n",
       "      <td>female</td>\n",
       "      <td>None</td>\n",
       "      <td>adult</td>\n",
       "      <td>None</td>\n",
       "      <td>chronic myelogenous leukemia, BCR-ABL1 positive</td>\n",
       "      <td>MONDO:0011996</td>\n",
       "    </tr>\n",
       "    <tr>\n",
       "      <th>14694</th>\n",
       "      <td>3x_neg_ctrl_pMJ144-1</td>\n",
       "      <td>None</td>\n",
       "      <td>2</td>\n",
       "      <td>control|None</td>\n",
       "      <td>control|None</td>\n",
       "      <td>None</td>\n",
       "      <td>None</td>\n",
       "      <td>CRISPRi</td>\n",
       "      <td>None</td>\n",
       "      <td>P0DT0H0M0S</td>\n",
       "      <td>...</td>\n",
       "      <td>lymphoblast</td>\n",
       "      <td>CL:0017005</td>\n",
       "      <td>K 562 cell</td>\n",
       "      <td>CLO:0007050</td>\n",
       "      <td>female</td>\n",
       "      <td>None</td>\n",
       "      <td>adult</td>\n",
       "      <td>None</td>\n",
       "      <td>chronic myelogenous leukemia, BCR-ABL1 positive</td>\n",
       "      <td>MONDO:0011996</td>\n",
       "    </tr>\n",
       "    <tr>\n",
       "      <th>14695</th>\n",
       "      <td>PERK_IRE1_pMJ154</td>\n",
       "      <td>chr2:88556741-88691518;-1|chr17:64039080-64130...</td>\n",
       "      <td>2</td>\n",
       "      <td>ENSG00000172071|ENSG00000178607</td>\n",
       "      <td>EIF2AK3|ERN1</td>\n",
       "      <td>protein_coding|protein_coding</td>\n",
       "      <td>None</td>\n",
       "      <td>CRISPRi</td>\n",
       "      <td>None</td>\n",
       "      <td>P0DT0H0M0S</td>\n",
       "      <td>...</td>\n",
       "      <td>lymphoblast</td>\n",
       "      <td>CL:0017005</td>\n",
       "      <td>K 562 cell</td>\n",
       "      <td>CLO:0007050</td>\n",
       "      <td>female</td>\n",
       "      <td>None</td>\n",
       "      <td>adult</td>\n",
       "      <td>None</td>\n",
       "      <td>chronic myelogenous leukemia, BCR-ABL1 positive</td>\n",
       "      <td>MONDO:0011996</td>\n",
       "    </tr>\n",
       "    <tr>\n",
       "      <th>14696</th>\n",
       "      <td>3x_neg_ctrl_pMJ144-1</td>\n",
       "      <td>None</td>\n",
       "      <td>2</td>\n",
       "      <td>control|None</td>\n",
       "      <td>control|None</td>\n",
       "      <td>None</td>\n",
       "      <td>None</td>\n",
       "      <td>CRISPRi</td>\n",
       "      <td>None</td>\n",
       "      <td>P0DT0H0M0S</td>\n",
       "      <td>...</td>\n",
       "      <td>lymphoblast</td>\n",
       "      <td>CL:0017005</td>\n",
       "      <td>K 562 cell</td>\n",
       "      <td>CLO:0007050</td>\n",
       "      <td>female</td>\n",
       "      <td>None</td>\n",
       "      <td>adult</td>\n",
       "      <td>None</td>\n",
       "      <td>chronic myelogenous leukemia, BCR-ABL1 positive</td>\n",
       "      <td>MONDO:0011996</td>\n",
       "    </tr>\n",
       "  </tbody>\n",
       "</table>\n",
       "<p>14697 rows × 27 columns</p>\n",
       "</div>"
      ],
      "text/plain": [
       "           perturbation_name  \\\n",
       "0       3x_neg_ctrl_pMJ144-1   \n",
       "1       3x_neg_ctrl_pMJ144-2   \n",
       "2       3x_neg_ctrl_pMJ144-2   \n",
       "3      ATF6_PERK_IRE1_pMJ158   \n",
       "4           ATF6_PERK_pMJ150   \n",
       "...                      ...   \n",
       "14692       PERK_only_pMJ146   \n",
       "14693       PERK_IRE1_pMJ154   \n",
       "14694   3x_neg_ctrl_pMJ144-1   \n",
       "14695       PERK_IRE1_pMJ154   \n",
       "14696   3x_neg_ctrl_pMJ144-1   \n",
       "\n",
       "                                  perturbed_target_coord  \\\n",
       "0                                                   None   \n",
       "1                                                   None   \n",
       "2                                                   None   \n",
       "3      chr1:161766298-161977574;1|chr2:88556741-88691...   \n",
       "4      chr1:161766298-161977574;1|chr2:88556741-88691...   \n",
       "...                                                  ...   \n",
       "14692                          chr2:88556741-88691518;-1   \n",
       "14693  chr2:88556741-88691518;-1|chr17:64039080-64130...   \n",
       "14694                                               None   \n",
       "14695  chr2:88556741-88691518;-1|chr17:64039080-64130...   \n",
       "14696                                               None   \n",
       "\n",
       "       perturbed_target_number  \\\n",
       "0                            2   \n",
       "1                            2   \n",
       "2                            2   \n",
       "3                            3   \n",
       "4                            2   \n",
       "...                        ...   \n",
       "14692                        1   \n",
       "14693                        2   \n",
       "14694                        2   \n",
       "14695                        2   \n",
       "14696                        2   \n",
       "\n",
       "                                 perturbed_target_ensg  \\\n",
       "0                                         control|None   \n",
       "1                                         control|None   \n",
       "2                                         control|None   \n",
       "3      ENSG00000118217|ENSG00000172071|ENSG00000178607   \n",
       "4                      ENSG00000118217|ENSG00000172071   \n",
       "...                                                ...   \n",
       "14692                                  ENSG00000172071   \n",
       "14693                  ENSG00000172071|ENSG00000178607   \n",
       "14694                                     control|None   \n",
       "14695                  ENSG00000172071|ENSG00000178607   \n",
       "14696                                     control|None   \n",
       "\n",
       "      perturbed_target_symbol                      perturbed_target_biotype  \\\n",
       "0                control|None                                          None   \n",
       "1                control|None                                          None   \n",
       "2                control|None                                          None   \n",
       "3           ATF6|EIF2AK3|ERN1  protein_coding|protein_coding|protein_coding   \n",
       "4                ATF6|EIF2AK3                 protein_coding|protein_coding   \n",
       "...                       ...                                           ...   \n",
       "14692                 EIF2AK3                                protein_coding   \n",
       "14693            EIF2AK3|ERN1                 protein_coding|protein_coding   \n",
       "14694            control|None                                          None   \n",
       "14695            EIF2AK3|ERN1                 protein_coding|protein_coding   \n",
       "14696            control|None                                          None   \n",
       "\n",
       "      guide_sequence perturbation_type_label perturbation_type_id   timepoint  \\\n",
       "0               None                 CRISPRi                 None  P0DT0H0M0S   \n",
       "1               None                 CRISPRi                 None  P0DT0H0M0S   \n",
       "2               None                 CRISPRi                 None  P0DT0H0M0S   \n",
       "3               None                 CRISPRi                 None  P0DT0H0M0S   \n",
       "4               None                 CRISPRi                 None  P0DT0H0M0S   \n",
       "...              ...                     ...                  ...         ...   \n",
       "14692           None                 CRISPRi                 None  P0DT0H0M0S   \n",
       "14693           None                 CRISPRi                 None  P0DT0H0M0S   \n",
       "14694           None                 CRISPRi                 None  P0DT0H0M0S   \n",
       "14695           None                 CRISPRi                 None  P0DT0H0M0S   \n",
       "14696           None                 CRISPRi                 None  P0DT0H0M0S   \n",
       "\n",
       "       ... cell_type_label cell_type_id cell_line_label cell_line_id  \\\n",
       "0      ...     lymphoblast   CL:0017005      K 562 cell  CLO:0007050   \n",
       "1      ...     lymphoblast   CL:0017005      K 562 cell  CLO:0007050   \n",
       "2      ...     lymphoblast   CL:0017005      K 562 cell  CLO:0007050   \n",
       "3      ...     lymphoblast   CL:0017005      K 562 cell  CLO:0007050   \n",
       "4      ...     lymphoblast   CL:0017005      K 562 cell  CLO:0007050   \n",
       "...    ...             ...          ...             ...          ...   \n",
       "14692  ...     lymphoblast   CL:0017005      K 562 cell  CLO:0007050   \n",
       "14693  ...     lymphoblast   CL:0017005      K 562 cell  CLO:0007050   \n",
       "14694  ...     lymphoblast   CL:0017005      K 562 cell  CLO:0007050   \n",
       "14695  ...     lymphoblast   CL:0017005      K 562 cell  CLO:0007050   \n",
       "14696  ...     lymphoblast   CL:0017005      K 562 cell  CLO:0007050   \n",
       "\n",
       "      sex_label sex_id developmental_stage_label developmental_stage_id  \\\n",
       "0        female   None                     adult                   None   \n",
       "1        female   None                     adult                   None   \n",
       "2        female   None                     adult                   None   \n",
       "3        female   None                     adult                   None   \n",
       "4        female   None                     adult                   None   \n",
       "...         ...    ...                       ...                    ...   \n",
       "14692    female   None                     adult                   None   \n",
       "14693    female   None                     adult                   None   \n",
       "14694    female   None                     adult                   None   \n",
       "14695    female   None                     adult                   None   \n",
       "14696    female   None                     adult                   None   \n",
       "\n",
       "                                         disease_label     disease_id  \n",
       "0      chronic myelogenous leukemia, BCR-ABL1 positive  MONDO:0011996  \n",
       "1      chronic myelogenous leukemia, BCR-ABL1 positive  MONDO:0011996  \n",
       "2      chronic myelogenous leukemia, BCR-ABL1 positive  MONDO:0011996  \n",
       "3      chronic myelogenous leukemia, BCR-ABL1 positive  MONDO:0011996  \n",
       "4      chronic myelogenous leukemia, BCR-ABL1 positive  MONDO:0011996  \n",
       "...                                                ...            ...  \n",
       "14692  chronic myelogenous leukemia, BCR-ABL1 positive  MONDO:0011996  \n",
       "14693  chronic myelogenous leukemia, BCR-ABL1 positive  MONDO:0011996  \n",
       "14694  chronic myelogenous leukemia, BCR-ABL1 positive  MONDO:0011996  \n",
       "14695  chronic myelogenous leukemia, BCR-ABL1 positive  MONDO:0011996  \n",
       "14696  chronic myelogenous leukemia, BCR-ABL1 positive  MONDO:0011996  \n",
       "\n",
       "[14697 rows x 27 columns]"
      ]
     },
     "metadata": {},
     "output_type": "display_data"
    }
   ],
   "source": [
    "cur_data.validate_data(slot='obs')"
   ]
  },
  {
   "cell_type": "markdown",
   "id": "4c86800d",
   "metadata": {},
   "source": [
    "# VAR slot curation"
   ]
  },
  {
   "cell_type": "markdown",
   "id": "6e8d9842",
   "metadata": {},
   "source": [
    "### Standardise genes"
   ]
  },
  {
   "cell_type": "code",
   "execution_count": 31,
   "id": "d61f4089",
   "metadata": {},
   "outputs": [
    {
     "name": "stdout",
     "output_type": "stream",
     "text": [
      "Variable data:\n",
      "DataFrame shape: (32738, 3)\n",
      "--------------------------------------------------\n",
      "                   ensembl_id  ncounts  ncells\n",
      "gene_symbol                                   \n",
      "MIR1302-10    ENSG00000243485      2.0       2\n",
      "FAM138A       ENSG00000237613      0.0       0\n",
      "OR4F5         ENSG00000186092      0.0       0\n",
      "RP11-34P13.7  ENSG00000238009      1.0       1\n",
      "RP11-34P13.8  ENSG00000239945      2.0       2\n",
      "...                       ...      ...     ...\n",
      "AC145205.1    ENSG00000215635      0.0       0\n",
      "BAGE5         ENSG00000268590      0.0       0\n",
      "CU459201.1    ENSG00000251180      0.0       0\n",
      "AC002321.2    ENSG00000215616      0.0       0\n",
      "AC002321.1    ENSG00000215611      0.0       0\n",
      "\n",
      "[32738 rows x 3 columns]\n",
      "--------------------------------------------------\n"
     ]
    }
   ],
   "source": [
    "cur_data.show_var()"
   ]
  },
  {
   "cell_type": "code",
   "execution_count": 32,
   "id": "8d29f7b8",
   "metadata": {},
   "outputs": [
    {
     "name": "stdout",
     "output_type": "stream",
     "text": [
      "Converted 30168/32738 gene symbols/ENSG IDs to standardized gene symbols/ENSG IDs\n",
      "--------------------------------------------------\n"
     ]
    }
   ],
   "source": [
    "cur_data.standardize_genes(\n",
    "    slot=\"var\", input_column=\"ensembl_id\", input_column_type=\"ensembl_gene_id\"\n",
    ")"
   ]
  },
  {
   "cell_type": "markdown",
   "id": "451e5138",
   "metadata": {},
   "source": [
    "### Validate var metadata"
   ]
  },
  {
   "cell_type": "code",
   "execution_count": 33,
   "id": "6bba9183",
   "metadata": {},
   "outputs": [
    {
     "name": "stdout",
     "output_type": "stream",
     "text": [
      "adata.var is valid according to the var_schema.\n",
      "Validated data:\n"
     ]
    },
    {
     "data": {
      "application/vnd.microsoft.datawrangler.viewer.v0+json": {
       "columns": [
        {
         "name": "index",
         "rawType": "object",
         "type": "string"
        },
        {
         "name": "ensembl_gene_id",
         "rawType": "object",
         "type": "string"
        },
        {
         "name": "gene_symbol",
         "rawType": "object",
         "type": "unknown"
        }
       ],
       "ref": "9de2ce75-80d2-4638-a4de-9cf2a5b38266",
       "rows": [
        [
         "MIR1302-10",
         "ENSG00000243485",
         "MIR1302-2HG"
        ],
        [
         "FAM138A",
         "ENSG00000237613",
         "FAM138A"
        ],
        [
         "OR4F5",
         "ENSG00000186092",
         "OR4F5"
        ],
        [
         "RP11-34P13.7",
         "ENSG00000238009",
         null
        ],
        [
         "RP11-34P13.8",
         "ENSG00000239945",
         null
        ],
        [
         "AL627309.1",
         "ENSG00000237683",
         null
        ],
        [
         "RP11-34P13.14",
         "ENSG00000239906",
         null
        ],
        [
         "RP11-34P13.9",
         "ENSG00000241599",
         null
        ],
        [
         "AP006222.2",
         "ENSG00000228463",
         null
        ],
        [
         "RP4-669L17.10",
         "ENSG00000237094",
         null
        ],
        [
         "OR4F29",
         "ENSG00000235249",
         null
        ],
        [
         "RP4-669L17.2",
         "ENSG00000236601",
         null
        ],
        [
         "RP5-857K21.15",
         "ENSG00000236743",
         null
        ],
        [
         "RP5-857K21.1",
         "ENSG00000231709",
         null
        ],
        [
         "RP5-857K21.2",
         "ENSG00000235146",
         null
        ],
        [
         "RP5-857K21.3",
         "ENSG00000239664",
         null
        ],
        [
         "RP5-857K21.4",
         "ENSG00000230021",
         null
        ],
        [
         "RP5-857K21.5",
         "ENSG00000223659",
         null
        ],
        [
         "OR4F16",
         "ENSG00000185097",
         null
        ],
        [
         "RP11-206L10.3",
         "ENSG00000235373",
         null
        ],
        [
         "RP11-206L10.5",
         "ENSG00000240618",
         null
        ],
        [
         "RP11-206L10.4",
         "ENSG00000229905",
         null
        ],
        [
         "RP11-206L10.2",
         "ENSG00000228327",
         null
        ],
        [
         "RP11-206L10.9",
         "ENSG00000237491",
         "LINC01409"
        ],
        [
         "AL669831.1",
         "ENSG00000269831",
         null
        ],
        [
         "FAM87B",
         "ENSG00000177757",
         "FAM87B"
        ],
        [
         "LINC00115",
         "ENSG00000225880",
         "LINC00115"
        ],
        [
         "FAM41C",
         "ENSG00000230368",
         "FAM41C"
        ],
        [
         "AL645608.2",
         "ENSG00000269308",
         null
        ],
        [
         "RP11-54O7.16",
         "ENSG00000272438",
         null
        ],
        [
         "RP11-54O7.1",
         "ENSG00000230699",
         null
        ],
        [
         "RP11-54O7.2",
         "ENSG00000241180",
         null
        ],
        [
         "RP11-54O7.3",
         "ENSG00000223764",
         "LINC02593"
        ],
        [
         "SAMD11",
         "ENSG00000187634",
         "SAMD11"
        ],
        [
         "AL645608.1",
         "ENSG00000268179",
         null
        ],
        [
         "NOC2L",
         "ENSG00000188976",
         "NOC2L"
        ],
        [
         "KLHL17",
         "ENSG00000187961",
         "KLHL17"
        ],
        [
         "PLEKHN1",
         "ENSG00000187583",
         "PLEKHN1"
        ],
        [
         "C1orf170",
         "ENSG00000187642",
         "PERM1"
        ],
        [
         "RP11-54O7.17",
         "ENSG00000272512",
         null
        ],
        [
         "HES4",
         "ENSG00000188290",
         "HES4"
        ],
        [
         "RP11-54O7.11",
         "ENSG00000224969",
         null
        ],
        [
         "ISG15",
         "ENSG00000187608",
         "ISG15"
        ],
        [
         "AGRN",
         "ENSG00000188157",
         "AGRN"
        ],
        [
         "RP11-54O7.18",
         "ENSG00000273443",
         null
        ],
        [
         "RNF223",
         "ENSG00000237330",
         "RNF223"
        ],
        [
         "C1orf159",
         "ENSG00000131591",
         "C1orf159"
        ],
        [
         "RP11-465B22.5",
         "ENSG00000223823",
         "LINC01342"
        ],
        [
         "RP11-465B22.8",
         "ENSG00000272141",
         null
        ],
        [
         "TTLL10-AS1",
         "ENSG00000205231",
         "TTLL10-AS1"
        ]
       ],
       "shape": {
        "columns": 2,
        "rows": 32738
       }
      },
      "text/html": [
       "<div>\n",
       "<style scoped>\n",
       "    .dataframe tbody tr th:only-of-type {\n",
       "        vertical-align: middle;\n",
       "    }\n",
       "\n",
       "    .dataframe tbody tr th {\n",
       "        vertical-align: top;\n",
       "    }\n",
       "\n",
       "    .dataframe thead th {\n",
       "        text-align: right;\n",
       "    }\n",
       "</style>\n",
       "<table border=\"1\" class=\"dataframe\">\n",
       "  <thead>\n",
       "    <tr style=\"text-align: right;\">\n",
       "      <th></th>\n",
       "      <th>ensembl_gene_id</th>\n",
       "      <th>gene_symbol</th>\n",
       "    </tr>\n",
       "    <tr>\n",
       "      <th>index</th>\n",
       "      <th></th>\n",
       "      <th></th>\n",
       "    </tr>\n",
       "  </thead>\n",
       "  <tbody>\n",
       "    <tr>\n",
       "      <th>MIR1302-10</th>\n",
       "      <td>ENSG00000243485</td>\n",
       "      <td>MIR1302-2HG</td>\n",
       "    </tr>\n",
       "    <tr>\n",
       "      <th>FAM138A</th>\n",
       "      <td>ENSG00000237613</td>\n",
       "      <td>FAM138A</td>\n",
       "    </tr>\n",
       "    <tr>\n",
       "      <th>OR4F5</th>\n",
       "      <td>ENSG00000186092</td>\n",
       "      <td>OR4F5</td>\n",
       "    </tr>\n",
       "    <tr>\n",
       "      <th>RP11-34P13.7</th>\n",
       "      <td>ENSG00000238009</td>\n",
       "      <td>None</td>\n",
       "    </tr>\n",
       "    <tr>\n",
       "      <th>RP11-34P13.8</th>\n",
       "      <td>ENSG00000239945</td>\n",
       "      <td>None</td>\n",
       "    </tr>\n",
       "    <tr>\n",
       "      <th>...</th>\n",
       "      <td>...</td>\n",
       "      <td>...</td>\n",
       "    </tr>\n",
       "    <tr>\n",
       "      <th>AC145205.1</th>\n",
       "      <td>ENSG00000215635</td>\n",
       "      <td>None</td>\n",
       "    </tr>\n",
       "    <tr>\n",
       "      <th>BAGE5</th>\n",
       "      <td>ENSG00000268590</td>\n",
       "      <td>None</td>\n",
       "    </tr>\n",
       "    <tr>\n",
       "      <th>CU459201.1</th>\n",
       "      <td>ENSG00000251180</td>\n",
       "      <td>None</td>\n",
       "    </tr>\n",
       "    <tr>\n",
       "      <th>AC002321.2</th>\n",
       "      <td>ENSG00000215616</td>\n",
       "      <td>None</td>\n",
       "    </tr>\n",
       "    <tr>\n",
       "      <th>AC002321.1</th>\n",
       "      <td>ENSG00000215611</td>\n",
       "      <td>None</td>\n",
       "    </tr>\n",
       "  </tbody>\n",
       "</table>\n",
       "<p>32738 rows × 2 columns</p>\n",
       "</div>"
      ],
      "text/plain": [
       "              ensembl_gene_id  gene_symbol\n",
       "index                                     \n",
       "MIR1302-10    ENSG00000243485  MIR1302-2HG\n",
       "FAM138A       ENSG00000237613      FAM138A\n",
       "OR4F5         ENSG00000186092        OR4F5\n",
       "RP11-34P13.7  ENSG00000238009         None\n",
       "RP11-34P13.8  ENSG00000239945         None\n",
       "...                       ...          ...\n",
       "AC145205.1    ENSG00000215635         None\n",
       "BAGE5         ENSG00000268590         None\n",
       "CU459201.1    ENSG00000251180         None\n",
       "AC002321.2    ENSG00000215616         None\n",
       "AC002321.1    ENSG00000215611         None\n",
       "\n",
       "[32738 rows x 2 columns]"
      ]
     },
     "metadata": {},
     "output_type": "display_data"
    }
   ],
   "source": [
    "cur_data.validate_data(slot='var')"
   ]
  },
  {
   "cell_type": "markdown",
   "id": "34e78b8f",
   "metadata": {},
   "source": [
    "# Metadata curation"
   ]
  },
  {
   "cell_type": "markdown",
   "id": "ebc97757",
   "metadata": {},
   "source": [
    "### Auto-populate available metadata"
   ]
  },
  {
   "cell_type": "code",
   "execution_count": 34,
   "id": "c6f4f698",
   "metadata": {},
   "outputs": [
    {
     "name": "stdout",
     "output_type": "stream",
     "text": [
      "Experiment metadata populated with available fields from adata.obs:\n",
      "--------------------------------------------------\n",
      "{'associated_diseases': [{'term_id': 'MONDO:0011996',\n",
      "                          'term_label': 'chronic myelogenous leukemia, '\n",
      "                                        'BCR-ABL1 positive'}],\n",
      " 'experiment': {'number_of_perturbed_entities': 14697,\n",
      "                'number_of_perturbed_targets': 14,\n",
      "                'perturbation_type': [{'term_id': None,\n",
      "                                       'term_label': 'CRISPRi'}],\n",
      "                'perturbed_target_biotype': ['protein_coding|protein_coding|protein_coding',\n",
      "                                             'protein_coding|protein_coding',\n",
      "                                             'protein_coding',\n",
      "                                             'processed_pseudogene'],\n",
      "                'perturbed_targets': ['control|None',\n",
      "                                      'ENSG00000118217|ENSG00000172071|ENSG00000178607',\n",
      "                                      'ENSG00000118217|ENSG00000172071',\n",
      "                                      'ENSG00000118217',\n",
      "                                      'ENSG00000172071|ENSG00000178607',\n",
      "                                      'ENSG00000118217|ENSG00000178607',\n",
      "                                      'ENSG00000178607',\n",
      "                                      'ENSG00000172071',\n",
      "                                      'ENSG00000249947',\n",
      "                                      'ENSG00000134049',\n",
      "                                      'ENSG00000129084',\n",
      "                                      'ENSG00000197170',\n",
      "                                      'ENSG00000128272',\n",
      "                                      'ENSG00000124216',\n",
      "                                      'ENSG00000145817'],\n",
      "                'timepoints': ['P0DT0H0M0S'],\n",
      "                'treatments': [{'term_id': 'CHEBI:29699',\n",
      "                                'term_label': 'tunicamycin'},\n",
      "                               {'term_id': 'CHEBI:9516',\n",
      "                                'term_label': 'thapsigargin'},\n",
      "                               {'term_id': 'CHEBI:28262',\n",
      "                                'term_label': 'dimethyl sulfoxide'}]},\n",
      " 'model_system': {'cell_line': [{'term_id': 'CLO:0007050',\n",
      "                                 'term_label': 'K 562 cell'}],\n",
      "                  'cell_type': [{'term_id': 'CL:0017005',\n",
      "                                 'term_label': 'lymphoblast'}],\n",
      "                  'developmental_stage': [{'term_id': None,\n",
      "                                           'term_label': 'adult'}],\n",
      "                  'model_system': [{'term_id': None,\n",
      "                                    'term_label': 'cell line'}],\n",
      "                  'sex': [{'term_id': None, 'term_label': 'female'}],\n",
      "                  'tissue': [{'term_id': 'UBERON:0000178',\n",
      "                              'term_label': 'blood'}]}}\n",
      "--------------------------------------------------\n"
     ]
    }
   ],
   "source": [
    "cur_data.populate_exp_metadata()"
   ]
  },
  {
   "cell_type": "markdown",
   "id": "fe046448",
   "metadata": {},
   "source": [
    "### Manually curate metadata"
   ]
  },
  {
   "cell_type": "markdown",
   "id": "ae0fabd7",
   "metadata": {},
   "source": [
    "Study details"
   ]
  },
  {
   "cell_type": "code",
   "execution_count": 35,
   "id": "032ca964",
   "metadata": {},
   "outputs": [
    {
     "name": "stdout",
     "output_type": "stream",
     "text": [
      "Metadata for 'study' successfully validated:\n",
      "--------------------------------------------------\n",
      "{'first_author': {'first_name': 'Britt', 'last_name': 'Adamson'},\n",
      " 'last_author': {'first_name': 'Jonathan', 'last_name': 'Weissman'},\n",
      " 'study_uri': 'https://doi.org/10.1016/j.cell.2016.11.048',\n",
      " 'title': 'A Multiplexed Single-Cell CRISPR Screening Platform Enables '\n",
      "          'Systematic Dissection of the Unfolded Protein Response',\n",
      " 'year': 2016}\n",
      "--------------------------------------------------\n"
     ]
    }
   ],
   "source": [
    "cur_data.add_exp_metadata(\n",
    "    metadata_slot='study',\n",
    "    metadata={\n",
    "        \"title\": \"A Multiplexed Single-Cell CRISPR Screening Platform Enables Systematic Dissection of the Unfolded Protein Response\",\n",
    "        \"study_uri\": \"https://doi.org/10.1016/j.cell.2016.11.048\",\n",
    "        \"year\": 2016,\n",
    "        \"first_author\": {\"first_name\": \"Britt\", \"last_name\": \"Adamson\"},\n",
    "        \"last_author\": {\"first_name\": \"Jonathan\", \"last_name\": \"Weissman\"},\n",
    "    }\n",
    ")"
   ]
  },
  {
   "cell_type": "markdown",
   "id": "23f919c2",
   "metadata": {},
   "source": [
    "Experiment details"
   ]
  },
  {
   "cell_type": "code",
   "execution_count": 36,
   "id": "3b2a0479",
   "metadata": {},
   "outputs": [
    {
     "name": "stdout",
     "output_type": "stream",
     "text": [
      "Metadata for 'experiment' successfully validated:\n",
      "--------------------------------------------------\n",
      "{'number_of_perturbed_entities': 14697,\n",
      " 'number_of_perturbed_targets': 14,\n",
      " 'number_of_samples': 1,\n",
      " 'perturbation_type': [{'term_id': None, 'term_label': 'CRISPRi'}],\n",
      " 'perturbed_target_biotype': ['protein_coding|protein_coding|protein_coding',\n",
      "                              'protein_coding|protein_coding',\n",
      "                              'protein_coding',\n",
      "                              'processed_pseudogene'],\n",
      " 'perturbed_targets': ['control|None',\n",
      "                       'ENSG00000118217|ENSG00000172071|ENSG00000178607',\n",
      "                       'ENSG00000118217|ENSG00000172071',\n",
      "                       'ENSG00000118217',\n",
      "                       'ENSG00000172071|ENSG00000178607',\n",
      "                       'ENSG00000118217|ENSG00000178607',\n",
      "                       'ENSG00000178607',\n",
      "                       'ENSG00000172071',\n",
      "                       'ENSG00000249947',\n",
      "                       'ENSG00000134049',\n",
      "                       'ENSG00000129084',\n",
      "                       'ENSG00000197170',\n",
      "                       'ENSG00000128272',\n",
      "                       'ENSG00000124216',\n",
      "                       'ENSG00000145817'],\n",
      " 'replicates': 'none',\n",
      " 'summary': ' Using our final three-guide Perturb-seq vector to simultaneously '\n",
      "            'deliver 3 sgRNAs, we individually transduced K562 cells '\n",
      "            'expressing dCas9-KRAB (cBA010) with constructs that targeted all '\n",
      "            'three UPR sensor genes in every combination (singly with '\n",
      "            'controls, doubly with a control, or triply). Transduced cells '\n",
      "            'were then pooled and selected. After 2 days of combined growth, '\n",
      "            'the cells were treated with DMSO for 6 hr, 4 μg/mL tunicamycin '\n",
      "            '(Tm) for 6 hr, or 100 nM thapsigargin (Tg) for 4 hr and were '\n",
      "            'profiled by Perturb-seq (24 conditions in total).',\n",
      " 'timepoints': ['P0DT0H0M0S'],\n",
      " 'title': '14595 chronic myeloid leukemia (K562) cells transfected with a UPR '\n",
      "          'sensor gene-targeting gRNAs in every combination (singly with '\n",
      "          'controls, doubly with a control, or triply).',\n",
      " 'treatments': [{'term_id': 'CHEBI:29699', 'term_label': 'tunicamycin'},\n",
      "                {'term_id': 'CHEBI:9516', 'term_label': 'thapsigargin'},\n",
      "                {'term_id': 'CHEBI:28262', 'term_label': 'dimethyl sulfoxide'}]}\n",
      "--------------------------------------------------\n"
     ]
    }
   ],
   "source": [
    "cur_data.add_exp_metadata(\n",
    "    metadata_slot='experiment',\n",
    "    metadata={\n",
    "        \"title\": \"14595 chronic myeloid leukemia (K562) cells transfected with a UPR sensor gene-targeting gRNAs in every combination (singly with controls, doubly with a control, or triply).\",\n",
    "        \"summary\": \" Using our final three-guide Perturb-seq vector to simultaneously deliver 3 sgRNAs, we individually transduced K562 cells expressing dCas9-KRAB (cBA010) with constructs that targeted all three UPR sensor genes in every combination (singly with controls, doubly with a control, or triply). Transduced cells were then pooled and selected. After 2 days of combined growth, the cells were treated with DMSO for 6 hr, 4 μg/mL tunicamycin (Tm) for 6 hr, or 100 nM thapsigargin (Tg) for 4 hr and were profiled by Perturb-seq (24 conditions in total).\",\n",
    "        \"replicates\": \"none\",\n",
    "        \"number_of_samples\": 1\n",
    "    }\n",
    ")"
   ]
  },
  {
   "cell_type": "markdown",
   "id": "71d1a437",
   "metadata": {},
   "source": [
    "Perturbation details"
   ]
  },
  {
   "cell_type": "code",
   "execution_count": 37,
   "id": "ff7ee448",
   "metadata": {},
   "outputs": [
    {
     "name": "stdout",
     "output_type": "stream",
     "text": [
      "Metadata for 'perturbation' successfully validated:\n",
      "--------------------------------------------------\n",
      "{'enzyme_delivery_method': {'term_id': None,\n",
      "                            'term_label': 'retroviral transduction'},\n",
      " 'enzyme_expression_control': {'term_id': None,\n",
      "                               'term_label': 'constitutive expression'},\n",
      " 'enzyme_integration_state': {'term_id': None,\n",
      "                              'term_label': 'random locus integration'},\n",
      " 'library': {'accession': None,\n",
      "             'grnas_per_target': None,\n",
      "             'lentiviral_generation': '3',\n",
      "             'library_format': {'term_id': None, 'term_label': 'pooled'},\n",
      "             'library_name': 'custom',\n",
      "             'library_perturbation_type': [{'term_id': None,\n",
      "                                            'term_label': 'inhibition'}],\n",
      "             'library_scope': {'term_id': None, 'term_label': 'focused'},\n",
      "             'manufacturer': 'Weissman',\n",
      "             'total_grnas': '16',\n",
      "             'total_variants': None},\n",
      " 'library_delivery_method': {'term_id': None,\n",
      "                             'term_label': 'lentiviral transduction'},\n",
      " 'library_expression_control': {'term_id': None,\n",
      "                                'term_label': 'constitutive expression'},\n",
      " 'library_generation_method': {'term_id': 'EFO:0022895',\n",
      "                               'term_label': 'dCas9-KRAB'},\n",
      " 'library_generation_type': {'term_id': 'EFO:0022868',\n",
      "                             'term_label': 'endogenous'},\n",
      " 'library_integration_state': {'term_id': None,\n",
      "                               'term_label': 'random locus integration'}}\n",
      "--------------------------------------------------\n"
     ]
    }
   ],
   "source": [
    "cur_data.add_exp_metadata(\n",
    "    metadata_slot='perturbation',\n",
    "    metadata={\n",
    "        \"library_generation_type\": {\n",
    "            \"term_id\": \"EFO:0022868\",\n",
    "            \"term_label\": \"endogenous\",\n",
    "        },\n",
    "        \"library_generation_method\": {\n",
    "            \"term_id\": \"EFO:0022895\",\n",
    "            \"term_label\": \"dCas9-KRAB\",\n",
    "        },\n",
    "        \"enzyme_delivery_method\": {\n",
    "            \"term_id\": None,\n",
    "            \"term_label\": \"retroviral transduction\",\n",
    "        },\n",
    "        \"library_delivery_method\": {\n",
    "            \"term_id\": None,\n",
    "            \"term_label\": \"lentiviral transduction\",\n",
    "        },\n",
    "        \"enzyme_integration_state\": {\n",
    "            \"term_id\": None,\n",
    "            \"term_label\": \"random locus integration\",\n",
    "        },\n",
    "        \"library_integration_state\": {\n",
    "            \"term_id\": None,\n",
    "            \"term_label\": \"random locus integration\",\n",
    "        },\n",
    "        \"enzyme_expression_control\": {\n",
    "            \"term_id\": None,\n",
    "            \"term_label\": \"constitutive expression\",\n",
    "        },\n",
    "        \"library_expression_control\": {\n",
    "            \"term_id\": None,\n",
    "            \"term_label\": \"constitutive expression\",\n",
    "        },\n",
    "        \"library\": {\n",
    "            \"library_name\": \"custom\",\n",
    "            \"accession\": None,\n",
    "            \"library_format\": {\n",
    "                \"term_id\": None,\n",
    "                \"term_label\": \"pooled\",\n",
    "            },\n",
    "            \"library_scope\": {\n",
    "                \"term_id\": None,\n",
    "                \"term_label\": \"focused\",\n",
    "            },\n",
    "            \"library_perturbation_type\": [\n",
    "                {\n",
    "                    \"term_id\": None,\n",
    "                    \"term_label\": \"inhibition\",\n",
    "                },\n",
    "            ],\n",
    "            \"manufacturer\": \"Weissman\",\n",
    "            \"lentiviral_generation\": \"3\",\n",
    "            \"grnas_per_gene\": \"1\",\n",
    "            \"total_grnas\": \"16\",\n",
    "            \"total_variants\": None,\n",
    "        }\n",
    "    }\n",
    ")"
   ]
  },
  {
   "cell_type": "markdown",
   "id": "3b9d4a9f",
   "metadata": {},
   "source": [
    "Assay details"
   ]
  },
  {
   "cell_type": "code",
   "execution_count": 38,
   "id": "ecf58bca",
   "metadata": {},
   "outputs": [
    {
     "name": "stdout",
     "output_type": "stream",
     "text": [
      "Metadata for 'assay' successfully validated:\n",
      "--------------------------------------------------\n",
      "{'method_name': {'term_id': None, 'term_label': 'Perturb-seq'},\n",
      " 'method_uri': None,\n",
      " 'readout_dimensionality': {'term_id': None,\n",
      "                            'term_label': 'high-dimensional assay'},\n",
      " 'readout_technology': {'term_id': None, 'term_label': 'single-cell rna-seq'},\n",
      " 'readout_type': {'term_id': None, 'term_label': 'transcriptomic'},\n",
      " 'reference_genome': {'term_id': None, 'term_label': 'GRCh37'},\n",
      " 'sequencing_library_kit': {'term_id': None,\n",
      "                            'term_label': '10x Genomics Single Cell 3-prime'},\n",
      " 'sequencing_platform': {'term_id': None, 'term_label': 'Illumina HiSeq 4000'},\n",
      " 'sequencing_strategy': {'term_id': None, 'term_label': 'barcode sequencing'},\n",
      " 'software_analysis': {'term_id': None, 'term_label': 'MAGeCK'},\n",
      " 'software_counts': {'term_id': None, 'term_label': 'CellRanger'}}\n",
      "--------------------------------------------------\n"
     ]
    }
   ],
   "source": [
    "cur_data.add_exp_metadata(\n",
    "    metadata_slot='assay',\n",
    "    metadata={\n",
    "        \"readout_dimensionality\": {\n",
    "            \"term_id\": None,\n",
    "            \"term_label\": \"high-dimensional assay\",\n",
    "        },\n",
    "        \"readout_type\": {\n",
    "            \"term_id\": None,\n",
    "            \"term_label\": \"transcriptomic\",\n",
    "        },\n",
    "        \"readout_technology\": {\n",
    "            \"term_id\": None,\n",
    "            \"term_label\": \"single-cell rna-seq\",\n",
    "        },\n",
    "        \"method_name\": {\n",
    "            \"term_id\": None,\n",
    "            \"term_label\": \"Perturb-seq\",\n",
    "        },\n",
    "        \"method_uri\": None,\n",
    "        \"sequencing_library_kit\": {\n",
    "            \"term_id\": None,\n",
    "            \"term_label\": \"10x Genomics Single Cell 3-prime\",\n",
    "        },\n",
    "        \"sequencing_platform\": {\"term_id\": None, \"term_label\": \"Illumina HiSeq 4000\"},\n",
    "        \"sequencing_strategy\": {\"term_id\": None, \"term_label\": \"barcode sequencing\"},\n",
    "        \"software_counts\": {\"term_id\": None, \"term_label\": \"CellRanger\"},\n",
    "        \"software_analysis\": {\"term_id\": None, \"term_label\": \"MAGeCK\"},\n",
    "        \"reference_genome\": {\n",
    "            \"term_id\": None,\n",
    "            \"term_label\": \"GRCh37\",\n",
    "        }\n",
    "    }\n",
    ")"
   ]
  },
  {
   "cell_type": "markdown",
   "id": "9a3d37d3",
   "metadata": {},
   "source": [
    "Model system details"
   ]
  },
  {
   "cell_type": "code",
   "execution_count": 39,
   "id": "fca2fc2d",
   "metadata": {},
   "outputs": [
    {
     "name": "stdout",
     "output_type": "stream",
     "text": [
      "Metadata for 'model_system' successfully validated:\n",
      "--------------------------------------------------\n",
      "{'cell_line': [{'term_id': 'CLO:0007050', 'term_label': 'K 562 cell'}],\n",
      " 'cell_type': [{'term_id': 'CL:0017005', 'term_label': 'lymphoblast'}],\n",
      " 'developmental_stage': [{'term_id': None, 'term_label': 'adult'}],\n",
      " 'model_system': [{'term_id': None, 'term_label': 'cell line'}],\n",
      " 'passage_number': None,\n",
      " 'sex': [{'term_id': None, 'term_label': 'female'}],\n",
      " 'species': 'Homo sapiens',\n",
      " 'tissue': [{'term_id': 'UBERON:0000178', 'term_label': 'blood'}]}\n",
      "--------------------------------------------------\n"
     ]
    }
   ],
   "source": [
    "cur_data.add_exp_metadata(\n",
    "    metadata_slot='model_system',\n",
    "    metadata={\n",
    "        \"species\": \"Homo sapiens\",\n",
    "        \"passage_number\": None,\n",
    "        }\n",
    ")"
   ]
  },
  {
   "cell_type": "markdown",
   "id": "b06eaa7b",
   "metadata": {},
   "source": [
    "Associated dataset details"
   ]
  },
  {
   "cell_type": "code",
   "execution_count": 40,
   "id": "ae1dbd16",
   "metadata": {},
   "outputs": [
    {
     "name": "stdout",
     "output_type": "stream",
     "text": [
      "Metadata for 'associated_datasets' successfully validated:\n",
      "--------------------------------------------------\n",
      "[{'dataset_accession': 'GSM2406677',\n",
      "  'dataset_description': 'Barcode, cell identities, raw gene expression matrix',\n",
      "  'dataset_file_name': 'GSM2406677_10X005',\n",
      "  'dataset_uri': 'https://www.ncbi.nlm.nih.gov/geo/query/acc.cgi?acc=GSM2406677'},\n",
      " {'dataset_accession': 'GSM2406677_10X005',\n",
      "  'dataset_description': 'Processed .h5ad file',\n",
      "  'dataset_file_name': 'AdamsonWeissman2016_GSM2406677_10X005.h5ad',\n",
      "  'dataset_uri': 'https://zenodo.org/records/7041849/files/AdamsonWeissman2016_GSM2406677_10X005.h5ad'}]\n",
      "--------------------------------------------------\n"
     ]
    }
   ],
   "source": [
    "cur_data.add_exp_metadata(\n",
    "    metadata_slot='associated_datasets',\n",
    "    metadata=[\n",
    "        {\n",
    "            \"dataset_accession\": \"GSM2406677\",\n",
    "            \"dataset_uri\": \"https://www.ncbi.nlm.nih.gov/geo/query/acc.cgi?acc=GSM2406677\",\n",
    "            \"dataset_description\": \"Barcode, cell identities, raw gene expression matrix\",\n",
    "            \"dataset_file_name\": \"GSM2406677_10X005\",\n",
    "        },\n",
    "        {\n",
    "            \"dataset_accession\": \"GSM2406677_10X005\",\n",
    "            \"dataset_uri\": \"https://zenodo.org/records/7041849/files/AdamsonWeissman2016_GSM2406677_10X005.h5ad\",\n",
    "            \"dataset_description\": \"Processed .h5ad file\",\n",
    "            \"dataset_file_name\": \"AdamsonWeissman2016_GSM2406677_10X005.h5ad\"\n",
    "        }\n",
    "    ]\n",
    ")"
   ]
  },
  {
   "cell_type": "markdown",
   "id": "23d2c352",
   "metadata": {},
   "source": [
    "### Validate metadata"
   ]
  },
  {
   "cell_type": "code",
   "execution_count": 41,
   "id": "3ba39bad",
   "metadata": {},
   "outputs": [
    {
     "name": "stdout",
     "output_type": "stream",
     "text": [
      "Experiment metadata successfully validated:\n",
      "--------------------------------------------------\n",
      "{'assay': {'method_name': {'term_id': None, 'term_label': 'Perturb-seq'},\n",
      "           'method_uri': None,\n",
      "           'readout_dimensionality': {'term_id': None,\n",
      "                                      'term_label': 'high-dimensional assay'},\n",
      "           'readout_technology': {'term_id': None,\n",
      "                                  'term_label': 'single-cell rna-seq'},\n",
      "           'readout_type': {'term_id': None, 'term_label': 'transcriptomic'},\n",
      "           'reference_genome': {'term_id': None, 'term_label': 'GRCh37'},\n",
      "           'sequencing_library_kit': {'term_id': None,\n",
      "                                      'term_label': '10x Genomics Single Cell '\n",
      "                                                    '3-prime'},\n",
      "           'sequencing_platform': {'term_id': None,\n",
      "                                   'term_label': 'Illumina HiSeq 4000'},\n",
      "           'sequencing_strategy': {'term_id': None,\n",
      "                                   'term_label': 'barcode sequencing'},\n",
      "           'software_analysis': {'term_id': None, 'term_label': 'MAGeCK'},\n",
      "           'software_counts': {'term_id': None, 'term_label': 'CellRanger'}},\n",
      " 'associated_datasets': [{'dataset_accession': 'GSM2406677',\n",
      "                          'dataset_description': 'Barcode, cell identities, '\n",
      "                                                 'raw gene expression matrix',\n",
      "                          'dataset_file_name': 'GSM2406677_10X005',\n",
      "                          'dataset_uri': 'https://www.ncbi.nlm.nih.gov/geo/query/acc.cgi?acc=GSM2406677'},\n",
      "                         {'dataset_accession': 'GSM2406677_10X005',\n",
      "                          'dataset_description': 'Processed .h5ad file',\n",
      "                          'dataset_file_name': 'AdamsonWeissman2016_GSM2406677_10X005.h5ad',\n",
      "                          'dataset_uri': 'https://zenodo.org/records/7041849/files/AdamsonWeissman2016_GSM2406677_10X005.h5ad'}],\n",
      " 'associated_diseases': [{'term_id': 'MONDO:0011996',\n",
      "                          'term_label': 'chronic myelogenous leukemia, '\n",
      "                                        'BCR-ABL1 positive'}],\n",
      " 'experiment': {'number_of_perturbed_entities': 14697,\n",
      "                'number_of_perturbed_targets': 14,\n",
      "                'number_of_samples': 1,\n",
      "                'perturbation_type': [{'term_id': None,\n",
      "                                       'term_label': 'CRISPRi'}],\n",
      "                'perturbed_target_biotype': ['protein_coding|protein_coding|protein_coding',\n",
      "                                             'protein_coding|protein_coding',\n",
      "                                             'protein_coding',\n",
      "                                             'processed_pseudogene'],\n",
      "                'perturbed_targets': ['control|None',\n",
      "                                      'ENSG00000118217|ENSG00000172071|ENSG00000178607',\n",
      "                                      'ENSG00000118217|ENSG00000172071',\n",
      "                                      'ENSG00000118217',\n",
      "                                      'ENSG00000172071|ENSG00000178607',\n",
      "                                      'ENSG00000118217|ENSG00000178607',\n",
      "                                      'ENSG00000178607',\n",
      "                                      'ENSG00000172071',\n",
      "                                      'ENSG00000249947',\n",
      "                                      'ENSG00000134049',\n",
      "                                      'ENSG00000129084',\n",
      "                                      'ENSG00000197170',\n",
      "                                      'ENSG00000128272',\n",
      "                                      'ENSG00000124216',\n",
      "                                      'ENSG00000145817'],\n",
      "                'replicates': 'none',\n",
      "                'summary': ' Using our final three-guide Perturb-seq vector to '\n",
      "                           'simultaneously deliver 3 sgRNAs, we individually '\n",
      "                           'transduced K562 cells expressing dCas9-KRAB '\n",
      "                           '(cBA010) with constructs that targeted all three '\n",
      "                           'UPR sensor genes in every combination (singly with '\n",
      "                           'controls, doubly with a control, or triply). '\n",
      "                           'Transduced cells were then pooled and selected. '\n",
      "                           'After 2 days of combined growth, the cells were '\n",
      "                           'treated with DMSO for 6 hr, 4 μg/mL tunicamycin '\n",
      "                           '(Tm) for 6 hr, or 100 nM thapsigargin (Tg) for 4 '\n",
      "                           'hr and were profiled by Perturb-seq (24 conditions '\n",
      "                           'in total).',\n",
      "                'timepoints': ['P0DT0H0M0S'],\n",
      "                'title': '14595 chronic myeloid leukemia (K562) cells '\n",
      "                         'transfected with a UPR sensor gene-targeting gRNAs '\n",
      "                         'in every combination (singly with controls, doubly '\n",
      "                         'with a control, or triply).',\n",
      "                'treatments': [{'term_id': 'CHEBI:29699',\n",
      "                                'term_label': 'tunicamycin'},\n",
      "                               {'term_id': 'CHEBI:9516',\n",
      "                                'term_label': 'thapsigargin'},\n",
      "                               {'term_id': 'CHEBI:28262',\n",
      "                                'term_label': 'dimethyl sulfoxide'}]},\n",
      " 'model_system': {'cell_line': [{'term_id': 'CLO:0007050',\n",
      "                                 'term_label': 'K 562 cell'}],\n",
      "                  'cell_type': [{'term_id': 'CL:0017005',\n",
      "                                 'term_label': 'lymphoblast'}],\n",
      "                  'developmental_stage': [{'term_id': None,\n",
      "                                           'term_label': 'adult'}],\n",
      "                  'model_system': [{'term_id': None,\n",
      "                                    'term_label': 'cell line'}],\n",
      "                  'passage_number': None,\n",
      "                  'sex': [{'term_id': None, 'term_label': 'female'}],\n",
      "                  'species': 'Homo sapiens',\n",
      "                  'tissue': [{'term_id': 'UBERON:0000178',\n",
      "                              'term_label': 'blood'}]},\n",
      " 'perturbation': {'enzyme_delivery_method': {'term_id': None,\n",
      "                                             'term_label': 'retroviral '\n",
      "                                                           'transduction'},\n",
      "                  'enzyme_expression_control': {'term_id': None,\n",
      "                                                'term_label': 'constitutive '\n",
      "                                                              'expression'},\n",
      "                  'enzyme_integration_state': {'term_id': None,\n",
      "                                               'term_label': 'random locus '\n",
      "                                                             'integration'},\n",
      "                  'library': {'accession': None,\n",
      "                              'grnas_per_target': None,\n",
      "                              'lentiviral_generation': '3',\n",
      "                              'library_format': {'term_id': None,\n",
      "                                                 'term_label': 'pooled'},\n",
      "                              'library_name': 'custom',\n",
      "                              'library_perturbation_type': [{'term_id': None,\n",
      "                                                             'term_label': 'inhibition'}],\n",
      "                              'library_scope': {'term_id': None,\n",
      "                                                'term_label': 'focused'},\n",
      "                              'manufacturer': 'Weissman',\n",
      "                              'total_grnas': '16',\n",
      "                              'total_variants': None},\n",
      "                  'library_delivery_method': {'term_id': None,\n",
      "                                              'term_label': 'lentiviral '\n",
      "                                                            'transduction'},\n",
      "                  'library_expression_control': {'term_id': None,\n",
      "                                                 'term_label': 'constitutive '\n",
      "                                                               'expression'},\n",
      "                  'library_generation_method': {'term_id': 'EFO:0022895',\n",
      "                                                'term_label': 'dCas9-KRAB'},\n",
      "                  'library_generation_type': {'term_id': 'EFO:0022868',\n",
      "                                              'term_label': 'endogenous'},\n",
      "                  'library_integration_state': {'term_id': None,\n",
      "                                                'term_label': 'random locus '\n",
      "                                                              'integration'}},\n",
      " 'study': {'first_author': {'first_name': 'Britt', 'last_name': 'Adamson'},\n",
      "           'last_author': {'first_name': 'Jonathan', 'last_name': 'Weissman'},\n",
      "           'study_uri': 'https://doi.org/10.1016/j.cell.2016.11.048',\n",
      "           'title': 'A Multiplexed Single-Cell CRISPR Screening Platform '\n",
      "                    'Enables Systematic Dissection of the Unfolded Protein '\n",
      "                    'Response',\n",
      "           'year': 2016}}\n",
      "--------------------------------------------------\n"
     ]
    }
   ],
   "source": [
    "cur_data.validate_exp_metadata()"
   ]
  },
  {
   "cell_type": "markdown",
   "id": "7e6d2533",
   "metadata": {},
   "source": [
    "# Save the dataset"
   ]
  },
  {
   "cell_type": "code",
   "execution_count": 42,
   "id": "589a3147",
   "metadata": {},
   "outputs": [
    {
     "name": "stderr",
     "output_type": "stream",
     "text": [
      "/Users/zakirov/Documents/GitHub/PerturbationCatalogue/data_exploration/Perturbseq/curation_notebooks/../../curation_tools/curation_tools.py:181: FutureWarning: Downcasting object dtype arrays on .fillna, .ffill, .bfill is deprecated and will change in a future version. Call result.infer_objects(copy=False) instead. To opt-in to the future behavior, set `pd.set_option('future.no_silent_downcasting', True)`\n",
      "  adata.obs = adata.obs.fillna(value=np.nan)\n"
     ]
    },
    {
     "name": "stdout",
     "output_type": "stream",
     "text": [
      "Curated data saved to ../curated/h5ad/adamson_2016_upr_epistasis_curated.h5ad\n"
     ]
    }
   ],
   "source": [
    "cur_data.save_curated_data()"
   ]
  }
 ],
 "metadata": {
  "kernelspec": {
   "display_name": ".venv",
   "language": "python",
   "name": "python3"
  },
  "language_info": {
   "codemirror_mode": {
    "name": "ipython",
    "version": 3
   },
   "file_extension": ".py",
   "mimetype": "text/x-python",
   "name": "python",
   "nbconvert_exporter": "python",
   "pygments_lexer": "ipython3",
   "version": "3.12.8"
  }
 },
 "nbformat": 4,
 "nbformat_minor": 5
}

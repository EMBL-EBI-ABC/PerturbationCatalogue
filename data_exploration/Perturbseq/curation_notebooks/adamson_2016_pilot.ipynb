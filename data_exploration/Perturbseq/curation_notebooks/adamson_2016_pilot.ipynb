{
 "cells": [
  {
   "cell_type": "markdown",
   "id": "b380fe78",
   "metadata": {},
   "source": [
    "# Import"
   ]
  },
  {
   "cell_type": "code",
   "execution_count": 9,
   "id": "53cd9856",
   "metadata": {},
   "outputs": [],
   "source": [
    "import pandas as pd\n",
    "\n",
    "import sys\n",
    "\n",
    "sys.path.append(\"../../\")\n",
    "\n",
    "from curation_tools.curation_tools import CuratedDataset\n",
    "from curation_tools.perturbseq_anndata_schema import ObsSchema, VarSchema\n",
    "\n",
    "from curation_tools.unified_metadata_schema.unified_metadata_schema import Experiment"
   ]
  },
  {
   "cell_type": "markdown",
   "id": "69737cdc",
   "metadata": {},
   "source": [
    "# Initialise the dataset object"
   ]
  },
  {
   "cell_type": "code",
   "execution_count": 10,
   "id": "9baf9db8",
   "metadata": {},
   "outputs": [],
   "source": [
    "cur_data = CuratedDataset(\n",
    "    obs_schema=ObsSchema,\n",
    "    var_schema=VarSchema,\n",
    "    exp_metadata_schema=Experiment,\n",
    "    data_source_link = \"https://zenodo.org/record/7041849/files/AdamsonWeissman2016_GSM2406675_10X001.h5ad\",\n",
    "    noncurated_path = \"../non_curated/h5ad/adamson_2016_pilot.h5ad\"\n",
    ")"
   ]
  },
  {
   "cell_type": "markdown",
   "id": "d46c6327",
   "metadata": {},
   "source": [
    "# Download the dataset"
   ]
  },
  {
   "cell_type": "code",
   "execution_count": 11,
   "id": "5bbc8f94",
   "metadata": {},
   "outputs": [
    {
     "name": "stdout",
     "output_type": "stream",
     "text": [
      "File ../non_curated/h5ad/adamson_2016_pilot.h5ad already exists. Skipping download.\n",
      "Loading data from ../non_curated/h5ad/adamson_2016_pilot.h5ad\n",
      "Observation data:\n",
      "DataFrame shape: (5768, 15)\n",
      "--------------------------------------------------\n",
      "                  perturbation  read count  UMI count tissue_type cell_line  \\\n",
      "cell_barcode                                                                  \n",
      "AAACATACACCGAT    CREB1_pDS269      1286.0       98.0   cell_line      K562   \n",
      "AAACATACAGAGAT    SNAI1_pDS266       296.0       19.0   cell_line      K562   \n",
      "AAACATACCAGAAA  62(mod)_pBA581      1829.0      162.0   cell_line      K562   \n",
      "AAACATACGTTGAC    EP300_pDS268      1580.0       98.0   cell_line      K562   \n",
      "AAACATACTGTTCT  62(mod)_pBA581       748.0       51.0   cell_line      K562   \n",
      "...                        ...         ...        ...         ...       ...   \n",
      "TTTGACTGGAAGGC    SNAI1_pDS266       331.0       22.0   cell_line      K562   \n",
      "TTTGACTGGACGAG    SNAI1_pDS266       745.0       35.0   cell_line      K562   \n",
      "TTTGCATGCCCGTT    SNAI1_pDS266       784.0       37.0   cell_line      K562   \n",
      "TTTGCATGCCGTTC  62(mod)_pBA581      1469.0       79.0   cell_line      K562   \n",
      "TTTGCATGTTCTAC  62(mod)_pBA581       516.0       26.0   cell_line      K562   \n",
      "\n",
      "                cancer                       disease perturbation_type  \\\n",
      "cell_barcode                                                             \n",
      "AAACATACACCGAT    True  chronic myelogenous leukemia            CRISPR   \n",
      "AAACATACAGAGAT    True  chronic myelogenous leukemia            CRISPR   \n",
      "AAACATACCAGAAA    True  chronic myelogenous leukemia            CRISPR   \n",
      "AAACATACGTTGAC    True  chronic myelogenous leukemia            CRISPR   \n",
      "AAACATACTGTTCT    True  chronic myelogenous leukemia            CRISPR   \n",
      "...                ...                           ...               ...   \n",
      "TTTGACTGGAAGGC    True  chronic myelogenous leukemia            CRISPR   \n",
      "TTTGACTGGACGAG    True  chronic myelogenous leukemia            CRISPR   \n",
      "TTTGCATGCCCGTT    True  chronic myelogenous leukemia            CRISPR   \n",
      "TTTGCATGCCGTTC    True  chronic myelogenous leukemia            CRISPR   \n",
      "TTTGCATGTTCTAC    True  chronic myelogenous leukemia            CRISPR   \n",
      "\n",
      "                    celltype organism  ncounts  ngenes  percent_mito  \\\n",
      "cell_barcode                                                           \n",
      "AAACATACACCGAT  lymphoblasts    human   8138.0    2412           0.0   \n",
      "AAACATACAGAGAT  lymphoblasts    human   8980.0    2386           0.0   \n",
      "AAACATACCAGAAA  lymphoblasts    human  28610.0    4404           0.0   \n",
      "AAACATACGTTGAC  lymphoblasts    human  11346.0    2815           0.0   \n",
      "AAACATACTGTTCT  lymphoblasts    human   9864.0    2584           0.0   \n",
      "...                      ...      ...      ...     ...           ...   \n",
      "TTTGACTGGAAGGC  lymphoblasts    human   5942.0    1856           0.0   \n",
      "TTTGACTGGACGAG  lymphoblasts    human   8150.0    2263           0.0   \n",
      "TTTGCATGCCCGTT  lymphoblasts    human   9179.0    2473           0.0   \n",
      "TTTGCATGCCGTTC  lymphoblasts    human  15785.0    3167           0.0   \n",
      "TTTGCATGTTCTAC  lymphoblasts    human   4197.0    1580           0.0   \n",
      "\n",
      "                percent_ribo  nperts  \n",
      "cell_barcode                          \n",
      "AAACATACACCGAT     34.037846       2  \n",
      "AAACATACAGAGAT     40.011135       2  \n",
      "AAACATACCAGAAA     40.003494       2  \n",
      "AAACATACGTTGAC     35.184204       2  \n",
      "AAACATACTGTTCT     35.817112       2  \n",
      "...                      ...     ...  \n",
      "TTTGACTGGAAGGC     31.605520       2  \n",
      "TTTGACTGGACGAG     36.797546       2  \n",
      "TTTGCATGCCCGTT     37.128227       2  \n",
      "TTTGCATGCCGTTC     37.465950       2  \n",
      "TTTGCATGTTCTAC     34.071957       2  \n",
      "\n",
      "[5768 rows x 15 columns]\n",
      "--------------------------------------------------\n"
     ]
    }
   ],
   "source": [
    "cur_data.download_data()\n",
    "cur_data.load_data()\n",
    "# show the data\n",
    "cur_data.show_obs()"
   ]
  },
  {
   "cell_type": "code",
   "execution_count": 12,
   "id": "8847bae2",
   "metadata": {},
   "outputs": [
    {
     "name": "stdout",
     "output_type": "stream",
     "text": [
      "Variable data:\n",
      "DataFrame shape: (35635, 3)\n",
      "--------------------------------------------------\n",
      "                   ensembl_id  ncounts  ncells\n",
      "gene_symbol                                   \n",
      "MIR1302-10    ENSG00000243485      0.0       0\n",
      "FAM138A       ENSG00000237613      0.0       0\n",
      "OR4F5         ENSG00000186092      0.0       0\n",
      "RP11-34P13.7  ENSG00000238009      0.0       0\n",
      "RP11-34P13.8  ENSG00000239945      1.0       1\n",
      "...                       ...      ...     ...\n",
      "MT-ND4L       ENSG00000212907      0.0       0\n",
      "MT-ND4        ENSG00000198886      0.0       0\n",
      "MT-ND5        ENSG00000198786      0.0       0\n",
      "MT-ND6        ENSG00000198695      0.0       0\n",
      "MT-CYB        ENSG00000198727      0.0       0\n",
      "\n",
      "[35635 rows x 3 columns]\n",
      "--------------------------------------------------\n"
     ]
    }
   ],
   "source": [
    "cur_data.show_var()"
   ]
  },
  {
   "cell_type": "markdown",
   "id": "5a60e0fa",
   "metadata": {},
   "source": [
    "# OBS slot curation"
   ]
  },
  {
   "cell_type": "markdown",
   "id": "91296399",
   "metadata": {},
   "source": [
    "### Show unique perturbations"
   ]
  },
  {
   "cell_type": "code",
   "execution_count": 13,
   "id": "1c987cfa",
   "metadata": {},
   "outputs": [
    {
     "name": "stdout",
     "output_type": "stream",
     "text": [
      "Unique values in adata.obs.perturbation: 10\n",
      "--------------------------------------------------\n",
      "{nan,\n",
      " '*',\n",
      " '62(mod)_pBA581',\n",
      " 'BHLHE40_pDS258',\n",
      " 'CREB1_pDS269',\n",
      " 'DDIT3_pDS263',\n",
      " 'EP300_pDS268',\n",
      " 'SNAI1_pDS266',\n",
      " 'SPI1_pDS255',\n",
      " 'ZNF326_pDS262'}\n",
      "--------------------------------------------------\n"
     ]
    }
   ],
   "source": [
    "cur_data.show_unique(slot = 'obs', column = 'perturbation')"
   ]
  },
  {
   "cell_type": "markdown",
   "id": "913c85af",
   "metadata": {},
   "source": [
    "### Drop NAs"
   ]
  },
  {
   "cell_type": "code",
   "execution_count": 14,
   "id": "b999f0c0",
   "metadata": {},
   "outputs": [
    {
     "name": "stdout",
     "output_type": "stream",
     "text": [
      "Removed 10 NA entries from column perturbation of adata.obs\n"
     ]
    }
   ],
   "source": [
    "cur_data.remove_na(slot = 'obs', column = 'perturbation')"
   ]
  },
  {
   "cell_type": "markdown",
   "id": "e4fddde7",
   "metadata": {},
   "source": [
    "### Drop \"*\" entries"
   ]
  },
  {
   "cell_type": "code",
   "execution_count": 15,
   "id": "3d549638",
   "metadata": {},
   "outputs": [
    {
     "name": "stdout",
     "output_type": "stream",
     "text": [
      "Removed 6 entries \\* from column perturbation of adata.obs\n"
     ]
    },
    {
     "name": "stderr",
     "output_type": "stream",
     "text": [
      "<>:1: SyntaxWarning: invalid escape sequence '\\*'\n",
      "<>:1: SyntaxWarning: invalid escape sequence '\\*'\n",
      "/var/folders/f_/7vds5wkn7vn5h991mk4_ybt80000gp/T/ipykernel_73249/814522886.py:1: SyntaxWarning: invalid escape sequence '\\*'\n",
      "  cur_data.remove_entries(slot = 'obs', column = 'perturbation', to_remove = '\\*')\n"
     ]
    }
   ],
   "source": [
    "cur_data.remove_entries(slot = 'obs', column = 'perturbation', to_remove = '\\*')"
   ]
  },
  {
   "cell_type": "code",
   "execution_count": 16,
   "id": "cdfd84e0",
   "metadata": {},
   "outputs": [
    {
     "name": "stdout",
     "output_type": "stream",
     "text": [
      "Unique values in adata.obs.perturbation: 8\n",
      "--------------------------------------------------\n",
      "{'62(mod)_pBA581',\n",
      " 'BHLHE40_pDS258',\n",
      " 'CREB1_pDS269',\n",
      " 'DDIT3_pDS263',\n",
      " 'EP300_pDS268',\n",
      " 'SNAI1_pDS266',\n",
      " 'SPI1_pDS255',\n",
      " 'ZNF326_pDS262'}\n",
      "--------------------------------------------------\n"
     ]
    }
   ],
   "source": [
    "cur_data.show_unique(slot = 'obs', column = 'perturbation')"
   ]
  },
  {
   "cell_type": "markdown",
   "id": "70f242e9",
   "metadata": {},
   "source": [
    "### Rename `perturbation` to `perturbation_name`"
   ]
  },
  {
   "cell_type": "code",
   "execution_count": 17,
   "id": "63214907",
   "metadata": {},
   "outputs": [
    {
     "name": "stdout",
     "output_type": "stream",
     "text": [
      "Renamed columns in adata.obs: {'perturbation': 'perturbation_name'}\n"
     ]
    }
   ],
   "source": [
    "cur_data.rename_columns(slot = 'obs', name_dict = {'perturbation': 'perturbation_name'})"
   ]
  },
  {
   "cell_type": "markdown",
   "id": "d447092c",
   "metadata": {},
   "source": [
    "### Extract perturbation symbols"
   ]
  },
  {
   "cell_type": "markdown",
   "id": "05334988",
   "metadata": {},
   "source": [
    "#### Add `perturbation_target_symbol` column based on the `perturbation_name`"
   ]
  },
  {
   "cell_type": "code",
   "execution_count": 18,
   "id": "a4e140f4",
   "metadata": {},
   "outputs": [
    {
     "name": "stdout",
     "output_type": "stream",
     "text": [
      "Column perturbed_target_symbol added to adata.obs\n",
      "Unique values in adata.obs.perturbed_target_symbol: 8\n",
      "--------------------------------------------------\n",
      "{'62(mod)_pBA581',\n",
      " 'BHLHE40_pDS258',\n",
      " 'CREB1_pDS269',\n",
      " 'DDIT3_pDS263',\n",
      " 'EP300_pDS268',\n",
      " 'SNAI1_pDS266',\n",
      " 'SPI1_pDS255',\n",
      " 'ZNF326_pDS262'}\n",
      "--------------------------------------------------\n"
     ]
    }
   ],
   "source": [
    "cur_data.create_columns(\n",
    "    slot=\"obs\", col_dict={\"perturbed_target_symbol\": cur_data.adata.obs[\"perturbation_name\"]},\n",
    "    overwrite=True\n",
    ")\n",
    "cur_data.show_unique(slot = 'obs', column = 'perturbed_target_symbol')"
   ]
  },
  {
   "cell_type": "markdown",
   "id": "e38d4299",
   "metadata": {},
   "source": [
    "#### Clean up `perturbation_target_symbol` column"
   ]
  },
  {
   "cell_type": "code",
   "execution_count": null,
   "id": "7ecf7770",
   "metadata": {},
   "outputs": [
    {
     "name": "stdout",
     "output_type": "stream",
     "text": [
      "Replaced entries 62\\(mod\\).* -> control in column perturbed_target_symbol of adata.obs\n",
      "Replaced entries _(pD|pB).* ->  in column perturbed_target_symbol of adata.obs\n",
      "Unique values in adata.obs.perturbed_target_symbol: 8\n",
      "--------------------------------------------------\n",
      "{'SNAI1', 'SPI1', 'EP300', 'control', 'CREB1', 'ZNF326', 'BHLHE40', 'DDIT3'}\n",
      "--------------------------------------------------\n"
     ]
    }
   ],
   "source": [
    "cur_data.replace_entries(\n",
    "    slot=\"obs\",\n",
    "    column=\"perturbed_target_symbol\",\n",
    "    to_replace=r\"62\\(mod\\).*\",\n",
    "    replace_value=\"control\"\n",
    ")\n",
    "\n",
    "cur_data.replace_entries(\n",
    "    slot=\"obs\",\n",
    "    column=\"perturbed_target_symbol\",\n",
    "    to_replace=\"_(pD|pB).*\",\n",
    "    replace_value=\"\"\n",
    ")\n",
    "\n",
    "cur_data.show_unique(slot = 'obs', column = 'perturbed_target_symbol')"
   ]
  },
  {
   "cell_type": "markdown",
   "id": "7cde57ce",
   "metadata": {},
   "source": [
    "### Standardise perturbation targets"
   ]
  },
  {
   "cell_type": "code",
   "execution_count": 12,
   "id": "6a137714",
   "metadata": {},
   "outputs": [
    {
     "name": "stdout",
     "output_type": "stream",
     "text": [
      "Exploded column perturbed_target_symbol using separator _\n"
     ]
    },
    {
     "name": "stderr",
     "output_type": "stream",
     "text": [
      "/Users/zakirov/Documents/GitHub/PerturbationCatalogue/data_exploration/Perturbseq/curation_notebooks/tools/curation_tools.py:726: SettingWithCopyWarning: \n",
      "A value is trying to be set on a copy of a slice from a DataFrame.\n",
      "Try using .loc[row_indexer,col_indexer] = value instead\n",
      "\n",
      "See the caveats in the documentation: https://pandas.pydata.org/pandas-docs/stable/user_guide/indexing.html#returning-a-view-versus-a-copy\n",
      "  map_df[\"synonyms\"] = map_df[\"synonyms\"].str.split(\"|\")\n"
     ]
    },
    {
     "name": "stdout",
     "output_type": "stream",
     "text": [
      "Mapped potential synonyms in perturbed_target_symbol of the provided dataframe to gene symbols\n",
      "Converted 5752/5752 gene symbols/ENSG IDs to standardized gene symbols/ENSG IDs\n",
      "--------------------------------------------------\n",
      "Collapsed column index using separator |\n"
     ]
    }
   ],
   "source": [
    "cur_data.standardize_genes(\n",
    "    slot='obs',\n",
    "    input_column='perturbed_target_symbol',\n",
    "    input_column_type='gene_symbol',\n",
    "    multiple_entries=True,\n",
    "    multiple_entries_sep='_'\n",
    ")"
   ]
  },
  {
   "cell_type": "markdown",
   "id": "c0827c11",
   "metadata": {},
   "source": [
    "### Add `perturbed_target_number` column"
   ]
  },
  {
   "cell_type": "code",
   "execution_count": 13,
   "id": "f8577a0c",
   "metadata": {},
   "outputs": [
    {
     "name": "stdout",
     "output_type": "stream",
     "text": [
      "Counted entries in column perturbed_target_symbol of adata.obs and stored in perturbed_target_number\n"
     ]
    }
   ],
   "source": [
    "cur_data.count_entries(\n",
    "    slot='obs',\n",
    "    input_column='perturbed_target_symbol',\n",
    "    count_column_name='perturbed_target_number',\n",
    "    sep='|'\n",
    ")"
   ]
  },
  {
   "cell_type": "code",
   "execution_count": 14,
   "id": "f7e7b9ab",
   "metadata": {},
   "outputs": [
    {
     "name": "stdout",
     "output_type": "stream",
     "text": [
      "Observation data:\n",
      "DataFrame shape: (5752, 3)\n",
      "--------------------------------------------------\n",
      "               perturbation_name perturbed_target_symbol perturbed_target_ensg\n",
      "index                                                                         \n",
      "AAACATACACCGAT      CREB1_pDS269                   CREB1       ENSG00000118260\n",
      "AAACATACAGAGAT      SNAI1_pDS266                   SNAI1       ENSG00000124216\n",
      "AAACATACCAGAAA    62(mod)_pBA581                 control               control\n",
      "AAACATACGTTGAC      EP300_pDS268                   EP300       ENSG00000100393\n",
      "AAACATACTGTTCT    62(mod)_pBA581                 control               control\n",
      "...                          ...                     ...                   ...\n",
      "TTTGACTGGAAGGC      SNAI1_pDS266                   SNAI1       ENSG00000124216\n",
      "TTTGACTGGACGAG      SNAI1_pDS266                   SNAI1       ENSG00000124216\n",
      "TTTGCATGCCCGTT      SNAI1_pDS266                   SNAI1       ENSG00000124216\n",
      "TTTGCATGCCGTTC    62(mod)_pBA581                 control               control\n",
      "TTTGCATGTTCTAC    62(mod)_pBA581                 control               control\n",
      "\n",
      "[5752 rows x 3 columns]\n",
      "--------------------------------------------------\n"
     ]
    }
   ],
   "source": [
    "cur_data.show_obs(['perturbation_name', 'perturbed_target_symbol', 'perturbed_target_ensg'])"
   ]
  },
  {
   "cell_type": "markdown",
   "id": "81a9223d",
   "metadata": {},
   "source": [
    "### Add treatment information"
   ]
  },
  {
   "cell_type": "markdown",
   "id": "e3464ec5",
   "metadata": {},
   "source": [
    "Add treatment information with the dataset"
   ]
  },
  {
   "cell_type": "code",
   "execution_count": 15,
   "id": "610cdb1f",
   "metadata": {},
   "outputs": [
    {
     "name": "stdout",
     "output_type": "stream",
     "text": [
      "Column treatment_label added to adata.obs\n",
      "Column treatment_id added to adata.obs\n"
     ]
    }
   ],
   "source": [
    "cur_data.create_columns(\n",
    "    slot=\"obs\",\n",
    "    col_dict={\n",
    "        \"treatment_label\": None, \n",
    "        \"treatment_id\": None\n",
    "    }\n",
    ")"
   ]
  },
  {
   "cell_type": "markdown",
   "id": "f5cc2542",
   "metadata": {},
   "source": [
    "### Add perturbation information"
   ]
  },
  {
   "cell_type": "code",
   "execution_count": 16,
   "id": "93c5dad2",
   "metadata": {},
   "outputs": [
    {
     "name": "stdout",
     "output_type": "stream",
     "text": [
      "Column perturbation_type_label added to adata.obs\n",
      "Column perturbation_type_id added to adata.obs\n"
     ]
    }
   ],
   "source": [
    "cur_data.create_columns(\n",
    "    slot=\"obs\",\n",
    "    col_dict={\n",
    "        \"perturbation_type_label\": \"CRISPRi\", \n",
    "        \"perturbation_type_id\": None\n",
    "    }\n",
    ")"
   ]
  },
  {
   "cell_type": "markdown",
   "id": "c049fbc1",
   "metadata": {},
   "source": [
    "### Add timepoint information"
   ]
  },
  {
   "cell_type": "code",
   "execution_count": 17,
   "id": "66933322",
   "metadata": {},
   "outputs": [
    {
     "name": "stdout",
     "output_type": "stream",
     "text": [
      "Column timepoint added to adata.obs\n"
     ]
    }
   ],
   "source": [
    "cur_data.create_columns(\n",
    "    slot=\"obs\",\n",
    "    col_dict={\"timepoint\": \"P0DT0H0M0S\"},\n",
    ")"
   ]
  },
  {
   "cell_type": "markdown",
   "id": "6ccdc96c",
   "metadata": {},
   "source": [
    "### Add model system information"
   ]
  },
  {
   "cell_type": "code",
   "execution_count": 18,
   "id": "d626565a",
   "metadata": {},
   "outputs": [
    {
     "name": "stdout",
     "output_type": "stream",
     "text": [
      "Column model_system_label added to adata.obs\n",
      "Column model_system_id added to adata.obs\n"
     ]
    }
   ],
   "source": [
    "cur_data.create_columns(\n",
    "    slot=\"obs\",\n",
    "    col_dict={\n",
    "        \"model_system_label\": \"cell line\", \n",
    "        \"model_system_id\": None\n",
    "    }\n",
    ")"
   ]
  },
  {
   "cell_type": "markdown",
   "id": "f0088a80",
   "metadata": {},
   "source": [
    "### Add tissue information"
   ]
  },
  {
   "cell_type": "code",
   "execution_count": 19,
   "id": "6fc2f1f1",
   "metadata": {},
   "outputs": [
    {
     "name": "stdout",
     "output_type": "stream",
     "text": [
      "Column tissue added to adata.obs\n",
      "Mapped 1 tissue ontology terms from `tissue` column to ontology terms\n",
      "  input_column input_column_lower name_lower     ontology_id   name  \\\n",
      "0        blood              blood      blood  UBERON:0000178  blood   \n",
      "\n",
      "  matching_type  \n",
      "0          name  \n"
     ]
    }
   ],
   "source": [
    "cur_data.create_columns(\n",
    "    slot='obs',\n",
    "    col_dict={\n",
    "        'tissue': 'blood'\n",
    "    }\n",
    ")\n",
    "\n",
    "cur_data.standardize_ontology(\n",
    "    input_column='tissue',\n",
    "    column_type='term_name',\n",
    "    ontology_type='tissue',\n",
    "    overwrite=True\n",
    ")"
   ]
  },
  {
   "cell_type": "markdown",
   "id": "3b018691",
   "metadata": {},
   "source": [
    "### Add cell type information"
   ]
  },
  {
   "cell_type": "code",
   "execution_count": 20,
   "id": "7bfd5334",
   "metadata": {},
   "outputs": [
    {
     "name": "stdout",
     "output_type": "stream",
     "text": [
      "Mapped 1 cell_type ontology terms from `celltype` column to ontology terms\n",
      "   input_column input_column_lower    name_lower ontology_id         name  \\\n",
      "0  lymphoblasts       lymphoblasts  lymphoblasts  CL:0017005  lymphoblast   \n",
      "\n",
      "     matching_type  \n",
      "0  pluralised name  \n"
     ]
    }
   ],
   "source": [
    "cur_data.standardize_ontology(\n",
    "    input_column='celltype',\n",
    "    column_type='term_name',\n",
    "    ontology_type='cell_type'\n",
    ")"
   ]
  },
  {
   "cell_type": "markdown",
   "id": "88166f0d",
   "metadata": {},
   "source": [
    "### Add cell line information"
   ]
  },
  {
   "cell_type": "code",
   "execution_count": 21,
   "id": "e68990dd",
   "metadata": {},
   "outputs": [
    {
     "name": "stdout",
     "output_type": "stream",
     "text": [
      "Mapped 1 cell_line ontology terms from `cell_line` column to ontology terms\n",
      "  input_column input_column_lower name_lower  ontology_id        name  \\\n",
      "0         K562               k562       k562  CLO:0007050  K 562 cell   \n",
      "\n",
      "  matching_type  \n",
      "0       synonym  \n"
     ]
    }
   ],
   "source": [
    "cur_data.standardize_ontology(\n",
    "    input_column='cell_line',\n",
    "    column_type='term_name',\n",
    "    ontology_type='cell_line'\n",
    ")"
   ]
  },
  {
   "cell_type": "markdown",
   "id": "7d4176fe",
   "metadata": {},
   "source": [
    "### Add disease information"
   ]
  },
  {
   "cell_type": "code",
   "execution_count": 22,
   "id": "e160287a",
   "metadata": {},
   "outputs": [
    {
     "name": "stdout",
     "output_type": "stream",
     "text": [
      "Mapped 1 disease ontology terms from `disease` column to ontology terms\n",
      "                   input_column            input_column_lower  \\\n",
      "0  chronic myelogenous leukemia  chronic myelogenous leukemia   \n",
      "\n",
      "                     name_lower    ontology_id  \\\n",
      "0  chronic myelogenous leukemia  MONDO:0011996   \n",
      "\n",
      "                                              name matching_type  \n",
      "0  chronic myelogenous leukemia, BCR-ABL1 positive       synonym  \n"
     ]
    }
   ],
   "source": [
    "cur_data.standardize_ontology(\n",
    "    input_column='disease',\n",
    "    column_type='term_name',\n",
    "    ontology_type='disease'\n",
    ")"
   ]
  },
  {
   "cell_type": "markdown",
   "id": "89c6d6a4",
   "metadata": {},
   "source": [
    "### Add species information"
   ]
  },
  {
   "cell_type": "code",
   "execution_count": 23,
   "id": "317cf9ab",
   "metadata": {},
   "outputs": [
    {
     "name": "stdout",
     "output_type": "stream",
     "text": [
      "Column species added to adata.obs\n"
     ]
    }
   ],
   "source": [
    "cur_data.create_columns(\n",
    "    slot=\"obs\",\n",
    "    col_dict={\n",
    "        \"species\": \"Homo sapiens\"\n",
    "    }\n",
    ")"
   ]
  },
  {
   "cell_type": "markdown",
   "id": "9358a43e",
   "metadata": {},
   "source": [
    "### Add sex information"
   ]
  },
  {
   "cell_type": "code",
   "execution_count": 24,
   "id": "1298e95f",
   "metadata": {},
   "outputs": [
    {
     "name": "stdout",
     "output_type": "stream",
     "text": [
      "Column sex_label added to adata.obs\n",
      "Column sex_id added to adata.obs\n"
     ]
    }
   ],
   "source": [
    "cur_data.create_columns(\n",
    "    slot=\"obs\",\n",
    "    col_dict={\n",
    "        \"sex_label\": \"female\", \n",
    "        \"sex_id\": None\n",
    "    }\n",
    ")"
   ]
  },
  {
   "cell_type": "markdown",
   "id": "00a6c914",
   "metadata": {},
   "source": [
    "### Add developmental stage information"
   ]
  },
  {
   "cell_type": "code",
   "execution_count": 25,
   "id": "a55281d6",
   "metadata": {},
   "outputs": [
    {
     "name": "stdout",
     "output_type": "stream",
     "text": [
      "Column developmental_stage_label added to adata.obs\n",
      "Column developmental_stage_id added to adata.obs\n"
     ]
    }
   ],
   "source": [
    "cur_data.create_columns(\n",
    "    slot=\"obs\",\n",
    "    col_dict={\n",
    "        \"developmental_stage_label\": \"adult\", \n",
    "        \"developmental_stage_id\": None\n",
    "    }\n",
    ")"
   ]
  },
  {
   "cell_type": "markdown",
   "id": "3d884a13",
   "metadata": {},
   "source": [
    "### Match schema column order"
   ]
  },
  {
   "cell_type": "code",
   "execution_count": 26,
   "id": "36c087a9",
   "metadata": {},
   "outputs": [
    {
     "name": "stdout",
     "output_type": "stream",
     "text": [
      "Matched columns of adata.obs to the obs_schema.\n"
     ]
    }
   ],
   "source": [
    "cur_data.match_schema_columns(slot='obs')"
   ]
  },
  {
   "cell_type": "markdown",
   "id": "32b6a820",
   "metadata": {},
   "source": [
    "### Validate obs metadata"
   ]
  },
  {
   "cell_type": "code",
   "execution_count": 27,
   "id": "715e038b",
   "metadata": {},
   "outputs": [
    {
     "name": "stdout",
     "output_type": "stream",
     "text": [
      "adata.obs is valid according to the obs_schema.\n",
      "Validated data:\n"
     ]
    },
    {
     "data": {
      "application/vnd.microsoft.datawrangler.viewer.v0+json": {
       "columns": [
        {
         "name": "index",
         "rawType": "int64",
         "type": "integer"
        },
        {
         "name": "perturbation_name",
         "rawType": "object",
         "type": "string"
        },
        {
         "name": "perturbed_target_number",
         "rawType": "int64",
         "type": "integer"
        },
        {
         "name": "perturbed_target_ensg",
         "rawType": "object",
         "type": "string"
        },
        {
         "name": "perturbed_target_symbol",
         "rawType": "object",
         "type": "string"
        },
        {
         "name": "perturbed_target_biotype",
         "rawType": "object",
         "type": "string"
        },
        {
         "name": "perturbation_type_label",
         "rawType": "object",
         "type": "string"
        },
        {
         "name": "perturbation_type_id",
         "rawType": "object",
         "type": "unknown"
        },
        {
         "name": "timepoint",
         "rawType": "object",
         "type": "string"
        },
        {
         "name": "treatment_label",
         "rawType": "object",
         "type": "unknown"
        },
        {
         "name": "treatment_id",
         "rawType": "object",
         "type": "unknown"
        },
        {
         "name": "model_system_label",
         "rawType": "object",
         "type": "string"
        },
        {
         "name": "model_system_id",
         "rawType": "object",
         "type": "unknown"
        },
        {
         "name": "species",
         "rawType": "object",
         "type": "string"
        },
        {
         "name": "tissue_label",
         "rawType": "object",
         "type": "string"
        },
        {
         "name": "tissue_id",
         "rawType": "object",
         "type": "string"
        },
        {
         "name": "cell_type_label",
         "rawType": "object",
         "type": "string"
        },
        {
         "name": "cell_type_id",
         "rawType": "object",
         "type": "string"
        },
        {
         "name": "cell_line_label",
         "rawType": "object",
         "type": "string"
        },
        {
         "name": "cell_line_id",
         "rawType": "object",
         "type": "string"
        },
        {
         "name": "sex_label",
         "rawType": "object",
         "type": "string"
        },
        {
         "name": "sex_id",
         "rawType": "object",
         "type": "unknown"
        },
        {
         "name": "developmental_stage_label",
         "rawType": "object",
         "type": "string"
        },
        {
         "name": "developmental_stage_id",
         "rawType": "object",
         "type": "unknown"
        },
        {
         "name": "disease_label",
         "rawType": "object",
         "type": "string"
        },
        {
         "name": "disease_id",
         "rawType": "object",
         "type": "string"
        }
       ],
       "ref": "1ee5f74a-f18b-46ac-a897-b574f09b60bd",
       "rows": [
        [
         "0",
         "CREB1_pDS269",
         "1",
         "ENSG00000118260",
         "CREB1",
         "protein_coding",
         "CRISPRi",
         null,
         "P0DT0H0M0S",
         null,
         null,
         "cell line",
         null,
         "Homo sapiens",
         "blood",
         "UBERON:0000178",
         "lymphoblast",
         "CL:0017005",
         "K 562 cell",
         "CLO:0007050",
         "female",
         null,
         "adult",
         null,
         "chronic myelogenous leukemia, BCR-ABL1 positive",
         "MONDO:0011996"
        ],
        [
         "1",
         "SNAI1_pDS266",
         "1",
         "ENSG00000124216",
         "SNAI1",
         "protein_coding",
         "CRISPRi",
         null,
         "P0DT0H0M0S",
         null,
         null,
         "cell line",
         null,
         "Homo sapiens",
         "blood",
         "UBERON:0000178",
         "lymphoblast",
         "CL:0017005",
         "K 562 cell",
         "CLO:0007050",
         "female",
         null,
         "adult",
         null,
         "chronic myelogenous leukemia, BCR-ABL1 positive",
         "MONDO:0011996"
        ],
        [
         "2",
         "62(mod)_pBA581",
         "1",
         "control",
         "control",
         "control",
         "CRISPRi",
         null,
         "P0DT0H0M0S",
         null,
         null,
         "cell line",
         null,
         "Homo sapiens",
         "blood",
         "UBERON:0000178",
         "lymphoblast",
         "CL:0017005",
         "K 562 cell",
         "CLO:0007050",
         "female",
         null,
         "adult",
         null,
         "chronic myelogenous leukemia, BCR-ABL1 positive",
         "MONDO:0011996"
        ],
        [
         "3",
         "EP300_pDS268",
         "1",
         "ENSG00000100393",
         "EP300",
         "protein_coding",
         "CRISPRi",
         null,
         "P0DT0H0M0S",
         null,
         null,
         "cell line",
         null,
         "Homo sapiens",
         "blood",
         "UBERON:0000178",
         "lymphoblast",
         "CL:0017005",
         "K 562 cell",
         "CLO:0007050",
         "female",
         null,
         "adult",
         null,
         "chronic myelogenous leukemia, BCR-ABL1 positive",
         "MONDO:0011996"
        ],
        [
         "4",
         "62(mod)_pBA581",
         "1",
         "control",
         "control",
         "control",
         "CRISPRi",
         null,
         "P0DT0H0M0S",
         null,
         null,
         "cell line",
         null,
         "Homo sapiens",
         "blood",
         "UBERON:0000178",
         "lymphoblast",
         "CL:0017005",
         "K 562 cell",
         "CLO:0007050",
         "female",
         null,
         "adult",
         null,
         "chronic myelogenous leukemia, BCR-ABL1 positive",
         "MONDO:0011996"
        ],
        [
         "5",
         "ZNF326_pDS262",
         "1",
         "ENSG00000162664",
         "ZNF326",
         "protein_coding",
         "CRISPRi",
         null,
         "P0DT0H0M0S",
         null,
         null,
         "cell line",
         null,
         "Homo sapiens",
         "blood",
         "UBERON:0000178",
         "lymphoblast",
         "CL:0017005",
         "K 562 cell",
         "CLO:0007050",
         "female",
         null,
         "adult",
         null,
         "chronic myelogenous leukemia, BCR-ABL1 positive",
         "MONDO:0011996"
        ],
        [
         "6",
         "62(mod)_pBA581",
         "1",
         "control",
         "control",
         "control",
         "CRISPRi",
         null,
         "P0DT0H0M0S",
         null,
         null,
         "cell line",
         null,
         "Homo sapiens",
         "blood",
         "UBERON:0000178",
         "lymphoblast",
         "CL:0017005",
         "K 562 cell",
         "CLO:0007050",
         "female",
         null,
         "adult",
         null,
         "chronic myelogenous leukemia, BCR-ABL1 positive",
         "MONDO:0011996"
        ],
        [
         "7",
         "62(mod)_pBA581",
         "1",
         "control",
         "control",
         "control",
         "CRISPRi",
         null,
         "P0DT0H0M0S",
         null,
         null,
         "cell line",
         null,
         "Homo sapiens",
         "blood",
         "UBERON:0000178",
         "lymphoblast",
         "CL:0017005",
         "K 562 cell",
         "CLO:0007050",
         "female",
         null,
         "adult",
         null,
         "chronic myelogenous leukemia, BCR-ABL1 positive",
         "MONDO:0011996"
        ],
        [
         "8",
         "CREB1_pDS269",
         "1",
         "ENSG00000118260",
         "CREB1",
         "protein_coding",
         "CRISPRi",
         null,
         "P0DT0H0M0S",
         null,
         null,
         "cell line",
         null,
         "Homo sapiens",
         "blood",
         "UBERON:0000178",
         "lymphoblast",
         "CL:0017005",
         "K 562 cell",
         "CLO:0007050",
         "female",
         null,
         "adult",
         null,
         "chronic myelogenous leukemia, BCR-ABL1 positive",
         "MONDO:0011996"
        ],
        [
         "9",
         "62(mod)_pBA581",
         "1",
         "control",
         "control",
         "control",
         "CRISPRi",
         null,
         "P0DT0H0M0S",
         null,
         null,
         "cell line",
         null,
         "Homo sapiens",
         "blood",
         "UBERON:0000178",
         "lymphoblast",
         "CL:0017005",
         "K 562 cell",
         "CLO:0007050",
         "female",
         null,
         "adult",
         null,
         "chronic myelogenous leukemia, BCR-ABL1 positive",
         "MONDO:0011996"
        ],
        [
         "10",
         "SNAI1_pDS266",
         "1",
         "ENSG00000124216",
         "SNAI1",
         "protein_coding",
         "CRISPRi",
         null,
         "P0DT0H0M0S",
         null,
         null,
         "cell line",
         null,
         "Homo sapiens",
         "blood",
         "UBERON:0000178",
         "lymphoblast",
         "CL:0017005",
         "K 562 cell",
         "CLO:0007050",
         "female",
         null,
         "adult",
         null,
         "chronic myelogenous leukemia, BCR-ABL1 positive",
         "MONDO:0011996"
        ],
        [
         "11",
         "62(mod)_pBA581",
         "1",
         "control",
         "control",
         "control",
         "CRISPRi",
         null,
         "P0DT0H0M0S",
         null,
         null,
         "cell line",
         null,
         "Homo sapiens",
         "blood",
         "UBERON:0000178",
         "lymphoblast",
         "CL:0017005",
         "K 562 cell",
         "CLO:0007050",
         "female",
         null,
         "adult",
         null,
         "chronic myelogenous leukemia, BCR-ABL1 positive",
         "MONDO:0011996"
        ],
        [
         "12",
         "CREB1_pDS269",
         "1",
         "ENSG00000118260",
         "CREB1",
         "protein_coding",
         "CRISPRi",
         null,
         "P0DT0H0M0S",
         null,
         null,
         "cell line",
         null,
         "Homo sapiens",
         "blood",
         "UBERON:0000178",
         "lymphoblast",
         "CL:0017005",
         "K 562 cell",
         "CLO:0007050",
         "female",
         null,
         "adult",
         null,
         "chronic myelogenous leukemia, BCR-ABL1 positive",
         "MONDO:0011996"
        ],
        [
         "13",
         "62(mod)_pBA581",
         "1",
         "control",
         "control",
         "control",
         "CRISPRi",
         null,
         "P0DT0H0M0S",
         null,
         null,
         "cell line",
         null,
         "Homo sapiens",
         "blood",
         "UBERON:0000178",
         "lymphoblast",
         "CL:0017005",
         "K 562 cell",
         "CLO:0007050",
         "female",
         null,
         "adult",
         null,
         "chronic myelogenous leukemia, BCR-ABL1 positive",
         "MONDO:0011996"
        ],
        [
         "14",
         "62(mod)_pBA581",
         "1",
         "control",
         "control",
         "control",
         "CRISPRi",
         null,
         "P0DT0H0M0S",
         null,
         null,
         "cell line",
         null,
         "Homo sapiens",
         "blood",
         "UBERON:0000178",
         "lymphoblast",
         "CL:0017005",
         "K 562 cell",
         "CLO:0007050",
         "female",
         null,
         "adult",
         null,
         "chronic myelogenous leukemia, BCR-ABL1 positive",
         "MONDO:0011996"
        ],
        [
         "15",
         "BHLHE40_pDS258",
         "1",
         "ENSG00000134107",
         "BHLHE40",
         "protein_coding",
         "CRISPRi",
         null,
         "P0DT0H0M0S",
         null,
         null,
         "cell line",
         null,
         "Homo sapiens",
         "blood",
         "UBERON:0000178",
         "lymphoblast",
         "CL:0017005",
         "K 562 cell",
         "CLO:0007050",
         "female",
         null,
         "adult",
         null,
         "chronic myelogenous leukemia, BCR-ABL1 positive",
         "MONDO:0011996"
        ],
        [
         "16",
         "SNAI1_pDS266",
         "1",
         "ENSG00000124216",
         "SNAI1",
         "protein_coding",
         "CRISPRi",
         null,
         "P0DT0H0M0S",
         null,
         null,
         "cell line",
         null,
         "Homo sapiens",
         "blood",
         "UBERON:0000178",
         "lymphoblast",
         "CL:0017005",
         "K 562 cell",
         "CLO:0007050",
         "female",
         null,
         "adult",
         null,
         "chronic myelogenous leukemia, BCR-ABL1 positive",
         "MONDO:0011996"
        ],
        [
         "17",
         "SPI1_pDS255",
         "1",
         "ENSG00000066336",
         "SPI1",
         "protein_coding",
         "CRISPRi",
         null,
         "P0DT0H0M0S",
         null,
         null,
         "cell line",
         null,
         "Homo sapiens",
         "blood",
         "UBERON:0000178",
         "lymphoblast",
         "CL:0017005",
         "K 562 cell",
         "CLO:0007050",
         "female",
         null,
         "adult",
         null,
         "chronic myelogenous leukemia, BCR-ABL1 positive",
         "MONDO:0011996"
        ],
        [
         "18",
         "BHLHE40_pDS258",
         "1",
         "ENSG00000134107",
         "BHLHE40",
         "protein_coding",
         "CRISPRi",
         null,
         "P0DT0H0M0S",
         null,
         null,
         "cell line",
         null,
         "Homo sapiens",
         "blood",
         "UBERON:0000178",
         "lymphoblast",
         "CL:0017005",
         "K 562 cell",
         "CLO:0007050",
         "female",
         null,
         "adult",
         null,
         "chronic myelogenous leukemia, BCR-ABL1 positive",
         "MONDO:0011996"
        ],
        [
         "19",
         "62(mod)_pBA581",
         "1",
         "control",
         "control",
         "control",
         "CRISPRi",
         null,
         "P0DT0H0M0S",
         null,
         null,
         "cell line",
         null,
         "Homo sapiens",
         "blood",
         "UBERON:0000178",
         "lymphoblast",
         "CL:0017005",
         "K 562 cell",
         "CLO:0007050",
         "female",
         null,
         "adult",
         null,
         "chronic myelogenous leukemia, BCR-ABL1 positive",
         "MONDO:0011996"
        ],
        [
         "20",
         "EP300_pDS268",
         "1",
         "ENSG00000100393",
         "EP300",
         "protein_coding",
         "CRISPRi",
         null,
         "P0DT0H0M0S",
         null,
         null,
         "cell line",
         null,
         "Homo sapiens",
         "blood",
         "UBERON:0000178",
         "lymphoblast",
         "CL:0017005",
         "K 562 cell",
         "CLO:0007050",
         "female",
         null,
         "adult",
         null,
         "chronic myelogenous leukemia, BCR-ABL1 positive",
         "MONDO:0011996"
        ],
        [
         "21",
         "SNAI1_pDS266",
         "1",
         "ENSG00000124216",
         "SNAI1",
         "protein_coding",
         "CRISPRi",
         null,
         "P0DT0H0M0S",
         null,
         null,
         "cell line",
         null,
         "Homo sapiens",
         "blood",
         "UBERON:0000178",
         "lymphoblast",
         "CL:0017005",
         "K 562 cell",
         "CLO:0007050",
         "female",
         null,
         "adult",
         null,
         "chronic myelogenous leukemia, BCR-ABL1 positive",
         "MONDO:0011996"
        ],
        [
         "22",
         "CREB1_pDS269",
         "1",
         "ENSG00000118260",
         "CREB1",
         "protein_coding",
         "CRISPRi",
         null,
         "P0DT0H0M0S",
         null,
         null,
         "cell line",
         null,
         "Homo sapiens",
         "blood",
         "UBERON:0000178",
         "lymphoblast",
         "CL:0017005",
         "K 562 cell",
         "CLO:0007050",
         "female",
         null,
         "adult",
         null,
         "chronic myelogenous leukemia, BCR-ABL1 positive",
         "MONDO:0011996"
        ],
        [
         "23",
         "62(mod)_pBA581",
         "1",
         "control",
         "control",
         "control",
         "CRISPRi",
         null,
         "P0DT0H0M0S",
         null,
         null,
         "cell line",
         null,
         "Homo sapiens",
         "blood",
         "UBERON:0000178",
         "lymphoblast",
         "CL:0017005",
         "K 562 cell",
         "CLO:0007050",
         "female",
         null,
         "adult",
         null,
         "chronic myelogenous leukemia, BCR-ABL1 positive",
         "MONDO:0011996"
        ],
        [
         "24",
         "62(mod)_pBA581",
         "1",
         "control",
         "control",
         "control",
         "CRISPRi",
         null,
         "P0DT0H0M0S",
         null,
         null,
         "cell line",
         null,
         "Homo sapiens",
         "blood",
         "UBERON:0000178",
         "lymphoblast",
         "CL:0017005",
         "K 562 cell",
         "CLO:0007050",
         "female",
         null,
         "adult",
         null,
         "chronic myelogenous leukemia, BCR-ABL1 positive",
         "MONDO:0011996"
        ],
        [
         "25",
         "DDIT3_pDS263",
         "1",
         "ENSG00000175197",
         "DDIT3",
         "protein_coding",
         "CRISPRi",
         null,
         "P0DT0H0M0S",
         null,
         null,
         "cell line",
         null,
         "Homo sapiens",
         "blood",
         "UBERON:0000178",
         "lymphoblast",
         "CL:0017005",
         "K 562 cell",
         "CLO:0007050",
         "female",
         null,
         "adult",
         null,
         "chronic myelogenous leukemia, BCR-ABL1 positive",
         "MONDO:0011996"
        ],
        [
         "26",
         "62(mod)_pBA581",
         "1",
         "control",
         "control",
         "control",
         "CRISPRi",
         null,
         "P0DT0H0M0S",
         null,
         null,
         "cell line",
         null,
         "Homo sapiens",
         "blood",
         "UBERON:0000178",
         "lymphoblast",
         "CL:0017005",
         "K 562 cell",
         "CLO:0007050",
         "female",
         null,
         "adult",
         null,
         "chronic myelogenous leukemia, BCR-ABL1 positive",
         "MONDO:0011996"
        ],
        [
         "27",
         "SPI1_pDS255",
         "1",
         "ENSG00000066336",
         "SPI1",
         "protein_coding",
         "CRISPRi",
         null,
         "P0DT0H0M0S",
         null,
         null,
         "cell line",
         null,
         "Homo sapiens",
         "blood",
         "UBERON:0000178",
         "lymphoblast",
         "CL:0017005",
         "K 562 cell",
         "CLO:0007050",
         "female",
         null,
         "adult",
         null,
         "chronic myelogenous leukemia, BCR-ABL1 positive",
         "MONDO:0011996"
        ],
        [
         "28",
         "62(mod)_pBA581",
         "1",
         "control",
         "control",
         "control",
         "CRISPRi",
         null,
         "P0DT0H0M0S",
         null,
         null,
         "cell line",
         null,
         "Homo sapiens",
         "blood",
         "UBERON:0000178",
         "lymphoblast",
         "CL:0017005",
         "K 562 cell",
         "CLO:0007050",
         "female",
         null,
         "adult",
         null,
         "chronic myelogenous leukemia, BCR-ABL1 positive",
         "MONDO:0011996"
        ],
        [
         "29",
         "62(mod)_pBA581",
         "1",
         "control",
         "control",
         "control",
         "CRISPRi",
         null,
         "P0DT0H0M0S",
         null,
         null,
         "cell line",
         null,
         "Homo sapiens",
         "blood",
         "UBERON:0000178",
         "lymphoblast",
         "CL:0017005",
         "K 562 cell",
         "CLO:0007050",
         "female",
         null,
         "adult",
         null,
         "chronic myelogenous leukemia, BCR-ABL1 positive",
         "MONDO:0011996"
        ],
        [
         "30",
         "ZNF326_pDS262",
         "1",
         "ENSG00000162664",
         "ZNF326",
         "protein_coding",
         "CRISPRi",
         null,
         "P0DT0H0M0S",
         null,
         null,
         "cell line",
         null,
         "Homo sapiens",
         "blood",
         "UBERON:0000178",
         "lymphoblast",
         "CL:0017005",
         "K 562 cell",
         "CLO:0007050",
         "female",
         null,
         "adult",
         null,
         "chronic myelogenous leukemia, BCR-ABL1 positive",
         "MONDO:0011996"
        ],
        [
         "31",
         "ZNF326_pDS262",
         "1",
         "ENSG00000162664",
         "ZNF326",
         "protein_coding",
         "CRISPRi",
         null,
         "P0DT0H0M0S",
         null,
         null,
         "cell line",
         null,
         "Homo sapiens",
         "blood",
         "UBERON:0000178",
         "lymphoblast",
         "CL:0017005",
         "K 562 cell",
         "CLO:0007050",
         "female",
         null,
         "adult",
         null,
         "chronic myelogenous leukemia, BCR-ABL1 positive",
         "MONDO:0011996"
        ],
        [
         "32",
         "SPI1_pDS255",
         "1",
         "ENSG00000066336",
         "SPI1",
         "protein_coding",
         "CRISPRi",
         null,
         "P0DT0H0M0S",
         null,
         null,
         "cell line",
         null,
         "Homo sapiens",
         "blood",
         "UBERON:0000178",
         "lymphoblast",
         "CL:0017005",
         "K 562 cell",
         "CLO:0007050",
         "female",
         null,
         "adult",
         null,
         "chronic myelogenous leukemia, BCR-ABL1 positive",
         "MONDO:0011996"
        ],
        [
         "33",
         "SPI1_pDS255",
         "1",
         "ENSG00000066336",
         "SPI1",
         "protein_coding",
         "CRISPRi",
         null,
         "P0DT0H0M0S",
         null,
         null,
         "cell line",
         null,
         "Homo sapiens",
         "blood",
         "UBERON:0000178",
         "lymphoblast",
         "CL:0017005",
         "K 562 cell",
         "CLO:0007050",
         "female",
         null,
         "adult",
         null,
         "chronic myelogenous leukemia, BCR-ABL1 positive",
         "MONDO:0011996"
        ],
        [
         "34",
         "SNAI1_pDS266",
         "1",
         "ENSG00000124216",
         "SNAI1",
         "protein_coding",
         "CRISPRi",
         null,
         "P0DT0H0M0S",
         null,
         null,
         "cell line",
         null,
         "Homo sapiens",
         "blood",
         "UBERON:0000178",
         "lymphoblast",
         "CL:0017005",
         "K 562 cell",
         "CLO:0007050",
         "female",
         null,
         "adult",
         null,
         "chronic myelogenous leukemia, BCR-ABL1 positive",
         "MONDO:0011996"
        ],
        [
         "35",
         "62(mod)_pBA581",
         "1",
         "control",
         "control",
         "control",
         "CRISPRi",
         null,
         "P0DT0H0M0S",
         null,
         null,
         "cell line",
         null,
         "Homo sapiens",
         "blood",
         "UBERON:0000178",
         "lymphoblast",
         "CL:0017005",
         "K 562 cell",
         "CLO:0007050",
         "female",
         null,
         "adult",
         null,
         "chronic myelogenous leukemia, BCR-ABL1 positive",
         "MONDO:0011996"
        ],
        [
         "36",
         "62(mod)_pBA581",
         "1",
         "control",
         "control",
         "control",
         "CRISPRi",
         null,
         "P0DT0H0M0S",
         null,
         null,
         "cell line",
         null,
         "Homo sapiens",
         "blood",
         "UBERON:0000178",
         "lymphoblast",
         "CL:0017005",
         "K 562 cell",
         "CLO:0007050",
         "female",
         null,
         "adult",
         null,
         "chronic myelogenous leukemia, BCR-ABL1 positive",
         "MONDO:0011996"
        ],
        [
         "37",
         "ZNF326_pDS262",
         "1",
         "ENSG00000162664",
         "ZNF326",
         "protein_coding",
         "CRISPRi",
         null,
         "P0DT0H0M0S",
         null,
         null,
         "cell line",
         null,
         "Homo sapiens",
         "blood",
         "UBERON:0000178",
         "lymphoblast",
         "CL:0017005",
         "K 562 cell",
         "CLO:0007050",
         "female",
         null,
         "adult",
         null,
         "chronic myelogenous leukemia, BCR-ABL1 positive",
         "MONDO:0011996"
        ],
        [
         "38",
         "ZNF326_pDS262",
         "1",
         "ENSG00000162664",
         "ZNF326",
         "protein_coding",
         "CRISPRi",
         null,
         "P0DT0H0M0S",
         null,
         null,
         "cell line",
         null,
         "Homo sapiens",
         "blood",
         "UBERON:0000178",
         "lymphoblast",
         "CL:0017005",
         "K 562 cell",
         "CLO:0007050",
         "female",
         null,
         "adult",
         null,
         "chronic myelogenous leukemia, BCR-ABL1 positive",
         "MONDO:0011996"
        ],
        [
         "39",
         "62(mod)_pBA581",
         "1",
         "control",
         "control",
         "control",
         "CRISPRi",
         null,
         "P0DT0H0M0S",
         null,
         null,
         "cell line",
         null,
         "Homo sapiens",
         "blood",
         "UBERON:0000178",
         "lymphoblast",
         "CL:0017005",
         "K 562 cell",
         "CLO:0007050",
         "female",
         null,
         "adult",
         null,
         "chronic myelogenous leukemia, BCR-ABL1 positive",
         "MONDO:0011996"
        ],
        [
         "40",
         "EP300_pDS268",
         "1",
         "ENSG00000100393",
         "EP300",
         "protein_coding",
         "CRISPRi",
         null,
         "P0DT0H0M0S",
         null,
         null,
         "cell line",
         null,
         "Homo sapiens",
         "blood",
         "UBERON:0000178",
         "lymphoblast",
         "CL:0017005",
         "K 562 cell",
         "CLO:0007050",
         "female",
         null,
         "adult",
         null,
         "chronic myelogenous leukemia, BCR-ABL1 positive",
         "MONDO:0011996"
        ],
        [
         "41",
         "SNAI1_pDS266",
         "1",
         "ENSG00000124216",
         "SNAI1",
         "protein_coding",
         "CRISPRi",
         null,
         "P0DT0H0M0S",
         null,
         null,
         "cell line",
         null,
         "Homo sapiens",
         "blood",
         "UBERON:0000178",
         "lymphoblast",
         "CL:0017005",
         "K 562 cell",
         "CLO:0007050",
         "female",
         null,
         "adult",
         null,
         "chronic myelogenous leukemia, BCR-ABL1 positive",
         "MONDO:0011996"
        ],
        [
         "42",
         "ZNF326_pDS262",
         "1",
         "ENSG00000162664",
         "ZNF326",
         "protein_coding",
         "CRISPRi",
         null,
         "P0DT0H0M0S",
         null,
         null,
         "cell line",
         null,
         "Homo sapiens",
         "blood",
         "UBERON:0000178",
         "lymphoblast",
         "CL:0017005",
         "K 562 cell",
         "CLO:0007050",
         "female",
         null,
         "adult",
         null,
         "chronic myelogenous leukemia, BCR-ABL1 positive",
         "MONDO:0011996"
        ],
        [
         "43",
         "SNAI1_pDS266",
         "1",
         "ENSG00000124216",
         "SNAI1",
         "protein_coding",
         "CRISPRi",
         null,
         "P0DT0H0M0S",
         null,
         null,
         "cell line",
         null,
         "Homo sapiens",
         "blood",
         "UBERON:0000178",
         "lymphoblast",
         "CL:0017005",
         "K 562 cell",
         "CLO:0007050",
         "female",
         null,
         "adult",
         null,
         "chronic myelogenous leukemia, BCR-ABL1 positive",
         "MONDO:0011996"
        ],
        [
         "44",
         "SPI1_pDS255",
         "1",
         "ENSG00000066336",
         "SPI1",
         "protein_coding",
         "CRISPRi",
         null,
         "P0DT0H0M0S",
         null,
         null,
         "cell line",
         null,
         "Homo sapiens",
         "blood",
         "UBERON:0000178",
         "lymphoblast",
         "CL:0017005",
         "K 562 cell",
         "CLO:0007050",
         "female",
         null,
         "adult",
         null,
         "chronic myelogenous leukemia, BCR-ABL1 positive",
         "MONDO:0011996"
        ],
        [
         "45",
         "62(mod)_pBA581",
         "1",
         "control",
         "control",
         "control",
         "CRISPRi",
         null,
         "P0DT0H0M0S",
         null,
         null,
         "cell line",
         null,
         "Homo sapiens",
         "blood",
         "UBERON:0000178",
         "lymphoblast",
         "CL:0017005",
         "K 562 cell",
         "CLO:0007050",
         "female",
         null,
         "adult",
         null,
         "chronic myelogenous leukemia, BCR-ABL1 positive",
         "MONDO:0011996"
        ],
        [
         "46",
         "ZNF326_pDS262",
         "1",
         "ENSG00000162664",
         "ZNF326",
         "protein_coding",
         "CRISPRi",
         null,
         "P0DT0H0M0S",
         null,
         null,
         "cell line",
         null,
         "Homo sapiens",
         "blood",
         "UBERON:0000178",
         "lymphoblast",
         "CL:0017005",
         "K 562 cell",
         "CLO:0007050",
         "female",
         null,
         "adult",
         null,
         "chronic myelogenous leukemia, BCR-ABL1 positive",
         "MONDO:0011996"
        ],
        [
         "47",
         "EP300_pDS268",
         "1",
         "ENSG00000100393",
         "EP300",
         "protein_coding",
         "CRISPRi",
         null,
         "P0DT0H0M0S",
         null,
         null,
         "cell line",
         null,
         "Homo sapiens",
         "blood",
         "UBERON:0000178",
         "lymphoblast",
         "CL:0017005",
         "K 562 cell",
         "CLO:0007050",
         "female",
         null,
         "adult",
         null,
         "chronic myelogenous leukemia, BCR-ABL1 positive",
         "MONDO:0011996"
        ],
        [
         "48",
         "62(mod)_pBA581",
         "1",
         "control",
         "control",
         "control",
         "CRISPRi",
         null,
         "P0DT0H0M0S",
         null,
         null,
         "cell line",
         null,
         "Homo sapiens",
         "blood",
         "UBERON:0000178",
         "lymphoblast",
         "CL:0017005",
         "K 562 cell",
         "CLO:0007050",
         "female",
         null,
         "adult",
         null,
         "chronic myelogenous leukemia, BCR-ABL1 positive",
         "MONDO:0011996"
        ],
        [
         "49",
         "62(mod)_pBA581",
         "1",
         "control",
         "control",
         "control",
         "CRISPRi",
         null,
         "P0DT0H0M0S",
         null,
         null,
         "cell line",
         null,
         "Homo sapiens",
         "blood",
         "UBERON:0000178",
         "lymphoblast",
         "CL:0017005",
         "K 562 cell",
         "CLO:0007050",
         "female",
         null,
         "adult",
         null,
         "chronic myelogenous leukemia, BCR-ABL1 positive",
         "MONDO:0011996"
        ]
       ],
       "shape": {
        "columns": 25,
        "rows": 5752
       }
      },
      "text/html": [
       "<div>\n",
       "<style scoped>\n",
       "    .dataframe tbody tr th:only-of-type {\n",
       "        vertical-align: middle;\n",
       "    }\n",
       "\n",
       "    .dataframe tbody tr th {\n",
       "        vertical-align: top;\n",
       "    }\n",
       "\n",
       "    .dataframe thead th {\n",
       "        text-align: right;\n",
       "    }\n",
       "</style>\n",
       "<table border=\"1\" class=\"dataframe\">\n",
       "  <thead>\n",
       "    <tr style=\"text-align: right;\">\n",
       "      <th></th>\n",
       "      <th>perturbation_name</th>\n",
       "      <th>perturbed_target_number</th>\n",
       "      <th>perturbed_target_ensg</th>\n",
       "      <th>perturbed_target_symbol</th>\n",
       "      <th>perturbed_target_biotype</th>\n",
       "      <th>perturbation_type_label</th>\n",
       "      <th>perturbation_type_id</th>\n",
       "      <th>timepoint</th>\n",
       "      <th>treatment_label</th>\n",
       "      <th>treatment_id</th>\n",
       "      <th>...</th>\n",
       "      <th>cell_type_label</th>\n",
       "      <th>cell_type_id</th>\n",
       "      <th>cell_line_label</th>\n",
       "      <th>cell_line_id</th>\n",
       "      <th>sex_label</th>\n",
       "      <th>sex_id</th>\n",
       "      <th>developmental_stage_label</th>\n",
       "      <th>developmental_stage_id</th>\n",
       "      <th>disease_label</th>\n",
       "      <th>disease_id</th>\n",
       "    </tr>\n",
       "  </thead>\n",
       "  <tbody>\n",
       "    <tr>\n",
       "      <th>0</th>\n",
       "      <td>CREB1_pDS269</td>\n",
       "      <td>1</td>\n",
       "      <td>ENSG00000118260</td>\n",
       "      <td>CREB1</td>\n",
       "      <td>protein_coding</td>\n",
       "      <td>CRISPRi</td>\n",
       "      <td>None</td>\n",
       "      <td>P0DT0H0M0S</td>\n",
       "      <td>None</td>\n",
       "      <td>None</td>\n",
       "      <td>...</td>\n",
       "      <td>lymphoblast</td>\n",
       "      <td>CL:0017005</td>\n",
       "      <td>K 562 cell</td>\n",
       "      <td>CLO:0007050</td>\n",
       "      <td>female</td>\n",
       "      <td>None</td>\n",
       "      <td>adult</td>\n",
       "      <td>None</td>\n",
       "      <td>chronic myelogenous leukemia, BCR-ABL1 positive</td>\n",
       "      <td>MONDO:0011996</td>\n",
       "    </tr>\n",
       "    <tr>\n",
       "      <th>1</th>\n",
       "      <td>SNAI1_pDS266</td>\n",
       "      <td>1</td>\n",
       "      <td>ENSG00000124216</td>\n",
       "      <td>SNAI1</td>\n",
       "      <td>protein_coding</td>\n",
       "      <td>CRISPRi</td>\n",
       "      <td>None</td>\n",
       "      <td>P0DT0H0M0S</td>\n",
       "      <td>None</td>\n",
       "      <td>None</td>\n",
       "      <td>...</td>\n",
       "      <td>lymphoblast</td>\n",
       "      <td>CL:0017005</td>\n",
       "      <td>K 562 cell</td>\n",
       "      <td>CLO:0007050</td>\n",
       "      <td>female</td>\n",
       "      <td>None</td>\n",
       "      <td>adult</td>\n",
       "      <td>None</td>\n",
       "      <td>chronic myelogenous leukemia, BCR-ABL1 positive</td>\n",
       "      <td>MONDO:0011996</td>\n",
       "    </tr>\n",
       "    <tr>\n",
       "      <th>2</th>\n",
       "      <td>62(mod)_pBA581</td>\n",
       "      <td>1</td>\n",
       "      <td>control</td>\n",
       "      <td>control</td>\n",
       "      <td>control</td>\n",
       "      <td>CRISPRi</td>\n",
       "      <td>None</td>\n",
       "      <td>P0DT0H0M0S</td>\n",
       "      <td>None</td>\n",
       "      <td>None</td>\n",
       "      <td>...</td>\n",
       "      <td>lymphoblast</td>\n",
       "      <td>CL:0017005</td>\n",
       "      <td>K 562 cell</td>\n",
       "      <td>CLO:0007050</td>\n",
       "      <td>female</td>\n",
       "      <td>None</td>\n",
       "      <td>adult</td>\n",
       "      <td>None</td>\n",
       "      <td>chronic myelogenous leukemia, BCR-ABL1 positive</td>\n",
       "      <td>MONDO:0011996</td>\n",
       "    </tr>\n",
       "    <tr>\n",
       "      <th>3</th>\n",
       "      <td>EP300_pDS268</td>\n",
       "      <td>1</td>\n",
       "      <td>ENSG00000100393</td>\n",
       "      <td>EP300</td>\n",
       "      <td>protein_coding</td>\n",
       "      <td>CRISPRi</td>\n",
       "      <td>None</td>\n",
       "      <td>P0DT0H0M0S</td>\n",
       "      <td>None</td>\n",
       "      <td>None</td>\n",
       "      <td>...</td>\n",
       "      <td>lymphoblast</td>\n",
       "      <td>CL:0017005</td>\n",
       "      <td>K 562 cell</td>\n",
       "      <td>CLO:0007050</td>\n",
       "      <td>female</td>\n",
       "      <td>None</td>\n",
       "      <td>adult</td>\n",
       "      <td>None</td>\n",
       "      <td>chronic myelogenous leukemia, BCR-ABL1 positive</td>\n",
       "      <td>MONDO:0011996</td>\n",
       "    </tr>\n",
       "    <tr>\n",
       "      <th>4</th>\n",
       "      <td>62(mod)_pBA581</td>\n",
       "      <td>1</td>\n",
       "      <td>control</td>\n",
       "      <td>control</td>\n",
       "      <td>control</td>\n",
       "      <td>CRISPRi</td>\n",
       "      <td>None</td>\n",
       "      <td>P0DT0H0M0S</td>\n",
       "      <td>None</td>\n",
       "      <td>None</td>\n",
       "      <td>...</td>\n",
       "      <td>lymphoblast</td>\n",
       "      <td>CL:0017005</td>\n",
       "      <td>K 562 cell</td>\n",
       "      <td>CLO:0007050</td>\n",
       "      <td>female</td>\n",
       "      <td>None</td>\n",
       "      <td>adult</td>\n",
       "      <td>None</td>\n",
       "      <td>chronic myelogenous leukemia, BCR-ABL1 positive</td>\n",
       "      <td>MONDO:0011996</td>\n",
       "    </tr>\n",
       "    <tr>\n",
       "      <th>...</th>\n",
       "      <td>...</td>\n",
       "      <td>...</td>\n",
       "      <td>...</td>\n",
       "      <td>...</td>\n",
       "      <td>...</td>\n",
       "      <td>...</td>\n",
       "      <td>...</td>\n",
       "      <td>...</td>\n",
       "      <td>...</td>\n",
       "      <td>...</td>\n",
       "      <td>...</td>\n",
       "      <td>...</td>\n",
       "      <td>...</td>\n",
       "      <td>...</td>\n",
       "      <td>...</td>\n",
       "      <td>...</td>\n",
       "      <td>...</td>\n",
       "      <td>...</td>\n",
       "      <td>...</td>\n",
       "      <td>...</td>\n",
       "      <td>...</td>\n",
       "    </tr>\n",
       "    <tr>\n",
       "      <th>5747</th>\n",
       "      <td>SNAI1_pDS266</td>\n",
       "      <td>1</td>\n",
       "      <td>ENSG00000124216</td>\n",
       "      <td>SNAI1</td>\n",
       "      <td>protein_coding</td>\n",
       "      <td>CRISPRi</td>\n",
       "      <td>None</td>\n",
       "      <td>P0DT0H0M0S</td>\n",
       "      <td>None</td>\n",
       "      <td>None</td>\n",
       "      <td>...</td>\n",
       "      <td>lymphoblast</td>\n",
       "      <td>CL:0017005</td>\n",
       "      <td>K 562 cell</td>\n",
       "      <td>CLO:0007050</td>\n",
       "      <td>female</td>\n",
       "      <td>None</td>\n",
       "      <td>adult</td>\n",
       "      <td>None</td>\n",
       "      <td>chronic myelogenous leukemia, BCR-ABL1 positive</td>\n",
       "      <td>MONDO:0011996</td>\n",
       "    </tr>\n",
       "    <tr>\n",
       "      <th>5748</th>\n",
       "      <td>SNAI1_pDS266</td>\n",
       "      <td>1</td>\n",
       "      <td>ENSG00000124216</td>\n",
       "      <td>SNAI1</td>\n",
       "      <td>protein_coding</td>\n",
       "      <td>CRISPRi</td>\n",
       "      <td>None</td>\n",
       "      <td>P0DT0H0M0S</td>\n",
       "      <td>None</td>\n",
       "      <td>None</td>\n",
       "      <td>...</td>\n",
       "      <td>lymphoblast</td>\n",
       "      <td>CL:0017005</td>\n",
       "      <td>K 562 cell</td>\n",
       "      <td>CLO:0007050</td>\n",
       "      <td>female</td>\n",
       "      <td>None</td>\n",
       "      <td>adult</td>\n",
       "      <td>None</td>\n",
       "      <td>chronic myelogenous leukemia, BCR-ABL1 positive</td>\n",
       "      <td>MONDO:0011996</td>\n",
       "    </tr>\n",
       "    <tr>\n",
       "      <th>5749</th>\n",
       "      <td>SNAI1_pDS266</td>\n",
       "      <td>1</td>\n",
       "      <td>ENSG00000124216</td>\n",
       "      <td>SNAI1</td>\n",
       "      <td>protein_coding</td>\n",
       "      <td>CRISPRi</td>\n",
       "      <td>None</td>\n",
       "      <td>P0DT0H0M0S</td>\n",
       "      <td>None</td>\n",
       "      <td>None</td>\n",
       "      <td>...</td>\n",
       "      <td>lymphoblast</td>\n",
       "      <td>CL:0017005</td>\n",
       "      <td>K 562 cell</td>\n",
       "      <td>CLO:0007050</td>\n",
       "      <td>female</td>\n",
       "      <td>None</td>\n",
       "      <td>adult</td>\n",
       "      <td>None</td>\n",
       "      <td>chronic myelogenous leukemia, BCR-ABL1 positive</td>\n",
       "      <td>MONDO:0011996</td>\n",
       "    </tr>\n",
       "    <tr>\n",
       "      <th>5750</th>\n",
       "      <td>62(mod)_pBA581</td>\n",
       "      <td>1</td>\n",
       "      <td>control</td>\n",
       "      <td>control</td>\n",
       "      <td>control</td>\n",
       "      <td>CRISPRi</td>\n",
       "      <td>None</td>\n",
       "      <td>P0DT0H0M0S</td>\n",
       "      <td>None</td>\n",
       "      <td>None</td>\n",
       "      <td>...</td>\n",
       "      <td>lymphoblast</td>\n",
       "      <td>CL:0017005</td>\n",
       "      <td>K 562 cell</td>\n",
       "      <td>CLO:0007050</td>\n",
       "      <td>female</td>\n",
       "      <td>None</td>\n",
       "      <td>adult</td>\n",
       "      <td>None</td>\n",
       "      <td>chronic myelogenous leukemia, BCR-ABL1 positive</td>\n",
       "      <td>MONDO:0011996</td>\n",
       "    </tr>\n",
       "    <tr>\n",
       "      <th>5751</th>\n",
       "      <td>62(mod)_pBA581</td>\n",
       "      <td>1</td>\n",
       "      <td>control</td>\n",
       "      <td>control</td>\n",
       "      <td>control</td>\n",
       "      <td>CRISPRi</td>\n",
       "      <td>None</td>\n",
       "      <td>P0DT0H0M0S</td>\n",
       "      <td>None</td>\n",
       "      <td>None</td>\n",
       "      <td>...</td>\n",
       "      <td>lymphoblast</td>\n",
       "      <td>CL:0017005</td>\n",
       "      <td>K 562 cell</td>\n",
       "      <td>CLO:0007050</td>\n",
       "      <td>female</td>\n",
       "      <td>None</td>\n",
       "      <td>adult</td>\n",
       "      <td>None</td>\n",
       "      <td>chronic myelogenous leukemia, BCR-ABL1 positive</td>\n",
       "      <td>MONDO:0011996</td>\n",
       "    </tr>\n",
       "  </tbody>\n",
       "</table>\n",
       "<p>5752 rows × 25 columns</p>\n",
       "</div>"
      ],
      "text/plain": [
       "     perturbation_name  perturbed_target_number perturbed_target_ensg  \\\n",
       "0         CREB1_pDS269                        1       ENSG00000118260   \n",
       "1         SNAI1_pDS266                        1       ENSG00000124216   \n",
       "2       62(mod)_pBA581                        1               control   \n",
       "3         EP300_pDS268                        1       ENSG00000100393   \n",
       "4       62(mod)_pBA581                        1               control   \n",
       "...                ...                      ...                   ...   \n",
       "5747      SNAI1_pDS266                        1       ENSG00000124216   \n",
       "5748      SNAI1_pDS266                        1       ENSG00000124216   \n",
       "5749      SNAI1_pDS266                        1       ENSG00000124216   \n",
       "5750    62(mod)_pBA581                        1               control   \n",
       "5751    62(mod)_pBA581                        1               control   \n",
       "\n",
       "     perturbed_target_symbol perturbed_target_biotype perturbation_type_label  \\\n",
       "0                      CREB1           protein_coding                 CRISPRi   \n",
       "1                      SNAI1           protein_coding                 CRISPRi   \n",
       "2                    control                  control                 CRISPRi   \n",
       "3                      EP300           protein_coding                 CRISPRi   \n",
       "4                    control                  control                 CRISPRi   \n",
       "...                      ...                      ...                     ...   \n",
       "5747                   SNAI1           protein_coding                 CRISPRi   \n",
       "5748                   SNAI1           protein_coding                 CRISPRi   \n",
       "5749                   SNAI1           protein_coding                 CRISPRi   \n",
       "5750                 control                  control                 CRISPRi   \n",
       "5751                 control                  control                 CRISPRi   \n",
       "\n",
       "     perturbation_type_id   timepoint treatment_label treatment_id  ...  \\\n",
       "0                    None  P0DT0H0M0S            None         None  ...   \n",
       "1                    None  P0DT0H0M0S            None         None  ...   \n",
       "2                    None  P0DT0H0M0S            None         None  ...   \n",
       "3                    None  P0DT0H0M0S            None         None  ...   \n",
       "4                    None  P0DT0H0M0S            None         None  ...   \n",
       "...                   ...         ...             ...          ...  ...   \n",
       "5747                 None  P0DT0H0M0S            None         None  ...   \n",
       "5748                 None  P0DT0H0M0S            None         None  ...   \n",
       "5749                 None  P0DT0H0M0S            None         None  ...   \n",
       "5750                 None  P0DT0H0M0S            None         None  ...   \n",
       "5751                 None  P0DT0H0M0S            None         None  ...   \n",
       "\n",
       "     cell_type_label cell_type_id cell_line_label cell_line_id sex_label  \\\n",
       "0        lymphoblast   CL:0017005      K 562 cell  CLO:0007050    female   \n",
       "1        lymphoblast   CL:0017005      K 562 cell  CLO:0007050    female   \n",
       "2        lymphoblast   CL:0017005      K 562 cell  CLO:0007050    female   \n",
       "3        lymphoblast   CL:0017005      K 562 cell  CLO:0007050    female   \n",
       "4        lymphoblast   CL:0017005      K 562 cell  CLO:0007050    female   \n",
       "...              ...          ...             ...          ...       ...   \n",
       "5747     lymphoblast   CL:0017005      K 562 cell  CLO:0007050    female   \n",
       "5748     lymphoblast   CL:0017005      K 562 cell  CLO:0007050    female   \n",
       "5749     lymphoblast   CL:0017005      K 562 cell  CLO:0007050    female   \n",
       "5750     lymphoblast   CL:0017005      K 562 cell  CLO:0007050    female   \n",
       "5751     lymphoblast   CL:0017005      K 562 cell  CLO:0007050    female   \n",
       "\n",
       "     sex_id developmental_stage_label developmental_stage_id  \\\n",
       "0      None                     adult                   None   \n",
       "1      None                     adult                   None   \n",
       "2      None                     adult                   None   \n",
       "3      None                     adult                   None   \n",
       "4      None                     adult                   None   \n",
       "...     ...                       ...                    ...   \n",
       "5747   None                     adult                   None   \n",
       "5748   None                     adult                   None   \n",
       "5749   None                     adult                   None   \n",
       "5750   None                     adult                   None   \n",
       "5751   None                     adult                   None   \n",
       "\n",
       "                                        disease_label     disease_id  \n",
       "0     chronic myelogenous leukemia, BCR-ABL1 positive  MONDO:0011996  \n",
       "1     chronic myelogenous leukemia, BCR-ABL1 positive  MONDO:0011996  \n",
       "2     chronic myelogenous leukemia, BCR-ABL1 positive  MONDO:0011996  \n",
       "3     chronic myelogenous leukemia, BCR-ABL1 positive  MONDO:0011996  \n",
       "4     chronic myelogenous leukemia, BCR-ABL1 positive  MONDO:0011996  \n",
       "...                                               ...            ...  \n",
       "5747  chronic myelogenous leukemia, BCR-ABL1 positive  MONDO:0011996  \n",
       "5748  chronic myelogenous leukemia, BCR-ABL1 positive  MONDO:0011996  \n",
       "5749  chronic myelogenous leukemia, BCR-ABL1 positive  MONDO:0011996  \n",
       "5750  chronic myelogenous leukemia, BCR-ABL1 positive  MONDO:0011996  \n",
       "5751  chronic myelogenous leukemia, BCR-ABL1 positive  MONDO:0011996  \n",
       "\n",
       "[5752 rows x 25 columns]"
      ]
     },
     "metadata": {},
     "output_type": "display_data"
    }
   ],
   "source": [
    "cur_data.validate_data(slot='obs')"
   ]
  },
  {
   "cell_type": "markdown",
   "id": "973cecf9",
   "metadata": {},
   "source": [
    "# VAR slot curation"
   ]
  },
  {
   "cell_type": "markdown",
   "id": "ce48fe65",
   "metadata": {},
   "source": [
    "### Standardise genes"
   ]
  },
  {
   "cell_type": "code",
   "execution_count": 28,
   "id": "57f8226b",
   "metadata": {},
   "outputs": [
    {
     "name": "stdout",
     "output_type": "stream",
     "text": [
      "Variable data:\n",
      "DataFrame shape: (35635, 3)\n",
      "--------------------------------------------------\n",
      "                   ensembl_id  ncounts  ncells\n",
      "gene_symbol                                   \n",
      "MIR1302-10    ENSG00000243485      0.0       0\n",
      "FAM138A       ENSG00000237613      0.0       0\n",
      "OR4F5         ENSG00000186092      0.0       0\n",
      "RP11-34P13.7  ENSG00000238009      0.0       0\n",
      "RP11-34P13.8  ENSG00000239945      1.0       1\n",
      "...                       ...      ...     ...\n",
      "MT-ND4L       ENSG00000212907      0.0       0\n",
      "MT-ND4        ENSG00000198886      0.0       0\n",
      "MT-ND5        ENSG00000198786      0.0       0\n",
      "MT-ND6        ENSG00000198695      0.0       0\n",
      "MT-CYB        ENSG00000198727      0.0       0\n",
      "\n",
      "[35635 rows x 3 columns]\n",
      "--------------------------------------------------\n"
     ]
    }
   ],
   "source": [
    "cur_data.show_var()"
   ]
  },
  {
   "cell_type": "code",
   "execution_count": 29,
   "id": "f261e5b3",
   "metadata": {},
   "outputs": [
    {
     "name": "stdout",
     "output_type": "stream",
     "text": [
      "Converted 30910/35635 gene symbols/ENSG IDs to standardized gene symbols/ENSG IDs\n",
      "--------------------------------------------------\n"
     ]
    }
   ],
   "source": [
    "cur_data.standardize_genes(\n",
    "    slot=\"var\", input_column=\"ensembl_id\", input_column_type=\"ensembl_gene_id\"\n",
    ")"
   ]
  },
  {
   "cell_type": "markdown",
   "id": "a14525cf",
   "metadata": {},
   "source": [
    "### Validate var metadata"
   ]
  },
  {
   "cell_type": "code",
   "execution_count": 30,
   "id": "2ec86d65",
   "metadata": {},
   "outputs": [
    {
     "name": "stdout",
     "output_type": "stream",
     "text": [
      "adata.var is valid according to the var_schema.\n",
      "Validated data:\n"
     ]
    },
    {
     "data": {
      "application/vnd.microsoft.datawrangler.viewer.v0+json": {
       "columns": [
        {
         "name": "index",
         "rawType": "object",
         "type": "string"
        },
        {
         "name": "ensembl_gene_id",
         "rawType": "object",
         "type": "string"
        },
        {
         "name": "gene_symbol",
         "rawType": "object",
         "type": "unknown"
        }
       ],
       "ref": "07d92286-485e-4127-9544-fde6718e7b91",
       "rows": [
        [
         "MIR1302-10",
         "ENSG00000243485",
         "MIR1302-2HG"
        ],
        [
         "FAM138A",
         "ENSG00000237613",
         "FAM138A"
        ],
        [
         "OR4F5",
         "ENSG00000186092",
         "OR4F5"
        ],
        [
         "RP11-34P13.7",
         "ENSG00000238009",
         null
        ],
        [
         "RP11-34P13.8",
         "ENSG00000239945",
         null
        ],
        [
         "AL627309.1",
         "ENSG00000237683",
         null
        ],
        [
         "RP11-34P13.14",
         "ENSG00000239906",
         null
        ],
        [
         "RP11-34P13.9",
         "ENSG00000241599",
         null
        ],
        [
         "AP006222.2",
         "ENSG00000228463",
         null
        ],
        [
         "RP4-669L17.10",
         "ENSG00000237094",
         null
        ],
        [
         "OR4F29",
         "ENSG00000235249",
         null
        ],
        [
         "RP4-669L17.2",
         "ENSG00000236601",
         null
        ],
        [
         "RP5-857K21.15",
         "ENSG00000236743",
         null
        ],
        [
         "RP5-857K21.1",
         "ENSG00000231709",
         null
        ],
        [
         "RP5-857K21.2",
         "ENSG00000235146",
         null
        ],
        [
         "RP5-857K21.3",
         "ENSG00000239664",
         null
        ],
        [
         "RP5-857K21.4",
         "ENSG00000230021",
         null
        ],
        [
         "RP5-857K21.5",
         "ENSG00000223659",
         null
        ],
        [
         "OR4F16",
         "ENSG00000185097",
         null
        ],
        [
         "RP11-206L10.3",
         "ENSG00000235373",
         null
        ],
        [
         "RP11-206L10.5",
         "ENSG00000240618",
         null
        ],
        [
         "RP11-206L10.4",
         "ENSG00000229905",
         null
        ],
        [
         "RP11-206L10.2",
         "ENSG00000228327",
         null
        ],
        [
         "RP11-206L10.9",
         "ENSG00000237491",
         "LINC01409"
        ],
        [
         "AL669831.1",
         "ENSG00000269831",
         null
        ],
        [
         "FAM87B",
         "ENSG00000177757",
         "FAM87B"
        ],
        [
         "LINC00115",
         "ENSG00000225880",
         "LINC00115"
        ],
        [
         "FAM41C",
         "ENSG00000230368",
         "FAM41C"
        ],
        [
         "AL645608.2",
         "ENSG00000269308",
         null
        ],
        [
         "RP11-54O7.16",
         "ENSG00000272438",
         null
        ],
        [
         "RP11-54O7.1",
         "ENSG00000230699",
         null
        ],
        [
         "RP11-54O7.2",
         "ENSG00000241180",
         null
        ],
        [
         "RP11-54O7.3",
         "ENSG00000223764",
         "LINC02593"
        ],
        [
         "SAMD11",
         "ENSG00000187634",
         "SAMD11"
        ],
        [
         "AL645608.1",
         "ENSG00000268179",
         null
        ],
        [
         "NOC2L",
         "ENSG00000188976",
         "NOC2L"
        ],
        [
         "KLHL17",
         "ENSG00000187961",
         "KLHL17"
        ],
        [
         "PLEKHN1",
         "ENSG00000187583",
         "PLEKHN1"
        ],
        [
         "C1orf170",
         "ENSG00000187642",
         "PERM1"
        ],
        [
         "RP11-54O7.17",
         "ENSG00000272512",
         null
        ],
        [
         "HES4",
         "ENSG00000188290",
         "HES4"
        ],
        [
         "RP11-54O7.11",
         "ENSG00000224969",
         null
        ],
        [
         "ISG15",
         "ENSG00000187608",
         "ISG15"
        ],
        [
         "AGRN",
         "ENSG00000188157",
         "AGRN"
        ],
        [
         "RP11-54O7.18",
         "ENSG00000273443",
         null
        ],
        [
         "RNF223",
         "ENSG00000237330",
         "RNF223"
        ],
        [
         "C1orf159",
         "ENSG00000131591",
         "C1orf159"
        ],
        [
         "RP11-465B22.5",
         "ENSG00000223823",
         "LINC01342"
        ],
        [
         "RP11-465B22.8",
         "ENSG00000272141",
         null
        ],
        [
         "TTLL10-AS1",
         "ENSG00000205231",
         "TTLL10-AS1"
        ]
       ],
       "shape": {
        "columns": 2,
        "rows": 35635
       }
      },
      "text/html": [
       "<div>\n",
       "<style scoped>\n",
       "    .dataframe tbody tr th:only-of-type {\n",
       "        vertical-align: middle;\n",
       "    }\n",
       "\n",
       "    .dataframe tbody tr th {\n",
       "        vertical-align: top;\n",
       "    }\n",
       "\n",
       "    .dataframe thead th {\n",
       "        text-align: right;\n",
       "    }\n",
       "</style>\n",
       "<table border=\"1\" class=\"dataframe\">\n",
       "  <thead>\n",
       "    <tr style=\"text-align: right;\">\n",
       "      <th></th>\n",
       "      <th>ensembl_gene_id</th>\n",
       "      <th>gene_symbol</th>\n",
       "    </tr>\n",
       "    <tr>\n",
       "      <th>index</th>\n",
       "      <th></th>\n",
       "      <th></th>\n",
       "    </tr>\n",
       "  </thead>\n",
       "  <tbody>\n",
       "    <tr>\n",
       "      <th>MIR1302-10</th>\n",
       "      <td>ENSG00000243485</td>\n",
       "      <td>MIR1302-2HG</td>\n",
       "    </tr>\n",
       "    <tr>\n",
       "      <th>FAM138A</th>\n",
       "      <td>ENSG00000237613</td>\n",
       "      <td>FAM138A</td>\n",
       "    </tr>\n",
       "    <tr>\n",
       "      <th>OR4F5</th>\n",
       "      <td>ENSG00000186092</td>\n",
       "      <td>OR4F5</td>\n",
       "    </tr>\n",
       "    <tr>\n",
       "      <th>RP11-34P13.7</th>\n",
       "      <td>ENSG00000238009</td>\n",
       "      <td>None</td>\n",
       "    </tr>\n",
       "    <tr>\n",
       "      <th>RP11-34P13.8</th>\n",
       "      <td>ENSG00000239945</td>\n",
       "      <td>None</td>\n",
       "    </tr>\n",
       "    <tr>\n",
       "      <th>...</th>\n",
       "      <td>...</td>\n",
       "      <td>...</td>\n",
       "    </tr>\n",
       "    <tr>\n",
       "      <th>MT-ND4L</th>\n",
       "      <td>ENSG00000212907</td>\n",
       "      <td>MT-ND4L</td>\n",
       "    </tr>\n",
       "    <tr>\n",
       "      <th>MT-ND4</th>\n",
       "      <td>ENSG00000198886</td>\n",
       "      <td>MT-ND4</td>\n",
       "    </tr>\n",
       "    <tr>\n",
       "      <th>MT-ND5</th>\n",
       "      <td>ENSG00000198786</td>\n",
       "      <td>MT-ND5</td>\n",
       "    </tr>\n",
       "    <tr>\n",
       "      <th>MT-ND6</th>\n",
       "      <td>ENSG00000198695</td>\n",
       "      <td>MT-ND6</td>\n",
       "    </tr>\n",
       "    <tr>\n",
       "      <th>MT-CYB</th>\n",
       "      <td>ENSG00000198727</td>\n",
       "      <td>MT-CYB</td>\n",
       "    </tr>\n",
       "  </tbody>\n",
       "</table>\n",
       "<p>35635 rows × 2 columns</p>\n",
       "</div>"
      ],
      "text/plain": [
       "              ensembl_gene_id  gene_symbol\n",
       "index                                     \n",
       "MIR1302-10    ENSG00000243485  MIR1302-2HG\n",
       "FAM138A       ENSG00000237613      FAM138A\n",
       "OR4F5         ENSG00000186092        OR4F5\n",
       "RP11-34P13.7  ENSG00000238009         None\n",
       "RP11-34P13.8  ENSG00000239945         None\n",
       "...                       ...          ...\n",
       "MT-ND4L       ENSG00000212907      MT-ND4L\n",
       "MT-ND4        ENSG00000198886       MT-ND4\n",
       "MT-ND5        ENSG00000198786       MT-ND5\n",
       "MT-ND6        ENSG00000198695       MT-ND6\n",
       "MT-CYB        ENSG00000198727       MT-CYB\n",
       "\n",
       "[35635 rows x 2 columns]"
      ]
     },
     "metadata": {},
     "output_type": "display_data"
    }
   ],
   "source": [
    "cur_data.validate_data(slot='var')"
   ]
  },
  {
   "cell_type": "markdown",
   "id": "a58f6a6b",
   "metadata": {},
   "source": [
    "# Metadata curation"
   ]
  },
  {
   "cell_type": "markdown",
   "id": "b4dd708c",
   "metadata": {},
   "source": [
    "### Auto-populate available metadata"
   ]
  },
  {
   "cell_type": "code",
   "execution_count": 31,
   "id": "2a185835",
   "metadata": {},
   "outputs": [
    {
     "name": "stdout",
     "output_type": "stream",
     "text": [
      "Experiment metadata populated with available fields from adata.obs:\n",
      "--------------------------------------------------\n",
      "{'associated_diseases': [{'term_id': 'MONDO:0011996',\n",
      "                          'term_label': 'chronic myelogenous leukemia, '\n",
      "                                        'BCR-ABL1 positive'}],\n",
      " 'experiment': {'number_of_perturbed_cells': 5752,\n",
      "                'number_of_perturbed_targets': 8,\n",
      "                'perturbation_type': [{'term_id': None,\n",
      "                                       'term_label': 'CRISPRi'}],\n",
      "                'perturbed_target_biotype': ['protein_coding', 'control'],\n",
      "                'perturbed_targets': ['ENSG00000118260',\n",
      "                                      'ENSG00000124216',\n",
      "                                      'control',\n",
      "                                      'ENSG00000100393',\n",
      "                                      'ENSG00000162664',\n",
      "                                      'ENSG00000134107',\n",
      "                                      'ENSG00000066336',\n",
      "                                      'ENSG00000175197'],\n",
      "                'timepoints': ['P0DT0H0M0S'],\n",
      "                'treatments': [{'term_id': None, 'term_label': None}]},\n",
      " 'model_system': {'cell_line': [{'term_id': 'CLO:0007050',\n",
      "                                 'term_label': 'K 562 cell'}],\n",
      "                  'cell_type': [{'term_id': 'CL:0017005',\n",
      "                                 'term_label': 'lymphoblast'}],\n",
      "                  'developmental_stage': [{'term_id': None,\n",
      "                                           'term_label': 'adult'}],\n",
      "                  'model_system': [{'term_id': None,\n",
      "                                    'term_label': 'cell line'}],\n",
      "                  'sex': [{'term_id': None, 'term_label': 'female'}],\n",
      "                  'tissue': [{'term_id': 'UBERON:0000178',\n",
      "                              'term_label': 'blood'}]}}\n",
      "--------------------------------------------------\n"
     ]
    }
   ],
   "source": [
    "cur_data.populate_exp_metadata()"
   ]
  },
  {
   "cell_type": "markdown",
   "id": "eff7ffa3",
   "metadata": {},
   "source": [
    "### Manually curate metadata"
   ]
  },
  {
   "cell_type": "markdown",
   "id": "1efd71d2",
   "metadata": {},
   "source": [
    "Study details"
   ]
  },
  {
   "cell_type": "code",
   "execution_count": 32,
   "id": "fa6be3ac",
   "metadata": {},
   "outputs": [
    {
     "name": "stdout",
     "output_type": "stream",
     "text": [
      "Metadata for 'study' successfully validated:\n",
      "--------------------------------------------------\n",
      "{'first_author': {'first_name': 'Britt', 'last_name': 'Adamson'},\n",
      " 'last_author': {'first_name': 'Jonathan', 'last_name': 'Weissman'},\n",
      " 'study_uri': 'https://doi.org/10.1016/j.cell.2016.11.048',\n",
      " 'title': 'A Multiplexed Single-Cell CRISPR Screening Platform Enables '\n",
      "          'Systematic Dissection of the Unfolded Protein Response',\n",
      " 'year': 2016}\n",
      "--------------------------------------------------\n"
     ]
    }
   ],
   "source": [
    "cur_data.add_exp_metadata(\n",
    "    metadata_slot='study',\n",
    "    metadata={\n",
    "        \"title\": \"A Multiplexed Single-Cell CRISPR Screening Platform Enables Systematic Dissection of the Unfolded Protein Response\",\n",
    "        \"study_uri\": \"https://doi.org/10.1016/j.cell.2016.11.048\",\n",
    "        \"year\": 2016,\n",
    "        \"first_author\": {\"first_name\": \"Britt\", \"last_name\": \"Adamson\"},\n",
    "        \"last_author\": {\"first_name\": \"Jonathan\", \"last_name\": \"Weissman\"},\n",
    "    }\n",
    ")"
   ]
  },
  {
   "cell_type": "markdown",
   "id": "6867b4b5",
   "metadata": {},
   "source": [
    "Experiment details"
   ]
  },
  {
   "cell_type": "code",
   "execution_count": 33,
   "id": "89f9b92e",
   "metadata": {},
   "outputs": [
    {
     "name": "stdout",
     "output_type": "stream",
     "text": [
      "Metadata for 'experiment' successfully validated:\n",
      "--------------------------------------------------\n",
      "{'number_of_perturbed_cells': 5752,\n",
      " 'number_of_perturbed_targets': 8,\n",
      " 'number_of_samples': 1,\n",
      " 'perturbation_type': [{'term_id': None, 'term_label': 'CRISPRi'}],\n",
      " 'perturbed_target_biotype': ['protein_coding', 'control'],\n",
      " 'perturbed_targets': ['ENSG00000118260',\n",
      "                       'ENSG00000124216',\n",
      "                       'control',\n",
      "                       'ENSG00000100393',\n",
      "                       'ENSG00000162664',\n",
      "                       'ENSG00000134107',\n",
      "                       'ENSG00000066336',\n",
      "                       'ENSG00000175197'],\n",
      " 'replicates': 'none',\n",
      " 'summary': 'In a pilot experiment, single-cell RNA-seq was performed on a '\n",
      "            'pool of individually transduced chronic myeloid leukemia cells '\n",
      "            '(K562) carrying 8 distinct guide barcodes, analyzing ∼6,000 cells '\n",
      "            'total.',\n",
      " 'timepoints': ['P0DT0H0M0S'],\n",
      " 'title': '6000 chronic myeloid leukemia (K562) cells transfected with gRNAs '\n",
      "          'against 7 transcription factors + 1 control',\n",
      " 'treatments': [{'term_id': None, 'term_label': None}]}\n",
      "--------------------------------------------------\n"
     ]
    }
   ],
   "source": [
    "cur_data.add_exp_metadata(\n",
    "    metadata_slot='experiment',\n",
    "    metadata={\n",
    "        \"title\": \"6000 chronic myeloid leukemia (K562) cells transfected with gRNAs against 7 transcription factors + 1 control\",\n",
    "        \"summary\": \"In a pilot experiment, single-cell RNA-seq was performed on a pool of individually transduced chronic myeloid leukemia cells (K562) carrying 8 distinct guide barcodes, analyzing \\u223c6,000 cells total.\",\n",
    "        \"replicates\": \"none\",\n",
    "        \"number_of_samples\": 1\n",
    "    }\n",
    ")"
   ]
  },
  {
   "cell_type": "markdown",
   "id": "27bc75b6",
   "metadata": {},
   "source": [
    "Perturbation details"
   ]
  },
  {
   "cell_type": "code",
   "execution_count": 34,
   "id": "6d51b203",
   "metadata": {},
   "outputs": [
    {
     "name": "stdout",
     "output_type": "stream",
     "text": [
      "Metadata for 'perturbation' successfully validated:\n",
      "--------------------------------------------------\n",
      "{'enzyme_delivery_method': {'term_id': None,\n",
      "                            'term_label': 'retroviral transduction'},\n",
      " 'enzyme_expression_control': {'term_id': None,\n",
      "                               'term_label': 'constitutive expression'},\n",
      " 'enzyme_integration_state': {'term_id': None,\n",
      "                              'term_label': 'random locus integration'},\n",
      " 'library': {'accession': None,\n",
      "             'grnas_per_gene': '1',\n",
      "             'lentiviral_generation': '3',\n",
      "             'library_format': {'term_id': None, 'term_label': 'pooled'},\n",
      "             'library_name': 'custom',\n",
      "             'library_perturbation_type': [{'term_id': None,\n",
      "                                            'term_label': 'inhibition'}],\n",
      "             'library_scope': {'term_id': None, 'term_label': 'focused'},\n",
      "             'manufacturer': 'Weissman',\n",
      "             'total_grnas': '8',\n",
      "             'total_variants': None},\n",
      " 'library_delivery_method': {'term_id': None,\n",
      "                             'term_label': 'lentiviral transduction'},\n",
      " 'library_expression_control': {'term_id': None,\n",
      "                                'term_label': 'constitutive expression'},\n",
      " 'library_generation_method': {'term_id': 'EFO:0022895',\n",
      "                               'term_label': 'dCas9-KRAB'},\n",
      " 'library_generation_type': {'term_id': 'EFO:0022868',\n",
      "                             'term_label': 'endogenous'},\n",
      " 'library_integration_state': {'term_id': None,\n",
      "                               'term_label': 'random locus integration'}}\n",
      "--------------------------------------------------\n"
     ]
    }
   ],
   "source": [
    "cur_data.add_exp_metadata(\n",
    "    metadata_slot='perturbation',\n",
    "    metadata={\n",
    "         \"library_generation_type\": {\n",
    "            \"term_id\": \"EFO:0022868\",\n",
    "            \"term_label\": \"endogenous\",\n",
    "        },\n",
    "        \"library_generation_method\": {\n",
    "            \"term_id\": \"EFO:0022895\",\n",
    "            \"term_label\": \"dCas9-KRAB\",\n",
    "        },\n",
    "        \"enzyme_delivery_method\": {\n",
    "            \"term_id\": None,\n",
    "            \"term_label\": \"retroviral transduction\",\n",
    "        },\n",
    "        \"library_delivery_method\": {\n",
    "            \"term_id\": None,\n",
    "            \"term_label\": \"lentiviral transduction\",\n",
    "        },\n",
    "        \"enzyme_integration_state\": {\n",
    "            \"term_id\": None,\n",
    "            \"term_label\": \"random locus integration\",\n",
    "        },\n",
    "        \"library_integration_state\": {\n",
    "            \"term_id\": None,\n",
    "            \"term_label\": \"random locus integration\",\n",
    "        },\n",
    "        \"enzyme_expression_control\": {\n",
    "            \"term_id\": None,\n",
    "            \"term_label\": \"constitutive expression\",\n",
    "        },\n",
    "        \"library_expression_control\": {\n",
    "            \"term_id\": None,\n",
    "            \"term_label\": \"constitutive expression\",\n",
    "        },\n",
    "        \"library\": {\n",
    "            \"library_name\": \"custom\",\n",
    "            \"accession\": None,\n",
    "            \"library_format\": {\n",
    "                \"term_id\": None,\n",
    "                \"term_label\": \"pooled\",\n",
    "            },\n",
    "            \"library_scope\": {\n",
    "                \"term_id\": None,\n",
    "                \"term_label\": \"focused\",\n",
    "            },\n",
    "            \"library_perturbation_type\": [\n",
    "                {\n",
    "                    \"term_id\": None,\n",
    "                    \"term_label\": \"inhibition\",\n",
    "                },\n",
    "            ],\n",
    "            \"manufacturer\": \"Weissman\",\n",
    "            \"lentiviral_generation\": \"3\",\n",
    "            \"grnas_per_gene\": \"1\",\n",
    "            \"total_grnas\": \"8\",\n",
    "            \"total_variants\": None\n",
    "        }\n",
    "    }\n",
    ")"
   ]
  },
  {
   "cell_type": "markdown",
   "id": "1e9178ec",
   "metadata": {},
   "source": [
    "Assay details"
   ]
  },
  {
   "cell_type": "code",
   "execution_count": 35,
   "id": "47344e9d",
   "metadata": {},
   "outputs": [
    {
     "name": "stdout",
     "output_type": "stream",
     "text": [
      "Metadata for 'assay' successfully validated:\n",
      "--------------------------------------------------\n",
      "{'method_name': {'term_id': None, 'term_label': 'Perturb-seq'},\n",
      " 'method_uri': None,\n",
      " 'readout_dimensionality': {'term_id': None,\n",
      "                            'term_label': 'high-dimensional assay'},\n",
      " 'readout_technology': {'term_id': None, 'term_label': 'single-cell rna-seq'},\n",
      " 'readout_type': {'term_id': None, 'term_label': 'transcriptomic'},\n",
      " 'reference_genome': {'term_id': None, 'term_label': 'GRCh37'},\n",
      " 'sequencing_library_kit': {'term_id': None,\n",
      "                            'term_label': '10x Genomics Single Cell 3-prime'},\n",
      " 'sequencing_platform': {'term_id': None, 'term_label': 'Illumina HiSeq 2500'},\n",
      " 'sequencing_strategy': {'term_id': None, 'term_label': 'barcode sequencing'},\n",
      " 'software_analysis': {'term_id': None, 'term_label': 'MAGeCK'},\n",
      " 'software_counts': {'term_id': None, 'term_label': 'CellRanger'}}\n",
      "--------------------------------------------------\n"
     ]
    }
   ],
   "source": [
    "cur_data.add_exp_metadata(\n",
    "    metadata_slot='assay',\n",
    "    metadata={\n",
    "        \"readout_dimensionality\": {\n",
    "            \"term_id\": None,\n",
    "            \"term_label\": \"high-dimensional assay\",\n",
    "        },\n",
    "        \"readout_type\": {\n",
    "            \"term_id\": None,\n",
    "            \"term_label\": \"transcriptomic\",\n",
    "        },\n",
    "        \"readout_technology\": {\n",
    "            \"term_id\": None,\n",
    "            \"term_label\": \"single-cell rna-seq\",\n",
    "        },\n",
    "        \"method_name\": {\n",
    "            \"term_id\": None,\n",
    "            \"term_label\": \"Perturb-seq\",\n",
    "        },\n",
    "        \"method_uri\": None,\n",
    "        \"sequencing_library_kit\": {\n",
    "            \"term_id\": None,\n",
    "            \"term_label\": \"10x Genomics Single Cell 3-prime\",\n",
    "        },\n",
    "        \"sequencing_platform\": {\"term_id\": None, \"term_label\": \"Illumina HiSeq 2500\"},\n",
    "        \"sequencing_strategy\": {\"term_id\": None, \"term_label\": \"barcode sequencing\"},\n",
    "        \"software_counts\": {\"term_id\": None, \"term_label\": \"CellRanger\"},\n",
    "        \"software_analysis\": {\"term_id\": None, \"term_label\": \"MAGeCK\"},\n",
    "        \"reference_genome\": {\n",
    "            \"term_id\": None,\n",
    "            \"term_label\": \"GRCh37\",\n",
    "        }\n",
    "    }\n",
    ")"
   ]
  },
  {
   "cell_type": "markdown",
   "id": "5e3a6c84",
   "metadata": {},
   "source": [
    "Model system details"
   ]
  },
  {
   "cell_type": "code",
   "execution_count": 36,
   "id": "998fdada",
   "metadata": {},
   "outputs": [
    {
     "name": "stdout",
     "output_type": "stream",
     "text": [
      "Metadata for 'model_system' successfully validated:\n",
      "--------------------------------------------------\n",
      "{'cell_line': [{'term_id': 'CLO:0007050', 'term_label': 'K 562 cell'}],\n",
      " 'cell_type': [{'term_id': 'CL:0017005', 'term_label': 'lymphoblast'}],\n",
      " 'developmental_stage': [{'term_id': None, 'term_label': 'adult'}],\n",
      " 'model_system': [{'term_id': None, 'term_label': 'cell line'}],\n",
      " 'passage_number': None,\n",
      " 'sex': [{'term_id': None, 'term_label': 'female'}],\n",
      " 'species': 'Homo sapiens',\n",
      " 'tissue': [{'term_id': 'UBERON:0000178', 'term_label': 'blood'}]}\n",
      "--------------------------------------------------\n"
     ]
    }
   ],
   "source": [
    "cur_data.add_exp_metadata(\n",
    "    metadata_slot='model_system',\n",
    "    metadata={\n",
    "        \"species\": \"Homo sapiens\",\n",
    "        \"passage_number\": None,\n",
    "        }\n",
    ")"
   ]
  },
  {
   "cell_type": "markdown",
   "id": "9d544302",
   "metadata": {},
   "source": [
    "Associated dataset details"
   ]
  },
  {
   "cell_type": "code",
   "execution_count": 37,
   "id": "c933bfa1",
   "metadata": {},
   "outputs": [
    {
     "name": "stdout",
     "output_type": "stream",
     "text": [
      "Metadata for 'associated_datasets' successfully validated:\n",
      "--------------------------------------------------\n",
      "[{'dataset_accession': 'GSM2406675',\n",
      "  'dataset_description': 'Raw counts',\n",
      "  'dataset_file_name': 'GSE90546_RAW.tar',\n",
      "  'dataset_uri': 'https://www.ncbi.nlm.nih.gov/geo/query/acc.cgi?acc=GSM2406675'},\n",
      " {'dataset_accession': 'GSM2406675_10X001',\n",
      "  'dataset_description': 'Processed .h5ad file',\n",
      "  'dataset_file_name': 'AdamsonWeissman2016_GSM2406675_10X001.h5ad',\n",
      "  'dataset_uri': 'https://zenodo.org/record/7041849/files/AdamsonWeissman2016_GSM2406675_10X001.h5ad'}]\n",
      "--------------------------------------------------\n"
     ]
    }
   ],
   "source": [
    "cur_data.add_exp_metadata(\n",
    "    metadata_slot='associated_datasets',\n",
    "    metadata=[\n",
    "        {\n",
    "            \"dataset_accession\": \"GSM2406675\",\n",
    "            \"dataset_uri\": \"https://www.ncbi.nlm.nih.gov/geo/query/acc.cgi?acc=GSM2406675\",\n",
    "            \"dataset_description\": \"Raw counts\",\n",
    "            \"dataset_file_name\": \"GSE90546_RAW.tar\",\n",
    "        },\n",
    "        {\n",
    "            \"dataset_accession\": \"GSM2406675_10X001\",\n",
    "            \"dataset_uri\": \"https://zenodo.org/record/7041849/files/AdamsonWeissman2016_GSM2406675_10X001.h5ad\",\n",
    "            \"dataset_description\": \"Processed .h5ad file\",\n",
    "            \"dataset_file_name\": \"AdamsonWeissman2016_GSM2406675_10X001.h5ad\",\n",
    "        }\n",
    "    ]\n",
    ")"
   ]
  },
  {
   "cell_type": "markdown",
   "id": "e5b82561",
   "metadata": {},
   "source": [
    "### Validate metadata"
   ]
  },
  {
   "cell_type": "code",
   "execution_count": 38,
   "id": "2a1724e1",
   "metadata": {},
   "outputs": [
    {
     "name": "stdout",
     "output_type": "stream",
     "text": [
      "Experiment metadata successfully validated:\n",
      "--------------------------------------------------\n",
      "{'assay': {'method_name': {'term_id': None, 'term_label': 'Perturb-seq'},\n",
      "           'method_uri': None,\n",
      "           'readout_dimensionality': {'term_id': None,\n",
      "                                      'term_label': 'high-dimensional assay'},\n",
      "           'readout_technology': {'term_id': None,\n",
      "                                  'term_label': 'single-cell rna-seq'},\n",
      "           'readout_type': {'term_id': None, 'term_label': 'transcriptomic'},\n",
      "           'reference_genome': {'term_id': None, 'term_label': 'GRCh37'},\n",
      "           'sequencing_library_kit': {'term_id': None,\n",
      "                                      'term_label': '10x Genomics Single Cell '\n",
      "                                                    '3-prime'},\n",
      "           'sequencing_platform': {'term_id': None,\n",
      "                                   'term_label': 'Illumina HiSeq 2500'},\n",
      "           'sequencing_strategy': {'term_id': None,\n",
      "                                   'term_label': 'barcode sequencing'},\n",
      "           'software_analysis': {'term_id': None, 'term_label': 'MAGeCK'},\n",
      "           'software_counts': {'term_id': None, 'term_label': 'CellRanger'}},\n",
      " 'associated_datasets': [{'dataset_accession': 'GSM2406675',\n",
      "                          'dataset_description': 'Raw counts',\n",
      "                          'dataset_file_name': 'GSE90546_RAW.tar',\n",
      "                          'dataset_uri': 'https://www.ncbi.nlm.nih.gov/geo/query/acc.cgi?acc=GSM2406675'},\n",
      "                         {'dataset_accession': 'GSM2406675_10X001',\n",
      "                          'dataset_description': 'Processed .h5ad file',\n",
      "                          'dataset_file_name': 'AdamsonWeissman2016_GSM2406675_10X001.h5ad',\n",
      "                          'dataset_uri': 'https://zenodo.org/record/7041849/files/AdamsonWeissman2016_GSM2406675_10X001.h5ad'}],\n",
      " 'associated_diseases': [{'term_id': 'MONDO:0011996',\n",
      "                          'term_label': 'chronic myelogenous leukemia, '\n",
      "                                        'BCR-ABL1 positive'}],\n",
      " 'experiment': {'number_of_perturbed_cells': 5752,\n",
      "                'number_of_perturbed_targets': 8,\n",
      "                'number_of_samples': 1,\n",
      "                'perturbation_type': [{'term_id': None,\n",
      "                                       'term_label': 'CRISPRi'}],\n",
      "                'perturbed_target_biotype': ['protein_coding', 'control'],\n",
      "                'perturbed_targets': ['ENSG00000118260',\n",
      "                                      'ENSG00000124216',\n",
      "                                      'control',\n",
      "                                      'ENSG00000100393',\n",
      "                                      'ENSG00000162664',\n",
      "                                      'ENSG00000134107',\n",
      "                                      'ENSG00000066336',\n",
      "                                      'ENSG00000175197'],\n",
      "                'replicates': 'none',\n",
      "                'summary': 'In a pilot experiment, single-cell RNA-seq was '\n",
      "                           'performed on a pool of individually transduced '\n",
      "                           'chronic myeloid leukemia cells (K562) carrying 8 '\n",
      "                           'distinct guide barcodes, analyzing ∼6,000 cells '\n",
      "                           'total.',\n",
      "                'timepoints': ['P0DT0H0M0S'],\n",
      "                'title': '6000 chronic myeloid leukemia (K562) cells '\n",
      "                         'transfected with gRNAs against 7 transcription '\n",
      "                         'factors + 1 control',\n",
      "                'treatments': [{'term_id': None, 'term_label': None}]},\n",
      " 'model_system': {'cell_line': [{'term_id': 'CLO:0007050',\n",
      "                                 'term_label': 'K 562 cell'}],\n",
      "                  'cell_type': [{'term_id': 'CL:0017005',\n",
      "                                 'term_label': 'lymphoblast'}],\n",
      "                  'developmental_stage': [{'term_id': None,\n",
      "                                           'term_label': 'adult'}],\n",
      "                  'model_system': [{'term_id': None,\n",
      "                                    'term_label': 'cell line'}],\n",
      "                  'passage_number': None,\n",
      "                  'sex': [{'term_id': None, 'term_label': 'female'}],\n",
      "                  'species': 'Homo sapiens',\n",
      "                  'tissue': [{'term_id': 'UBERON:0000178',\n",
      "                              'term_label': 'blood'}]},\n",
      " 'perturbation': {'enzyme_delivery_method': {'term_id': None,\n",
      "                                             'term_label': 'retroviral '\n",
      "                                                           'transduction'},\n",
      "                  'enzyme_expression_control': {'term_id': None,\n",
      "                                                'term_label': 'constitutive '\n",
      "                                                              'expression'},\n",
      "                  'enzyme_integration_state': {'term_id': None,\n",
      "                                               'term_label': 'random locus '\n",
      "                                                             'integration'},\n",
      "                  'library': {'accession': None,\n",
      "                              'grnas_per_gene': '1',\n",
      "                              'lentiviral_generation': '3',\n",
      "                              'library_format': {'term_id': None,\n",
      "                                                 'term_label': 'pooled'},\n",
      "                              'library_name': 'custom',\n",
      "                              'library_perturbation_type': [{'term_id': None,\n",
      "                                                             'term_label': 'inhibition'}],\n",
      "                              'library_scope': {'term_id': None,\n",
      "                                                'term_label': 'focused'},\n",
      "                              'manufacturer': 'Weissman',\n",
      "                              'total_grnas': '8',\n",
      "                              'total_variants': None},\n",
      "                  'library_delivery_method': {'term_id': None,\n",
      "                                              'term_label': 'lentiviral '\n",
      "                                                            'transduction'},\n",
      "                  'library_expression_control': {'term_id': None,\n",
      "                                                 'term_label': 'constitutive '\n",
      "                                                               'expression'},\n",
      "                  'library_generation_method': {'term_id': 'EFO:0022895',\n",
      "                                                'term_label': 'dCas9-KRAB'},\n",
      "                  'library_generation_type': {'term_id': 'EFO:0022868',\n",
      "                                              'term_label': 'endogenous'},\n",
      "                  'library_integration_state': {'term_id': None,\n",
      "                                                'term_label': 'random locus '\n",
      "                                                              'integration'}},\n",
      " 'study': {'first_author': {'first_name': 'Britt', 'last_name': 'Adamson'},\n",
      "           'last_author': {'first_name': 'Jonathan', 'last_name': 'Weissman'},\n",
      "           'study_uri': 'https://doi.org/10.1016/j.cell.2016.11.048',\n",
      "           'title': 'A Multiplexed Single-Cell CRISPR Screening Platform '\n",
      "                    'Enables Systematic Dissection of the Unfolded Protein '\n",
      "                    'Response',\n",
      "           'year': 2016}}\n",
      "--------------------------------------------------\n"
     ]
    }
   ],
   "source": [
    "cur_data.validate_exp_metadata()"
   ]
  },
  {
   "cell_type": "markdown",
   "id": "3d5f923e",
   "metadata": {},
   "source": [
    "# Save the dataset"
   ]
  },
  {
   "cell_type": "code",
   "execution_count": 39,
   "id": "82e85860",
   "metadata": {},
   "outputs": [
    {
     "name": "stderr",
     "output_type": "stream",
     "text": [
      "/Users/zakirov/Documents/GitHub/PerturbationCatalogue/data_exploration/Perturbseq/curation_notebooks/tools/curation_tools.py:87: FutureWarning: Downcasting object dtype arrays on .fillna, .ffill, .bfill is deprecated and will change in a future version. Call result.infer_objects(copy=False) instead. To opt-in to the future behavior, set `pd.set_option('future.no_silent_downcasting', True)`\n",
      "  adata.obs = adata.obs.fillna(value=np.nan)\n"
     ]
    },
    {
     "name": "stdout",
     "output_type": "stream",
     "text": [
      "Curated data saved to ../curated/h5ad/adamson_2016_pilot_curated.h5ad\n"
     ]
    }
   ],
   "source": [
    "cur_data.save_curated_data()"
   ]
  }
 ],
 "metadata": {
  "kernelspec": {
   "display_name": ".venv",
   "language": "python",
   "name": "python3"
  },
  "language_info": {
   "codemirror_mode": {
    "name": "ipython",
    "version": 3
   },
   "file_extension": ".py",
   "mimetype": "text/x-python",
   "name": "python",
   "nbconvert_exporter": "python",
   "pygments_lexer": "ipython3",
   "version": "3.12.8"
  }
 },
 "nbformat": 4,
 "nbformat_minor": 5
}
